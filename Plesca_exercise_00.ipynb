{
 "cells": [
  {
   "cell_type": "markdown",
   "id": "6de25c10",
   "metadata": {},
   "source": [
    "# CS 345 Exercise_00\n",
    "This exercise provides a short reminder of key features of Python that are relevant to this course, including data types, logical operators and functions.\n",
    "\n",
    "Please change the file name to match this format before submitting your excercise for grading\n",
    "\n",
    "    <last_name>_excercise_00.ipynb"
   ]
  },
  {
   "cell_type": "markdown",
   "id": "21046d5c",
   "metadata": {},
   "source": [
    " In Cell 01, write code to create a variable named *foo*. You may assign whatever value you like to this variable.\n",
    " \n",
    " Then print out your variable in the end."
   ]
  },
  {
   "cell_type": "code",
   "execution_count": 1,
   "id": "491484aa",
   "metadata": {},
   "outputs": [
    {
     "name": "stdout",
     "output_type": "stream",
     "text": [
      "8\n"
     ]
    }
   ],
   "source": [
    "# Cell 01\n",
    "\n",
    "foo = 8\n",
    "print(foo)"
   ]
  },
  {
   "cell_type": "markdown",
   "id": "3a86ec8f",
   "metadata": {},
   "source": [
    "In Cell 02, write code to check the type of variable you created using Python's `type` built-in function."
   ]
  },
  {
   "cell_type": "code",
   "execution_count": 2,
   "id": "1ef72bec",
   "metadata": {},
   "outputs": [
    {
     "data": {
      "text/plain": [
       "int"
      ]
     },
     "execution_count": 2,
     "metadata": {},
     "output_type": "execute_result"
    }
   ],
   "source": [
    "# Cell 02\n",
    "\n",
    "type(foo)"
   ]
  },
  {
   "cell_type": "markdown",
   "id": "0bd9402b",
   "metadata": {},
   "source": [
    "In cell 03, write code to create a new list that doubles the floating point and integer elements in *a_list* by using **list comprehensions**.  To be clear, you can first write this using a for loop - but you must include a version using **list comprehensions**. \n",
    "Name your new list as *a_double_list*. Remember to print out your list at the end."
   ]
  },
  {
   "cell_type": "code",
   "execution_count": 3,
   "id": "b5435502",
   "metadata": {},
   "outputs": [
    {
     "name": "stdout",
     "output_type": "stream",
     "text": [
      "[7.8, 11.6, 14, 6]\n"
     ]
    }
   ],
   "source": [
    "# Cell 03\n",
    "a_list = [3.9, '4', 5.8, 'a', 7, 'c', 3, 'L']\n",
    "\n",
    "\n",
    "a_double_list = [i * 2 for i in a_list if type(i) in (int, float)]\n",
    "\n",
    "print (a_double_list)\n"
   ]
  },
  {
   "cell_type": "markdown",
   "id": "eb518bc6",
   "metadata": {},
   "source": [
    "In Cell 04, write code to create a list that contains a **geometric sequence** with five numbers, given the initial value 5 and a common ratio of 3. That is, you should follow the equation below to compute the ith element of your list:\n",
    "$$i = \\frac{i + 1}{3} $$\n",
    "\n",
    "Name your list as *geo_list*. Remember to print out your list at the end."
   ]
  },
  {
   "cell_type": "code",
   "execution_count": 6,
   "id": "173377ce",
   "metadata": {},
   "outputs": [
    {
     "name": "stdout",
     "output_type": "stream",
     "text": [
      "[5, 15, 45, 135, 405]\n"
     ]
    }
   ],
   "source": [
    "# Cell 04\n",
    "\n",
    "geo_list = [5]\n",
    "for i in range(4):\n",
    "    geo_list.append(geo_list[-1] * 3)\n",
    "    \n",
    "geo_list2 = [5 * 3**i for i in range(5)]\n",
    "\n",
    "print(geo_list)\n",
    "# [5, 15, 45, 135, 405]"
   ]
  },
  {
   "cell_type": "markdown",
   "id": "b172e202",
   "metadata": {},
   "source": [
    "In Cell 05, write code to print out the last element of your *geo_list*  by using the related **index**."
   ]
  },
  {
   "cell_type": "code",
   "execution_count": 7,
   "id": "e054faeb",
   "metadata": {},
   "outputs": [
    {
     "name": "stdout",
     "output_type": "stream",
     "text": [
      "405\n"
     ]
    }
   ],
   "source": [
    "# Cell 05\n",
    "\n",
    "print(geo_list[-1])"
   ]
  },
  {
   "cell_type": "markdown",
   "id": "3d28357a",
   "metadata": {},
   "source": [
    "In Cell 06, write code to create a new list that contains the elements of *geo_list* in reverse order. Name your new list as *geo_reverse_list*. Remember to print out your list at the end. "
   ]
  },
  {
   "cell_type": "code",
   "execution_count": 9,
   "id": "d7be8de2",
   "metadata": {},
   "outputs": [
    {
     "name": "stdout",
     "output_type": "stream",
     "text": [
      "[405, 135, 45, 15, 5]\n"
     ]
    }
   ],
   "source": [
    "# Cell 06\n",
    "\n",
    "# using python slice notation\n",
    "geo_reverse_list = geo_list[::-1]\n",
    "\n",
    "print(geo_reverse_list)\n",
    "    "
   ]
  },
  {
   "cell_type": "markdown",
   "id": "3d8507ef",
   "metadata": {},
   "source": [
    "In Cell 07, write code to create a function called **is_sorted()** that receives a list as input and returns True if it's sorted in descending order, and False otherwise. Use such function to check if your *geo_traverse_list* is in the descending order."
   ]
  },
  {
   "cell_type": "code",
   "execution_count": 11,
   "id": "24e3844a",
   "metadata": {},
   "outputs": [
    {
     "data": {
      "text/plain": [
       "True"
      ]
     },
     "execution_count": 11,
     "metadata": {},
     "output_type": "execute_result"
    }
   ],
   "source": [
    "# Cell 07\n",
    "\n",
    "def is_sorted(list):\n",
    "    for index in range(1, len(list)):\n",
    "        if list[index] > list[index - 1] : return False\n",
    "    \n",
    "    return True\n",
    "\n",
    "is_sorted(geo_reverse_list)"
   ]
  },
  {
   "cell_type": "code",
   "execution_count": null,
   "id": "97b03eef",
   "metadata": {},
   "outputs": [],
   "source": []
  },
  {
   "cell_type": "code",
   "execution_count": null,
   "id": "428818c0",
   "metadata": {},
   "outputs": [],
   "source": []
  }
 ],
 "metadata": {
  "kernelspec": {
   "display_name": "Python 3",
   "language": "python",
   "name": "python3"
  },
  "language_info": {
   "codemirror_mode": {
    "name": "ipython",
    "version": 3
   },
   "file_extension": ".py",
   "mimetype": "text/x-python",
   "name": "python",
   "nbconvert_exporter": "python",
   "pygments_lexer": "ipython3",
   "version": "3.9.6"
  }
 },
 "nbformat": 4,
 "nbformat_minor": 5
}
