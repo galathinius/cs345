{
 "cells": [
  {
   "cell_type": "markdown",
   "id": "80d166f3",
   "metadata": {
    "id": "80d166f3"
   },
   "source": [
    "## CS 345 Exercise_01\n",
    "\n",
    "This exercise provides a short reminder of key features of Numpy that are relevant to this course, including built in functions, linear algebra operations, random number generation and Boolean indexing. For every single cell, we will have the expected output shown below. Please take that as your reference.\n",
    "\n",
    "Please change the file name to match this format before submitting your excercise for grading\n",
    "\n",
    "    <last_name>_excercise_00.ipynb"
   ]
  },
  {
   "cell_type": "code",
   "execution_count": 1,
   "id": "9beb5617",
   "metadata": {
    "id": "9beb5617"
   },
   "outputs": [],
   "source": [
    "import numpy as np\n",
    "from numpy.random import default_rng"
   ]
  },
  {
   "cell_type": "markdown",
   "id": "fe649333",
   "metadata": {
    "id": "fe649333"
   },
   "source": [
    "Given the Numpy array *my_array* and *my_list* below, demonstrate the speed advantage of Numpy arrays.\n"
   ]
  },
  {
   "cell_type": "code",
   "execution_count": 2,
   "id": "44de556e",
   "metadata": {
    "id": "44de556e"
   },
   "outputs": [],
   "source": [
    "my_array = np.arange(1000000)\n",
    "my_list = list(range(1000000))"
   ]
  },
  {
   "cell_type": "markdown",
   "id": "b1a29c63",
   "metadata": {
    "id": "b1a29c63"
   },
   "source": [
    "In Cell 01, write code to square each number in the Numpy array and list, then use `%time` function to measure the execution time of your code. Noted that the running time will differ from a different machine, and your results of Cell 01 do not need to be exactly the same as the results shown below."
   ]
  },
  {
   "cell_type": "code",
   "execution_count": 4,
   "id": "8f083e22",
   "metadata": {
    "id": "8f083e22",
    "outputId": "a57177cc-ed8d-4015-9691-adab6180c156"
   },
   "outputs": [
    {
     "name": "stdout",
     "output_type": "stream",
     "text": [
      "Numpy Array:\n",
      "CPU times: user 7.45 ms, sys: 7.97 ms, total: 15.4 ms\n",
      "Wall time: 11 ms\n",
      "Python List:\n",
      "CPU times: user 298 ms, sys: 7.88 ms, total: 306 ms\n",
      "Wall time: 307 ms\n"
     ]
    }
   ],
   "source": [
    "# Cell 01\n",
    "\n",
    "print('Numpy Array:')\n",
    "\n",
    "%time my_array = my_array ** 2\n",
    "\n",
    "\n",
    "print('Python List:')\n",
    "\n",
    "%time my_list = [i ** 2 for i in my_list]\n",
    "\n",
    "\n",
    "# Numpy Array:\n",
    "# CPU times: user 0 ns, sys: 7.11 ms, total: 7.11 ms\n",
    "# Wall time: 5.77 ms\n",
    "# Python List:\n",
    "# CPU times: user 229 ms, sys: 13.9 ms, total: 242 ms\n",
    "# Wall time: 241 ms"
   ]
  },
  {
   "cell_type": "markdown",
   "id": "918e5ecb",
   "metadata": {
    "id": "918e5ecb"
   },
   "source": [
    "In Cell 02, write code to extract all the even numbers from the *array_1* below, put your results into a new array called *array_1_even* . Print your *array_1_even* out at the end."
   ]
  },
  {
   "cell_type": "code",
   "execution_count": 6,
   "id": "949dddaa",
   "metadata": {
    "id": "949dddaa",
    "outputId": "7b89d0f1-61c0-4ef5-93a1-3209e1b786d9"
   },
   "outputs": [
    {
     "name": "stdout",
     "output_type": "stream",
     "text": [
      "array_1_even: [0 2 4 6 8]\n"
     ]
    }
   ],
   "source": [
    "# Cell 02\n",
    "array_1 = np.arange(10)\n",
    "\n",
    "intermediary_array = array_1 % 2 == 0\n",
    "array_1_even = array_1[intermediary_array]\n",
    "'''\n",
    "Write your code here.\n",
    "'''\n",
    "\n",
    "print('array_1_even:', array_1_even)"
   ]
  },
  {
   "cell_type": "markdown",
   "id": "0c6ffe74",
   "metadata": {
    "id": "0c6ffe74"
   },
   "source": [
    "In Cell 03, write your code to create a new array called *array_1_copy* by duplicating the *array_1*, then replacing all the even numbers in *array_1_copy* by -1. Print your *array_1_copy* out at the end."
   ]
  },
  {
   "cell_type": "code",
   "execution_count": 9,
   "id": "72e302a0",
   "metadata": {
    "id": "72e302a0",
    "outputId": "3b74b24e-713a-46b3-ec46-c97dc8a9173a"
   },
   "outputs": [
    {
     "name": "stdout",
     "output_type": "stream",
     "text": [
      "array_1_copy: [ 0 -1  2 -1  4 -1  6 -1  8 -1]\n"
     ]
    }
   ],
   "source": [
    "# Cell 03\n",
    "\n",
    "\n",
    "array_1_copy = array_1.copy()\n",
    "array_1_copy[~intermediary_array ] = -1\n",
    "\n",
    "print('array_1_copy:', array_1_copy)"
   ]
  },
  {
   "cell_type": "markdown",
   "id": "b3274624",
   "metadata": {
    "id": "b3274624"
   },
   "source": [
    "In Cell 04, write your code to create a 4x4 array with random integers that range from (1, 100). Please set the seed of your random number generator as 42 and name your new array as *my_random_array*. Print your array out at the end. "
   ]
  },
  {
   "cell_type": "code",
   "execution_count": 10,
   "id": "2d6b38dc",
   "metadata": {
    "id": "2d6b38dc",
    "outputId": "68943eed-41d6-427e-c434-3e547f6e7627"
   },
   "outputs": [
    {
     "name": "stdout",
     "output_type": "stream",
     "text": [
      "my_random_array: \n",
      "\n",
      " [[ 9 77 65 44]\n",
      " [43 86  9 70]\n",
      " [20 10 53 97]\n",
      " [73 76 72 78]]\n"
     ]
    }
   ],
   "source": [
    "# Cell 04\n",
    "\n",
    "rng = default_rng(42)\n",
    "my_random_array = rng.integers(1, 100, size=(4, 4))\n",
    "\n",
    "\n",
    "print('my_random_array: \\n\\n', my_random_array)\n",
    "# [[ 9 77 65 44]\n",
    "#  [43 86  9 70]\n",
    "#  [20 10 53 97]\n",
    "#  [73 76 72 78]]"
   ]
  },
  {
   "cell_type": "markdown",
   "id": "cd47c589",
   "metadata": {
    "id": "cd47c589"
   },
   "source": [
    "In Cell 05, given a 2X4 array *a* below, write your code to swap row1 and row2 in *a* without changing your original array *a*, create a new array *a_swap* to store your results. Print your *a_swap* out at the end."
   ]
  },
  {
   "cell_type": "code",
   "execution_count": 12,
   "id": "be428c28",
   "metadata": {
    "id": "be428c28",
    "outputId": "954643ef-b550-4591-b3b1-571f0c4db6fd"
   },
   "outputs": [
    {
     "name": "stdout",
     "output_type": "stream",
     "text": [
      "a_swap: \n",
      "\n",
      " [[4 2 9 8 6]\n",
      " [5 2 8 5 5]]\n"
     ]
    }
   ],
   "source": [
    "# Cell 05\n",
    "a = np.array([[5, 2, 8, 5, 5],\n",
    "        [4, 2, 9, 8, 6]])\n",
    "\n",
    "\n",
    "a_swap = a.copy()[[1, 0]]\n",
    "\n",
    "print('a_swap: \\n\\n', a_swap)\n",
    "# [[4 2 9 8 6]\n",
    "#  [5 2 8 5 5]]"
   ]
  },
  {
   "cell_type": "markdown",
   "id": "f81e0a2f",
   "metadata": {
    "id": "f81e0a2f"
   },
   "source": [
    "In Cell 06, give the array *a* and *b* bellow, create a new array called *a_b* by stacking those two arrays horizontally. Print your *a_b* out at the end."
   ]
  },
  {
   "cell_type": "code",
   "execution_count": 14,
   "id": "611d4697",
   "metadata": {
    "id": "611d4697",
    "outputId": "c8fa2397-7508-4d29-d854-2e9ff3ada465"
   },
   "outputs": [
    {
     "name": "stdout",
     "output_type": "stream",
     "text": [
      "a_b: \n",
      "\n",
      " [[5 2 8 5 5 4 8 5 4 5]\n",
      " [4 2 9 8 6 3 1 5 8 1]]\n"
     ]
    }
   ],
   "source": [
    "# Cell 06\n",
    "a = np.array([[5, 2, 8, 5, 5],\n",
    "        [4, 2, 9, 8, 6]])\n",
    "b = np.array([[4, 8, 5, 4, 5],\n",
    "        [3, 1, 5, 8, 1]])\n",
    "\n",
    "a_b = np.hstack([a, b])\n",
    "\n",
    "print('a_b: \\n\\n', a_b)"
   ]
  },
  {
   "cell_type": "markdown",
   "id": "8201c622",
   "metadata": {
    "id": "8201c622"
   },
   "source": [
    "In Cell 07, given arrays *a* and *b* below, write the code to set the items in array *a* to 0 if such item do not match the item in array *b* with the same positions. Noted that you don't need to create a new array here. Print the array *a* at the end."
   ]
  },
  {
   "cell_type": "code",
   "execution_count": 16,
   "id": "2bc1e40e",
   "metadata": {
    "id": "2bc1e40e",
    "outputId": "755e22c7-54e5-4f4d-9609-a5abcd2df4a2"
   },
   "outputs": [
    {
     "name": "stdout",
     "output_type": "stream",
     "text": [
      "a: \n",
      "\n",
      " [[0 0 0 0 5]\n",
      " [0 0 0 8 0]]\n"
     ]
    }
   ],
   "source": [
    "# Cell 07\n",
    "a = np.array([[5, 2, 8, 5, 5],\n",
    "        [4, 2, 9, 8, 6]]) \n",
    "b = np.array([[4, 8, 5, 4, 5],\n",
    "        [3, 1, 5, 8, 1]])\n",
    "\n",
    "\n",
    "a [a != b] = 0\n",
    "\n",
    "print('a: \\n\\n', a)"
   ]
  },
  {
   "cell_type": "markdown",
   "id": "d47c1436",
   "metadata": {
    "id": "d47c1436"
   },
   "source": [
    "In Cell 08, given a 6x5 array *array_2* bellow, write your own code to compute the mean value of each row. Put your results into a new array called *array_2_mean*. Print your *array_2_mean* out at the end.\n"
   ]
  },
  {
   "cell_type": "code",
   "execution_count": 23,
   "id": "1d4b65a6",
   "metadata": {
    "id": "1d4b65a6",
    "outputId": "d8678a4e-2b00-4ca4-ac1d-f267d8318e6e"
   },
   "outputs": [
    {
     "name": "stdout",
     "output_type": "stream",
     "text": [
      "array_2_mean: \n",
      "\n",
      " [15.028 12.786  7.51  13.246 10.638 10.306]\n"
     ]
    }
   ],
   "source": [
    "# Cell 08\n",
    "\n",
    "array_2 = np.array([[17.53, 18.55, 18.18, 10.8 , 10.08],\n",
    "       [ 6.64, 15.78, 14.51, 12.4 , 14.6 ],\n",
    "       [14.67,  2.02, 10.34,  3.79,  6.73],\n",
    "       [12.61,  5.4 , 19.07, 13.76, 15.39],\n",
    "       [ 1.82,  7.79,  5.41, 20.  , 18.17],\n",
    "       [10.01,  8.88, 17.27,  1.73, 13.64]])\n",
    "\n",
    "array_2_mean = np.mean(array_2, axis = 1)\n",
    "\n",
    "# array_2_mean = [np.mean(i) for i in array_2]\n",
    "\n",
    "print('array_2_mean: \\n\\n',array_2_mean)\n",
    "#  [15.028 12.786  7.51  13.246 10.638 10.306]"
   ]
  },
  {
   "cell_type": "markdown",
   "id": "cc6ddb0e",
   "metadata": {
    "id": "cc6ddb0e"
   },
   "source": [
    "In Cell 09, round all the floats in your *array_2_mean* up to two decimals. Print your new *array_2_mean* out at the end. "
   ]
  },
  {
   "cell_type": "code",
   "execution_count": 21,
   "id": "2ae40ecb",
   "metadata": {
    "id": "2ae40ecb",
    "outputId": "379f2d49-c909-4884-b988-fdd4e1ef451d"
   },
   "outputs": [
    {
     "name": "stdout",
     "output_type": "stream",
     "text": [
      "array_2_mean: \n",
      "\n",
      " [15.03 12.79  7.51 13.25 10.64 10.31]\n"
     ]
    }
   ],
   "source": [
    "# Cell 09\n",
    "\n",
    "array_2_mean = np.round(array_2_mean, 2)\n",
    "\n",
    "print('array_2_mean: \\n\\n',array_2_mean)"
   ]
  },
  {
   "cell_type": "markdown",
   "id": "3bbe4423",
   "metadata": {
    "id": "3bbe4423"
   },
   "source": [
    "In cell 10, write the code to subtract the related raw mean from every item in your *array_2*, and create a new array called *array_2_subtraction* to store your results. Print your *array_2_subtraction* out at the end."
   ]
  },
  {
   "cell_type": "code",
   "execution_count": 35,
   "id": "53cdc140",
   "metadata": {
    "id": "53cdc140",
    "outputId": "f7b7cfd7-f549-4f5c-d58d-42a826ff715f"
   },
   "outputs": [
    {
     "name": "stdout",
     "output_type": "stream",
     "text": [
      "array_2_subtraction: \n",
      "\n",
      " [[ 2.502  3.522  3.152 -4.228 -4.948]\n",
      " [-6.146  2.994  1.724 -0.386  1.814]\n",
      " [ 7.16  -5.49   2.83  -3.72  -0.78 ]\n",
      " [-0.636 -7.846  5.824  0.514  2.144]\n",
      " [-8.818 -2.848 -5.228  9.362  7.532]\n",
      " [-0.296 -1.426  6.964 -8.576  3.334]]\n"
     ]
    }
   ],
   "source": [
    "# Cell 10\n",
    "\n",
    "# the wording 'related raw mean' was very confusing\n",
    "# I tried searching it and got nothing related to math or statistics \n",
    "# thats why i had to guess the solution and base it on the answer expected\n",
    "# would be nice to explain it so that it's clearer what has to be done\n",
    "\n",
    "array_2_subtraction = array_2.T - array_2_mean\n",
    "array_2_subtraction = array_2_subtraction.T\n",
    "    \n",
    "print('array_2_subtraction: \\n\\n',array_2_subtraction)\n",
    "# [[ 2.5   3.52  3.15 -4.23 -4.95]\n",
    "#  [-6.15  2.99  1.72 -0.39  1.81]\n",
    "#  [ 7.16 -5.49  2.83 -3.72 -0.78]\n",
    "#  [-0.64 -7.85  5.82  0.51  2.14]\n",
    "#  [-8.82 -2.85 -5.23  9.36  7.53]\n",
    "#  [-0.3  -1.43  6.96 -8.58  3.33]"
   ]
  },
  {
   "cell_type": "code",
   "execution_count": null,
   "id": "9e53d607",
   "metadata": {},
   "outputs": [],
   "source": []
  }
 ],
 "metadata": {
  "colab": {
   "name": "Exercise_01.ipynb",
   "provenance": []
  },
  "kernelspec": {
   "display_name": "Python 3",
   "language": "python",
   "name": "python3"
  },
  "language_info": {
   "codemirror_mode": {
    "name": "ipython",
    "version": 3
   },
   "file_extension": ".py",
   "mimetype": "text/x-python",
   "name": "python",
   "nbconvert_exporter": "python",
   "pygments_lexer": "ipython3",
   "version": "3.9.6"
  }
 },
 "nbformat": 4,
 "nbformat_minor": 5
}
