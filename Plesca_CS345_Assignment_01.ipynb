{
 "cells": [
  {
   "cell_type": "markdown",
   "id": "b373f2ce",
   "metadata": {},
   "source": [
    "## CS345 Assignment 01\n",
    "\n",
    "### September 21, 2021\n",
    "\n",
    "In this assignment you are to gain experience with labeled data expressed as points in 2-Dimensions.  In particular you will become comfortable with notions of how to project from a higher (2-Dimensional) to a lower (1-Dimensional) space. Finally, some projections are more useful than others when it comes to seperating labeled classes. \n",
    "\n",
    "There are five parts to this assignment \n",
    "\n",
    "- Part 1: Example 2-Dimensional Lableded Gaussian Data\n",
    "- Part 2: Histogram Feature Distribution\n",
    "- Part 3: Three Class 2-Dimensional Gaussian Data\n",
    "- Part 4: Class Means Seperation\n",
    "- Part 5: Project from 2-Dimensional to 1-Dimensional Space\n",
    "- Part 6: In 2-Dimensions Play Spin the Axis\n",
    "\n",
    "A couple of requests. Please, once you have downloaded this notebook, create a copy with your last name added to the file name.  This will ultimately be the notebook you turn in for this assignment. Second, keep a clea copy of what you have downloaded.  This is important.  Note that outputs for code that has been removed is present in what you first download. This represents a huge hint as to what you code should generate.  As soon as you \"Run All\" on the notebook these hints will go away.\n",
    "\n"
   ]
  },
  {
   "cell_type": "markdown",
   "id": "99106d42",
   "metadata": {},
   "source": [
    "## Preamble - imports\n",
    "\n",
    "The following imports are provided for you."
   ]
  },
  {
   "cell_type": "code",
   "execution_count": 1,
   "id": "ad274fa4",
   "metadata": {},
   "outputs": [],
   "source": [
    "import numpy as np\n",
    "from matplotlib import pyplot as plt\n",
    "%matplotlib inline\n",
    "\n",
    "from sklearn.datasets import make_blobs"
   ]
  },
  {
   "cell_type": "markdown",
   "id": "d9e3db61",
   "metadata": {},
   "source": [
    "## Part 1: Example 2-Dimensional Lableded Gaussian Data\n",
    "\n",
    "To begin the goal is to create a labeled dataset in 2-Dimensions using the sklean [make_blobs](https://scikit-learn.org/stable/modules/generated/sklearn.datasets.make_blobs.html#sklearn.datasets.make_blobs) function. Please go read up on what this function does. \n",
    "\n",
    "Specifically, you are to write the internals for the function below."
   ]
  },
  {
   "cell_type": "code",
   "execution_count": 2,
   "id": "5fae766a",
   "metadata": {},
   "outputs": [],
   "source": [
    "# Write Code\n",
    "\n",
    "def make_2d_Gaussian_Clusters (n, cns, rseed) :\n",
    "    '''The argument n is the total number of samples to create.\n",
    "    The argument cns is a list of points, each point is the center\n",
    "    of a different Guassian distribution. There will be as many classes\n",
    "    as centers passed into this function. Finally, the random seed simply \n",
    "    makes it so this same dataset is created each time this function is run.\n",
    "    '''\n",
    "    X, y = make_blobs(n_samples=n, centers=cns, random_state=rseed)\n",
    "\n",
    "    return {'X' : X, 'y': y}"
   ]
  },
  {
   "cell_type": "code",
   "execution_count": 3,
   "id": "157a533c",
   "metadata": {},
   "outputs": [
    {
     "name": "stdout",
     "output_type": "stream",
     "text": [
      "Type of the labeled problem returned is  <class 'dict'>\n",
      "Shape of the data is  (200, 2)\n",
      "(200,)\n"
     ]
    }
   ],
   "source": [
    "# Run Code\n",
    "\n",
    "lp1 = make_2d_Gaussian_Clusters(200, np.array([[-1,1],[1,1]]), 7)\n",
    "print('Type of the labeled problem returned is ', type(lp1))\n",
    "print('Shape of the data is ', lp1['X'].shape)\n",
    "print(lp1['y'].shape)\n",
    "# Type of the labeled problem returned is  <class 'dict'>\n",
    "# Shape of the data is  (200, 2)\n"
   ]
  },
  {
   "cell_type": "markdown",
   "id": "acd39910",
   "metadata": {},
   "source": [
    "Now you are to write a function which generates a scatter plot of the labeled 2D data you have just created and bound to the variable `lp1 `. While you may start by writing this function to work with only a two class problem, keep in mind the same function shortly must work with both 2 and 3 class problems.  It is up to you how much you want to anticipate this generality on your first pass writing the code.\n",
    "\n",
    "Here are some specifics to keep in mind.  First, read about [figsize](https://matplotlib.org/stable/api/_as_gen/matplotlib.pyplot.figure.html). The scatter plot figure size here is 8 by 8. \n",
    "\n",
    "Next, your function should take up to three different classes and use the colors red, green, blue for the classes zero, one and two respectively. You can specify different symbols as well and so the symbols should be circle, triangle and upside down triangle for classes one, two and three respectively. \n",
    "\n",
    "One last thing, the aspect ratio of your plot should be such that one unit horizontal is  displayed the same length as one unit vertical. Ready about the plot argument [aspect](https://matplotlib.org/3.1.1/api/_as_gen/matplotlib.axes.Axes.set_aspect.html)"
   ]
  },
  {
   "cell_type": "code",
   "execution_count": 4,
   "id": "5606834d",
   "metadata": {},
   "outputs": [],
   "source": [
    "# Write Code\n",
    "\n",
    "def display_2d_data(lp) :\n",
    "    color_mapping = {0: 'red', 1: 'green', 2: 'blue'}\n",
    "    marker_mapping = {0: 'o', 1: '^', 2: 'v'}\n",
    "    x = lp['X'][:,0]\n",
    "    y = lp['X'][:,1]\n",
    "    labels = lp['y']\n",
    "    \n",
    "    fig, ax = plt.subplots(figsize=(8, 8))\n",
    "    ax.set_aspect(1)\n",
    "\n",
    "    for i in range(len(x)):\n",
    "        plt.scatter(\n",
    "            x[i], \n",
    "            y[i], \n",
    "            marker=marker_mapping[labels[i]], \n",
    "            c=color_mapping[labels[i]]\n",
    "        )\n",
    "        \n",
    "    \n",
    "    return plt\n",
    "\n",
    "    '''Given a labeled data problem and assuming the samples are points in 1-Dimensions\n",
    "    use matplotlib to display the data. '''"
   ]
  },
  {
   "cell_type": "code",
   "execution_count": 5,
   "id": "fbbe4f4f",
   "metadata": {
    "scrolled": false
   },
   "outputs": [
    {
     "data": {
      "text/plain": [
       "<module 'matplotlib.pyplot' from '/home/nela/miniconda3/envs/ml/lib/python3.9/site-packages/matplotlib/pyplot.py'>"
      ]
     },
     "execution_count": 5,
     "metadata": {},
     "output_type": "execute_result"
    },
    {
     "data": {
      "image/png": "[encoded data removed]",
      "text/plain": [
       "<Figure size 576x576 with 1 Axes>"
      ]
     },
     "metadata": {
      "needs_background": "light"
     },
     "output_type": "display_data"
    }
   ],
   "source": [
    "# Run Code \n",
    "\n",
    "display_2d_data(lp1)\n"
   ]
  },
  {
   "cell_type": "markdown",
   "id": "2dfa4c05",
   "metadata": {},
   "source": [
    "## Part 2: Histogram Feature Distribution\n",
    "\n",
    "As has been discussed already in class, often in machine learning the goal is to discover a feature that seperates or at least somewhat seperates two classes.  In the above scatter plot you can already see a marked difference in how Feature 1 offers some degree of seperation and Feature 2 essentially none.  \n",
    "\n",
    "One very good way to actually think about - and visualize - seperation is to histogram the feature values while color coding for the classes.  Next you will do this by filling in the code for the following function.  The arguments are:\n",
    "\n",
    "<table>\n",
    "    <tr><td>vals</td><td>A 1-Dimensional array of feature values for all classes.</td></tr>\n",
    "    <tr><td>y</td><td>The class labels asscociated with the feature values.</td></tr>\n",
    "    <tr><td>nbins</td><td>The number of histogram bins.</td></tr>\n",
    "</table>\n",
    "\n",
    "Use the same class color codes as used in the scatterplots above."
   ]
  },
  {
   "cell_type": "code",
   "execution_count": 6,
   "id": "70180e05",
   "metadata": {},
   "outputs": [],
   "source": [
    "# Write Code\n",
    "\n",
    "def hist_1d_problem(vals, y, nbins, fname) :\n",
    "    color_mapping = {0: 'red', 1: 'green', 2: 'blue'}\n",
    "    labels = set(y)\n",
    "    min_val = min(vals)\n",
    "    max_val = max(vals)\n",
    "    bins_list = np.linspace(min_val, max_val, num=nbins+1)\n",
    "    \n",
    "    for label in labels:\n",
    "        \n",
    "        plt.hist(\n",
    "            x=vals[y==label], \n",
    "            bins=bins_list, \n",
    "            density=True, \n",
    "            color=color_mapping[label],\n",
    "            alpha=0.8, \n",
    "            edgecolor = 'black', \n",
    "        );\n",
    "    \n",
    "    plt.xlabel(fname,fontsize=12);\n",
    "    plt.ylabel('Feature Density', fontsize=12);\n",
    "    \n",
    "    return plt\n"
   ]
  },
  {
   "cell_type": "markdown",
   "id": "403ec4f0",
   "metadata": {},
   "source": [
    "When you have correctly implemented the above function the following code shows the histograms for Feature 1 and Feature 2 of the labeled data in ` lp1 `"
   ]
  },
  {
   "cell_type": "code",
   "execution_count": 7,
   "id": "90507cc8",
   "metadata": {},
   "outputs": [
    {
     "data": {
      "text/plain": [
       "<module 'matplotlib.pyplot' from '/home/nela/miniconda3/envs/ml/lib/python3.9/site-packages/matplotlib/pyplot.py'>"
      ]
     },
     "execution_count": 7,
     "metadata": {},
     "output_type": "execute_result"
    },
    {
     "data": {
      "image/png": "[encoded data removed]",
      "text/plain": [
       "<Figure size 432x288 with 1 Axes>"
      ]
     },
     "metadata": {
      "needs_background": "light"
     },
     "output_type": "display_data"
    }
   ],
   "source": [
    "# Run Code\n",
    "\n",
    "hist_1d_problem(lp1['X'][:,0], lp1['y'], 10, 'Feature 1')"
   ]
  },
  {
   "cell_type": "code",
   "execution_count": 8,
   "id": "ed0eaf62",
   "metadata": {},
   "outputs": [
    {
     "data": {
      "text/plain": [
       "<module 'matplotlib.pyplot' from '/home/nela/miniconda3/envs/ml/lib/python3.9/site-packages/matplotlib/pyplot.py'>"
      ]
     },
     "execution_count": 8,
     "metadata": {},
     "output_type": "execute_result"
    },
    {
     "data": {
      "image/png": "[encoded data removed]",
      "text/plain": [
       "<Figure size 432x288 with 1 Axes>"
      ]
     },
     "metadata": {
      "needs_background": "light"
     },
     "output_type": "display_data"
    }
   ],
   "source": [
    "# Run Code\n",
    "\n",
    "hist_1d_problem(lp1['X'][:,1], lp1['y'], 10, 'Feature 2')"
   ]
  },
  {
   "cell_type": "markdown",
   "id": "25a9229d",
   "metadata": {},
   "source": [
    "## Part 3: Three Class 2-Dimensional Gaussian Data\n",
    "\n",
    "For what we want to accomplish below it will be better to have a three class labeled data problem.  Notice if you have written ` made_2D_Gaussian_Clusters ` correctly the following code will give us such a 3 class problem. \n",
    "\n",
    "Also notice, your ` dispay_2d-Data ` function will likewise plot all three classes as shown."
   ]
  },
  {
   "cell_type": "code",
   "execution_count": 9,
   "id": "72003e3f",
   "metadata": {},
   "outputs": [
    {
     "data": {
      "text/plain": [
       "<module 'matplotlib.pyplot' from '/home/nela/miniconda3/envs/ml/lib/python3.9/site-packages/matplotlib/pyplot.py'>"
      ]
     },
     "execution_count": 9,
     "metadata": {},
     "output_type": "execute_result"
    },
    {
     "data": {
      "image/png": "[encoded data removed]",
      "text/plain": [
       "<Figure size 576x576 with 1 Axes>"
      ]
     },
     "metadata": {
      "needs_background": "light"
     },
     "output_type": "display_data"
    }
   ],
   "source": [
    "# Run Code\n",
    "\n",
    "lp2 = make_2d_Gaussian_Clusters(300, np.array([[-1,1],[1,1],[1,-1]]), 7)\n",
    "display_2d_data(lp2)"
   ]
  },
  {
   "cell_type": "markdown",
   "id": "eea1d5e4",
   "metadata": {},
   "source": [
    "You may need to modify your code in function ` hist_1d_problem ` in order to support three classes. Once you have done these modifications you should get the following histograms showing the Feature 1 and Feature 2 distributions for three classes."
   ]
  },
  {
   "cell_type": "code",
   "execution_count": 10,
   "id": "70ce422d",
   "metadata": {},
   "outputs": [
    {
     "data": {
      "text/plain": [
       "<module 'matplotlib.pyplot' from '/home/nela/miniconda3/envs/ml/lib/python3.9/site-packages/matplotlib/pyplot.py'>"
      ]
     },
     "execution_count": 10,
     "metadata": {},
     "output_type": "execute_result"
    },
    {
     "data": {
      "image/png": "[encoded data removed]",
      "text/plain": [
       "<Figure size 432x288 with 1 Axes>"
      ]
     },
     "metadata": {
      "needs_background": "light"
     },
     "output_type": "display_data"
    }
   ],
   "source": [
    "# Run Code\n",
    "\n",
    "hist_1d_problem(lp2['X'][:,0], lp2['y'], 10, 'Feature 1')"
   ]
  },
  {
   "cell_type": "code",
   "execution_count": 11,
   "id": "4591db0a",
   "metadata": {},
   "outputs": [
    {
     "data": {
      "text/plain": [
       "<module 'matplotlib.pyplot' from '/home/nela/miniconda3/envs/ml/lib/python3.9/site-packages/matplotlib/pyplot.py'>"
      ]
     },
     "execution_count": 11,
     "metadata": {},
     "output_type": "execute_result"
    },
    {
     "data": {
      "image/png": "[encoded data removed]",
      "text/plain": [
       "<Figure size 432x288 with 1 Axes>"
      ]
     },
     "metadata": {
      "needs_background": "light"
     },
     "output_type": "display_data"
    }
   ],
   "source": [
    "# Run Code\n",
    "\n",
    "hist_1d_problem(lp2['X'][:,1], lp2['y'], 10, 'Feature 2')"
   ]
  },
  {
   "cell_type": "markdown",
   "id": "597bd753",
   "metadata": {},
   "source": [
    "## Part 4: Class Means Seperation\n",
    "\n",
    "As a step toward asking questions about how well distributions are separated it is important to compute the distance between class means. Since this is a 2-Dimensional dataset the class means are 2-points. Let us start there."
   ]
  },
  {
   "cell_type": "code",
   "execution_count": 12,
   "id": "23e4178d",
   "metadata": {},
   "outputs": [],
   "source": [
    "# Write Code\n",
    "\n",
    "def class_means (X, y) :\n",
    "\n",
    "    means_array = [\n",
    "        X[y == label].mean(axis=0)\n",
    "        for label in set(y)\n",
    "    ]\n",
    "        \n",
    "    return np.array(means_array)\n",
    "    \n"
   ]
  },
  {
   "cell_type": "code",
   "execution_count": 13,
   "id": "1dcb006e",
   "metadata": {},
   "outputs": [
    {
     "data": {
      "text/plain": [
       "array([[-1.0292151 ,  0.97328576],\n",
       "       [ 0.95668742,  0.89902774]])"
      ]
     },
     "execution_count": 13,
     "metadata": {},
     "output_type": "execute_result"
    }
   ],
   "source": [
    "# Run Code \n",
    "\n",
    "means = class_means(lp1['X'], lp1['y']) ; means\n",
    "# array([[-1.0292151 ,  0.97328576],\n",
    "#        [ 0.95668742,  0.89902774]])"
   ]
  },
  {
   "cell_type": "code",
   "execution_count": 14,
   "id": "3e0c0ee9",
   "metadata": {},
   "outputs": [
    {
     "data": {
      "text/plain": [
       "array([[-1.0292151 ,  0.97328576],\n",
       "       [ 0.95668742,  0.89902774],\n",
       "       [ 1.07370361, -1.18902178]])"
      ]
     },
     "execution_count": 14,
     "metadata": {},
     "output_type": "execute_result"
    }
   ],
   "source": [
    "# Run Code \n",
    "\n",
    "means = class_means(lp2['X'], lp2['y']) ; means"
   ]
  },
  {
   "cell_type": "markdown",
   "id": "e8aaad10",
   "metadata": {},
   "source": [
    "Consider one way to express the goal of seperating classes is to find a single dimension that makes the closest two classes move as far apart as possible. For the moment this may not seem like a goal for which we have a lot of options to choose from. To be precise, for the moment we can only choose between Feature 1 and Feature 2.  Rest assured we will consider more options soon. \n",
    "\n",
    "That said, for now consider just the much more mechanical question of just what it means to compute the smallest distance between pairs of classes. This in turn leads to the question of how simply to enumerate all pairs of classes. \n",
    "\n",
    "The following function, which you are being asked to write, does precisely that. Given there are ` k ` classes, return a list of lists containing all pairs of classes. Moreover, classes are denoted simply with integers (as done in the ` y ` vector) starting with zero."
   ]
  },
  {
   "cell_type": "code",
   "execution_count": 15,
   "id": "348645b7",
   "metadata": {},
   "outputs": [],
   "source": [
    "# Write Code\n",
    "\n",
    "def all_pair_indices (k) :\n",
    "    pairs = []\n",
    "    for i in range(k):\n",
    "        for j in range(i):\n",
    "            pairs.append([j, i])\n",
    "    return pairs\n"
   ]
  },
  {
   "cell_type": "code",
   "execution_count": 16,
   "id": "6c841efe",
   "metadata": {},
   "outputs": [
    {
     "name": "stdout",
     "output_type": "stream",
     "text": [
      "Testing for two classes:    [[0, 1]]\n",
      "Testing for three classes:  [[0, 1], [0, 2], [1, 2]]\n",
      "Testing for four classes:   [[0, 1], [0, 2], [1, 2], [0, 3], [1, 3], [2, 3]]\n"
     ]
    }
   ],
   "source": [
    "# Run Code\n",
    "\n",
    "print('Testing for two classes:   ', all_pair_indices(2))\n",
    "print('Testing for three classes: ', all_pair_indices(3))\n",
    "print('Testing for four classes:  ', all_pair_indices(4))\n",
    "# Testing for two classes:    [[0, 1]]\n",
    "# Testing for three classes:  [[0, 1], [0, 2], [1, 2]]\n",
    "# Testing for four classes:   [[0, 1], [0, 2], [0, 3], [1, 2], [1, 3], [2, 3]]"
   ]
  },
  {
   "cell_type": "markdown",
   "id": "71f39a19",
   "metadata": {},
   "source": [
    "For a particular dimension (Feature) the next function returns the smallest distance between a pair of class means.  To be clear, the argument ` mus ` is a vector of class means for a given dimension.  When saying distance, what we are saying more precisely is the absolute value of the difference between a pair of class means.  "
   ]
  },
  {
   "cell_type": "code",
   "execution_count": 17,
   "id": "cf40b623",
   "metadata": {},
   "outputs": [],
   "source": [
    "# Write Code\n",
    "\n",
    "def min_seperation(mus) :\n",
    "    indices = all_pair_indices (len(mus))\n",
    "    separations = []\n",
    "    for indexes in indices:\n",
    "        values = mus[indexes]\n",
    "        distance = abs(values[0] - values[1])\n",
    "        separations.append(distance)\n",
    "        \n",
    "    return min(separations)\n"
   ]
  },
  {
   "cell_type": "markdown",
   "id": "415769b5",
   "metadata": {},
   "source": [
    "If you have implemented the above function correctly you should get the following results"
   ]
  },
  {
   "cell_type": "code",
   "execution_count": 18,
   "id": "e7cda5e3",
   "metadata": {},
   "outputs": [
    {
     "name": "stdout",
     "output_type": "stream",
     "text": [
      "Two class problem Feature 1 min class seperation is  1.9859025110510715\n",
      "Two class problem Feature 2 min class seperation is  0.07425801606245619\n"
     ]
    }
   ],
   "source": [
    "# Run Code\n",
    "\n",
    "means = class_means(lp1['X'], lp1['y']) \n",
    "print('Two class problem Feature 1 min class seperation is ', min_seperation(means[:,0])) #1.9859025110510715\n",
    "print('Two class problem Feature 2 min class seperation is ', min_seperation(means[:,1])) #0.07425801606245619"
   ]
  },
  {
   "cell_type": "markdown",
   "id": "7589650c",
   "metadata": {},
   "source": [
    "Go back and review the plot of the two class problem and think about what the large difference in magnitude for min speration is telling us about the class seperation for the two class problem.\n",
    "\n",
    "While you are at it, go review the plot of the three class problem and think through the following answer for seperation for the three class problem"
   ]
  },
  {
   "cell_type": "code",
   "execution_count": 19,
   "id": "4bb0288b",
   "metadata": {},
   "outputs": [
    {
     "name": "stdout",
     "output_type": "stream",
     "text": [
      "Three class problem Feature 1 min class seperation is  0.11701619734549074\n",
      "Three class problem Feature 2 min class seperation is  0.07425801606245541\n"
     ]
    }
   ],
   "source": [
    "# Run Code\n",
    "\n",
    "means = class_means(lp2['X'], lp2['y']) \n",
    "print('Three class problem Feature 1 min class seperation is ', min_seperation(means[:,0])) # 0.11701619734549074\n",
    "print('Three class problem Feature 2 min class seperation is ', min_seperation(means[:,1])) # 0.07425801606245541"
   ]
  },
  {
   "cell_type": "markdown",
   "id": "34255ecc",
   "metadata": {},
   "source": [
    "## Part 5: Project from 2-Dimensional to 1-Dimensional Space\n",
    "\n",
    "So far what we've seen for our three class problem is that at least two of the classes are not able to be seperated using either of the original features. Put another way, the horizontal axis - Feature 1 - seperates blue from red and green classes. However, the red and green have essentially the same distribution of Feature 1 values.  Moving to the vertical axis, the green class now stands out, but the red and blue classes become confused. \n",
    "\n",
    "What if we could find a dimension that did a better job of seperating all three classes from each other?"
   ]
  },
  {
   "cell_type": "markdown",
   "id": "3b6e35f2",
   "metadata": {},
   "source": [
    "This question:  \"Is there a better dimension/direction?\" leads us directly to the concept of projection.  \n",
    "\n",
    "Recall that any point in space $p$ can be projected onto a single dimension defined by a unit length vector $u$ with nothing more than a dot product.\n",
    "\n",
    "$$\n",
    "\\alpha = p \\cdot u\n",
    "$$\n",
    "\n",
    "To be clear, $\\alpha$ is just a number.  It represents the position of $p$ as interpreted in the direction $u$. Alternatively, think of it this way.  If the space where $p$ is defined were rotated so that $u$ became the horizontal axis, then $\\alpha$ is just the coordinate value of $p$ along the horizontal axis.\n",
    "\n",
    "Because the following equivalence leads to vastly simpler code, recall that matrix multiplication is essentially a whole sequence of dot products. Therefore, the equation above can be equivalently written as \n",
    "\n",
    "$$\n",
    "\\alpha = p^T \\; u\n",
    "$$\n",
    "\n",
    "In our present situation, where $p$ is a point in 2-Dimensions, $p^T$ is a $1 x 2$ matrix and $u$ is a $2 x 1$ matrix.\n",
    "\n",
    "Finally, consider a matrix $X$ where each row contains a 2-Dimensional point.  The project of *all* the sample points projected onto the 1-Dimensional space defined by $u$ can be accomplised with a single matrix multiply.\n",
    "\n",
    "$$\n",
    "X^\\prime = X \\; u\n",
    "$$\n",
    "\n",
    "And for our 2-Dimensional example, recall we have already created a matrix $X$ with $150$ samples (the three class problem). In that case $X$ is a $150 x 2$ matrix. The result of the matrix multiplacation above is to return a $150 x 1$ matrix, each element is the projection of a sample point into the 1-Dimensional space defined by $u$.\n",
    "\n",
    "At this point write the code to make this all happend. Namely, to create a 1-Dimensional dataset from a 2-Dimensional dataset using a direction $u$ (footnote, just in case, make sure $u$ is unit length before you do your projection)."
   ]
  },
  {
   "cell_type": "code",
   "execution_count": 35,
   "id": "1afd2ad3",
   "metadata": {},
   "outputs": [],
   "source": [
    "# Write Code\n",
    "import math\n",
    "\n",
    "def normalize_vector(vector):\n",
    "    '''accepts a numpy array'''\n",
    "    magnitude = abs(math.sqrt(vector[0] ** 2 + vector[1] ** 2))\n",
    "    return vector / magnitude\n",
    "\n",
    "# print(normalize_vector(np.array([1, 1])))\n",
    "\n",
    "def project_onto (X, u) :\n",
    "    u = normalize_vector(u)\n",
    "    return X @ u\n",
    "    \n",
    "    \n"
   ]
  },
  {
   "cell_type": "markdown",
   "id": "ecbc539b",
   "metadata": {},
   "source": [
    "Tryout your projection function by projectiong the three class problem onto the direction defined by \n",
    "\n",
    "$$\n",
    "u = [ 1, 1 ]\n",
    "$$\n",
    "\n",
    "Then plot the histgram of the classes for this 1-Dimensional dataset."
   ]
  },
  {
   "cell_type": "code",
   "execution_count": 36,
   "id": "d3e80ebf",
   "metadata": {},
   "outputs": [
    {
     "data": {
      "text/plain": [
       "<module 'matplotlib.pyplot' from '/home/nela/miniconda3/envs/ml/lib/python3.9/site-packages/matplotlib/pyplot.py'>"
      ]
     },
     "execution_count": 36,
     "metadata": {},
     "output_type": "execute_result"
    },
    {
     "data": {
      "image/png": "[encoded data removed]",
      "text/plain": [
       "<Figure size 432x288 with 1 Axes>"
      ]
     },
     "metadata": {
      "needs_background": "light"
     },
     "output_type": "display_data"
    }
   ],
   "source": [
    "# Run Code\n",
    "\n",
    "Xp = project_onto(lp2['X'], np.array([1,1,]))\n",
    "hist_1d_problem(Xp, lp2['y'], 10, 'Quad 1 Diagonal')"
   ]
  },
  {
   "cell_type": "markdown",
   "id": "f69813cc",
   "metadata": {},
   "source": [
    "At this point take a moment - or perhaps several moments - and go back and look at the original scatter plot of the three classes.  Does what you are seeing in this histogram make sense to you? In particular, notice that the red and blue classes have values in this projection of the data which are nearly identically distributed. In contrast, the green class values are noticeably higher.  Does the green class stand out from the other two classes in the histograms above like it does here?"
   ]
  },
  {
   "cell_type": "markdown",
   "id": "681bafb8",
   "metadata": {},
   "source": [
    "## Part 6: In 2-Dimensions Play Spin the Axis\n",
    "\n",
    "From the above histogram it is clear that different choices of an axis onto which to project the data result in different degrees of class seperation.  That raises the question - which direction is best?\n",
    "\n",
    "In the case of 2-dimensional data it is easy think about enumerating directions. In essence, consider the vector ` u ` defined as follows:\n",
    "\n",
    "$$\n",
    "u = [ \\cos(\\theta), \\sin(\\theta) ]^T\n",
    "$$\n",
    "\n",
    "In this part you are going to plot the min_seperation between the three classes constructed above as a function of theta.  To start, consider writing just the funciton that create the basis vectors. There will be one basis vector for each of a set of evenly spaced anges $\\theta$. Note you are being given the code to create the angles in degrees."
   ]
  },
  {
   "cell_type": "code",
   "execution_count": 31,
   "id": "14bd78f6",
   "metadata": {},
   "outputs": [
    {
     "data": {
      "text/plain": [
       "[0, 5, 10, 15, 20]"
      ]
     },
     "execution_count": 31,
     "metadata": {},
     "output_type": "execute_result"
    }
   ],
   "source": [
    "# Run Code\n",
    "\n",
    "thetas_d = [theta for theta in range(0,180, 5)] ; thetas_d[:5]"
   ]
  },
  {
   "cell_type": "markdown",
   "id": "3207047c",
   "metadata": {},
   "source": [
    "The built in numpy trig functions take their arguments in radians, not degrees, convert from degrees to radian in the following code "
   ]
  },
  {
   "cell_type": "code",
   "execution_count": 39,
   "id": "051c7ba4",
   "metadata": {},
   "outputs": [],
   "source": [
    "# Write Code\n",
    "\n",
    "thetas_r = np.radians(thetas_d) "
   ]
  },
  {
   "cell_type": "code",
   "execution_count": 40,
   "id": "26bf09b0",
   "metadata": {},
   "outputs": [
    {
     "data": {
      "text/plain": [
       "array([0.        , 0.08726646, 0.17453293, 0.26179939, 0.34906585])"
      ]
     },
     "execution_count": 40,
     "metadata": {},
     "output_type": "execute_result"
    }
   ],
   "source": [
    "# Run Code\n",
    "\n",
    "thetas_r[:5]\n",
    "# [0.0,\n",
    "#  0.08726646259971647,\n",
    "#  0.17453292519943295,\n",
    "#  0.2617993877991494,\n",
    "#  0.3490658503988659]"
   ]
  },
  {
   "cell_type": "markdown",
   "id": "f478e8c4",
   "metadata": {},
   "source": [
    "Next we need to create a 2-dimensional basis vector for each and every angle.  A note about language here, often the term \"basis vector\" is linked closely to what are called \"orthogonal bases\".  This is common, but not necessary, as this example is showing, basis vectors need not be orthogonal to each other.  Indeed, as we are doing, a large collection of different vectors may all be properly thought of as defining a 1-Dimensional space in which higher dimensional data may be projected (we are getting to the projection part soon)"
   ]
  },
  {
   "cell_type": "code",
   "execution_count": 47,
   "id": "648caff1",
   "metadata": {},
   "outputs": [],
   "source": [
    "# Write Code\n",
    "\n",
    "def angles_to_vectors (angles_r) :\n",
    "    cosines = np.cos(angles_r)\n",
    "    sines = np.sin(angles_r)\n",
    "    return np.array(list(zip(cosines, sines)))\n"
   ]
  },
  {
   "cell_type": "code",
   "execution_count": 48,
   "id": "fe0663fd",
   "metadata": {},
   "outputs": [
    {
     "data": {
      "text/plain": [
       "array([[1.        , 0.        ],\n",
       "       [0.9961947 , 0.08715574],\n",
       "       [0.98480775, 0.17364818],\n",
       "       [0.96592583, 0.25881905],\n",
       "       [0.93969262, 0.34202014]])"
      ]
     },
     "execution_count": 48,
     "metadata": {},
     "output_type": "execute_result"
    }
   ],
   "source": [
    "# Run Code\n",
    "\n",
    "dims = angles_to_vectors(thetas_r) ; dims[:5]\n",
    "# array([[1.        , 0.        ],\n",
    "#        [0.9961947 , 0.08715574],\n",
    "#        [0.98480775, 0.17364818],\n",
    "#        [0.96592583, 0.25881905],\n",
    "#        [0.93969262, 0.34202014]])"
   ]
  },
  {
   "cell_type": "code",
   "execution_count": 53,
   "id": "48f29c88",
   "metadata": {},
   "outputs": [],
   "source": [
    "# Write Code\n",
    "\n",
    "def project_onto_dims (lp, dims) :\n",
    "#     project_onto(lp2['X'], np.array([1,1,]))\n",
    "    projections = []\n",
    "    for dim in dims:\n",
    "        projections.append(project_onto(lp2['X'], dim))\n",
    "        \n",
    "    return np.array(projections).T\n"
   ]
  },
  {
   "cell_type": "code",
   "execution_count": 71,
   "id": "8053929e",
   "metadata": {},
   "outputs": [
    {
     "data": {
      "text/plain": [
       "(300, 36)"
      ]
     },
     "execution_count": 71,
     "metadata": {},
     "output_type": "execute_result"
    }
   ],
   "source": [
    "# Run Code\n",
    "\n",
    "Xps = project_onto_dims(lp2, dims)\n",
    "Xps.shape\n",
    "# print(Xps[:3])\n",
    "# (300, 36)"
   ]
  },
  {
   "cell_type": "markdown",
   "id": "4d432628",
   "metadata": {},
   "source": [
    "The next bit of code is being given to you in hopes it avoids some struggling.  Note the purpose of these to functions is to neatly display the class means for each of the dimensions created above, i.e. all $36$ different vectors defining possible 1-Dimensional spaces.  \n",
    "\n",
    "Look carefully through the printed listing and think about how the class means are shifting."
   ]
  },
  {
   "cell_type": "code",
   "execution_count": 55,
   "id": "c7a24eea",
   "metadata": {},
   "outputs": [],
   "source": [
    "# Run Code\n",
    "\n",
    "def reduce_precision (lst, factor) :\n",
    "    '''Will take a list of floating point numbers and discard excess precision.\n",
    "    \n",
    "    For example, if factor is 100 then only the first two values after the decimal\n",
    "    point are retained.  If 1000 then three values to the right, etc.'''\n",
    "    new = [(round(i * factor) / factor) for i in lst]\n",
    "    return new\n",
    "\n",
    "def print_means(lp, dims) :\n",
    "    Xps = project_onto_dims(lp, dims)\n",
    "    for i in range(dims.shape[0]) :\n",
    "        Xp = Xps[:,i]\n",
    "        ms = reduce_precision(class_means(Xp, lp['y']), 100)\n",
    "        u  = reduce_precision(dims[i,:], 100)\n",
    "        print(f'u vector {u}\\t creates class means {ms}')"
   ]
  },
  {
   "cell_type": "code",
   "execution_count": 56,
   "id": "691759ad",
   "metadata": {},
   "outputs": [
    {
     "name": "stdout",
     "output_type": "stream",
     "text": [
      "u vector [1.0, 0.0]\t creates class means [-1.03, 0.96, 1.07]\n",
      "u vector [1.0, 0.09]\t creates class means [-0.94, 1.03, 0.97]\n",
      "u vector [0.98, 0.17]\t creates class means [-0.84, 1.1, 0.85]\n",
      "u vector [0.97, 0.26]\t creates class means [-0.74, 1.16, 0.73]\n",
      "u vector [0.94, 0.34]\t creates class means [-0.63, 1.21, 0.6]\n",
      "u vector [0.91, 0.42]\t creates class means [-0.52, 1.25, 0.47]\n",
      "u vector [0.87, 0.5]\t creates class means [-0.4, 1.28, 0.34]\n",
      "u vector [0.82, 0.57]\t creates class means [-0.28, 1.3, 0.2]\n",
      "u vector [0.77, 0.64]\t creates class means [-0.16, 1.31, 0.06]\n",
      "u vector [0.71, 0.71]\t creates class means [-0.04, 1.31, -0.08]\n",
      "u vector [0.64, 0.77]\t creates class means [0.08, 1.3, -0.22]\n",
      "u vector [0.57, 0.82]\t creates class means [0.21, 1.29, -0.36]\n",
      "u vector [0.5, 0.87]\t creates class means [0.33, 1.26, -0.49]\n",
      "u vector [0.42, 0.91]\t creates class means [0.45, 1.22, -0.62]\n",
      "u vector [0.34, 0.94]\t creates class means [0.56, 1.17, -0.75]\n",
      "u vector [0.26, 0.97]\t creates class means [0.67, 1.12, -0.87]\n",
      "u vector [0.17, 0.98]\t creates class means [0.78, 1.05, -0.98]\n",
      "u vector [0.09, 1.0]\t creates class means [0.88, 0.98, -1.09]\n",
      "u vector [0.0, 1.0]\t creates class means [0.97, 0.9, -1.19]\n",
      "u vector [-0.09, 1.0]\t creates class means [1.06, 0.81, -1.28]\n",
      "u vector [-0.17, 0.98]\t creates class means [1.14, 0.72, -1.36]\n",
      "u vector [-0.26, 0.97]\t creates class means [1.21, 0.62, -1.43]\n",
      "u vector [-0.34, 0.94]\t creates class means [1.27, 0.52, -1.48]\n",
      "u vector [-0.42, 0.91]\t creates class means [1.32, 0.41, -1.53]\n",
      "u vector [-0.5, 0.87]\t creates class means [1.36, 0.3, -1.57]\n",
      "u vector [-0.57, 0.82]\t creates class means [1.39, 0.19, -1.59]\n",
      "u vector [-0.64, 0.77]\t creates class means [1.41, 0.07, -1.6]\n",
      "u vector [-0.71, 0.71]\t creates class means [1.42, -0.04, -1.6]\n",
      "u vector [-0.77, 0.64]\t creates class means [1.41, -0.15, -1.59]\n",
      "u vector [-0.82, 0.57]\t creates class means [1.4, -0.27, -1.56]\n",
      "u vector [-0.87, 0.5]\t creates class means [1.38, -0.38, -1.52]\n",
      "u vector [-0.91, 0.42]\t creates class means [1.34, -0.49, -1.48]\n",
      "u vector [-0.94, 0.34]\t creates class means [1.3, -0.59, -1.42]\n",
      "u vector [-0.97, 0.26]\t creates class means [1.25, -0.69, -1.34]\n",
      "u vector [-0.98, 0.17]\t creates class means [1.18, -0.79, -1.26]\n",
      "u vector [-1.0, 0.09]\t creates class means [1.11, -0.87, -1.17]\n"
     ]
    }
   ],
   "source": [
    "print_means(lp2, dims)"
   ]
  },
  {
   "cell_type": "markdown",
   "id": "e0f14712",
   "metadata": {},
   "source": [
    "Now your turn, write the following function to print out the minimum class seperation for each of the different directions"
   ]
  },
  {
   "cell_type": "code",
   "execution_count": 68,
   "id": "4cf00b33",
   "metadata": {},
   "outputs": [],
   "source": [
    "# Write Code\n",
    "\n",
    "def print_seperation(lp, dims) :\n",
    "#     means = class_means(lp2['X'], lp2['y']) \n",
    "# print('Three class problem Feature 1 min class seperation is ', min_seperation(means[:,0]))\n",
    "\n",
    "    Xps = project_onto_dims(lp, dims)\n",
    "    for i in range(dims.shape[0]) :\n",
    "        Xp = Xps[:,i]\n",
    "        means = class_means(Xp, lp['y'])\n",
    "        u  = reduce_precision(dims[i,:], 100)\n",
    "        separation = min_seperation(means)\n",
    "        \n",
    "        print(f'u vector {u}\\t creates min class seperation {separation:5.2f}')\n"
   ]
  },
  {
   "cell_type": "code",
   "execution_count": 69,
   "id": "aecccfe0",
   "metadata": {},
   "outputs": [
    {
     "name": "stdout",
     "output_type": "stream",
     "text": [
      "u vector [1.0, 0.0]\t creates min class seperation  0.12\n",
      "u vector [1.0, 0.09]\t creates min class seperation  0.07\n",
      "u vector [0.98, 0.17]\t creates min class seperation  0.25\n",
      "u vector [0.97, 0.26]\t creates min class seperation  0.43\n",
      "u vector [0.94, 0.34]\t creates min class seperation  0.60\n",
      "u vector [0.91, 0.42]\t creates min class seperation  0.78\n",
      "u vector [0.87, 0.5]\t creates min class seperation  0.74\n",
      "u vector [0.82, 0.57]\t creates min class seperation  0.48\n",
      "u vector [0.77, 0.64]\t creates min class seperation  0.22\n",
      "u vector [0.71, 0.71]\t creates min class seperation  0.04\n",
      "u vector [0.64, 0.77]\t creates min class seperation  0.30\n",
      "u vector [0.57, 0.82]\t creates min class seperation  0.57\n",
      "u vector [0.5, 0.87]\t creates min class seperation  0.82\n",
      "u vector [0.42, 0.91]\t creates min class seperation  0.77\n",
      "u vector [0.34, 0.94]\t creates min class seperation  0.61\n",
      "u vector [0.26, 0.97]\t creates min class seperation  0.44\n",
      "u vector [0.17, 0.98]\t creates min class seperation  0.27\n",
      "u vector [0.09, 1.0]\t creates min class seperation  0.10\n",
      "u vector [0.0, 1.0]\t creates min class seperation  0.07\n",
      "u vector [-0.09, 1.0]\t creates min class seperation  0.25\n",
      "u vector [-0.17, 0.98]\t creates min class seperation  0.42\n",
      "u vector [-0.26, 0.97]\t creates min class seperation  0.59\n",
      "u vector [-0.34, 0.94]\t creates min class seperation  0.75\n",
      "u vector [-0.42, 0.91]\t creates min class seperation  0.91\n",
      "u vector [-0.5, 0.87]\t creates min class seperation  1.06\n",
      "u vector [-0.57, 0.82]\t creates min class seperation  1.20\n",
      "u vector [-0.64, 0.77]\t creates min class seperation  1.33\n",
      "u vector [-0.71, 0.71]\t creates min class seperation  1.46\n",
      "u vector [-0.77, 0.64]\t creates min class seperation  1.43\n",
      "u vector [-0.82, 0.57]\t creates min class seperation  1.29\n",
      "u vector [-0.87, 0.5]\t creates min class seperation  1.15\n",
      "u vector [-0.91, 0.42]\t creates min class seperation  0.99\n",
      "u vector [-0.94, 0.34]\t creates min class seperation  0.82\n",
      "u vector [-0.97, 0.26]\t creates min class seperation  0.65\n",
      "u vector [-0.98, 0.17]\t creates min class seperation  0.48\n",
      "u vector [-1.0, 0.09]\t creates min class seperation  0.30\n"
     ]
    }
   ],
   "source": [
    "print_seperation(lp2, dims)"
   ]
  },
  {
   "cell_type": "markdown",
   "id": "0a29648b",
   "metadata": {},
   "source": [
    "Please review the minimum class seperations in the printed listing above.  You should have no difficulty recognizing the $u$ vector that best seperates the three classes.\n",
    "\n",
    "The last think to do is write the code to automatically find that particular vector."
   ]
  },
  {
   "cell_type": "code",
   "execution_count": 84,
   "id": "b18698df",
   "metadata": {},
   "outputs": [],
   "source": [
    "# Write Code\n",
    "\n",
    "def find_best_dim(lp, dims) :\n",
    "    Xps = project_onto_dims(lp, dims)\n",
    "    mins = []\n",
    "    for i in range(dims.shape[0]) :\n",
    "        Xp = Xps[:,i]\n",
    "        means = class_means(Xp, lp['y'])\n",
    "        separation = min_seperation(means)\n",
    "        mins.append(separation)\n",
    "\n",
    "    return mins.index(float(max(mins)))\n"
   ]
  },
  {
   "cell_type": "code",
   "execution_count": 85,
   "id": "d11eb7f9",
   "metadata": {},
   "outputs": [
    {
     "name": "stdout",
     "output_type": "stream",
     "text": [
      "Greatest class seperation is for dimension defined by\n"
     ]
    },
    {
     "data": {
      "text/plain": [
       "[-0.7071, 0.7071]"
      ]
     },
     "execution_count": 85,
     "metadata": {},
     "output_type": "execute_result"
    }
   ],
   "source": [
    "# Run Code\n",
    "\n",
    "print('Greatest class seperation is for dimension defined by')\n",
    "reduce_precision(dims[find_best_dim(lp2, dims),:],10000)\n",
    "# [-0.7071, 0.7071]"
   ]
  },
  {
   "cell_type": "markdown",
   "id": "0d02393d",
   "metadata": {},
   "source": [
    "## The End"
   ]
  }
 ],
 "metadata": {
  "kernelspec": {
   "display_name": "Python 3",
   "language": "python",
   "name": "python3"
  },
  "language_info": {
   "codemirror_mode": {
    "name": "ipython",
    "version": 3
   },
   "file_extension": ".py",
   "mimetype": "text/x-python",
   "name": "python",
   "nbconvert_exporter": "python",
   "pygments_lexer": "ipython3",
   "version": "3.9.6"
  }
 },
 "nbformat": 4,
 "nbformat_minor": 5
}
