{
 "cells": [
  {
   "cell_type": "markdown",
   "metadata": {},
   "source": [
    "This notebook is part of  course materials for CS 345: Machine Learning Foundations and Practice at Colorado State University.\n",
    "Original versions were created by Asa Ben-Hur and updated by Ross Beveridge\n",
    "\n",
    "Last Update 9/28/2021\n",
    "\n",
    "**The text is released under the [CC BY-SA license](https://creativecommons.org/licenses/by-sa/4.0/), and code is released under the [MIT license](https://opensource.org/licenses/MIT).*\n",
    "\n"
   ]
  },
  {
   "cell_type": "code",
   "execution_count": 1,
   "metadata": {},
   "outputs": [],
   "source": [
    "import numpy as np\n",
    "from matplotlib import pylab as plt\n",
    "%matplotlib inline"
   ]
  },
  {
   "cell_type": "markdown",
   "metadata": {},
   "source": [
    "# Nearest neighbor classification\n",
    "\n",
    "The nearest neighbor classifier is one of the simplest machine learning methods available.\n",
    "Here's the simplest version of it:\n",
    "\n",
    "```\n",
    "Nearest neighbor classifier\n",
    "\n",
    "- Find the example in the training data that is closest to\n",
    "  the example that needs to be classified.\n",
    "- Return its label\n",
    "```"
   ]
  },
  {
   "cell_type": "markdown",
   "metadata": {},
   "source": [
    "## Measuring distance\n",
    "\n",
    "To implement this idea we need to define a concrete notion of closeness.\n",
    "We'll do that using the **distance** between examples. \n",
    "\n",
    "First recall that the *norm* of a vector was defined as:\n",
    "\n",
    "$$\n",
    "||\\mathbf{x}||^2 = \\mathbf{x}^\\top \\mathbf{x}.\n",
    "$$\n",
    "\n",
    "Using this notation, we can define the **Euclidean distance** $d_2(\\mathbf{x}, \\mathbf{x}')$ between vectors $\\mathbf{x}$ and $\\mathbf{x}'$ as:\n",
    "\n",
    "$$\n",
    "d_2(\\mathbf{x}, \\mathbf{x}')^2 = ||\\mathbf{x} - \\mathbf{x}'||^2 = \n",
    "(\\mathbf{x} - \\mathbf{x}')^\\top (\\mathbf{x} - \\mathbf{x}') = \n",
    "\\sum_{i=1}^d (x_i - x_i')^2.\n",
    "$$\n",
    "\n",
    "Here are some Numpy implementations that directly reflect the different ways of expressing this definition:"
   ]
  },
  {
   "cell_type": "code",
   "execution_count": 2,
   "metadata": {},
   "outputs": [
    {
     "data": {
      "text/plain": [
       "1.4142135623730951"
      ]
     },
     "execution_count": 2,
     "metadata": {},
     "output_type": "execute_result"
    }
   ],
   "source": [
    "def distance(x1, x2):\n",
    "    return np.linalg.norm(x1-x2)\n",
    "\n",
    "distance(np.array([2,1]), np.array([1,0]))"
   ]
  },
  {
   "cell_type": "code",
   "execution_count": 3,
   "metadata": {},
   "outputs": [
    {
     "data": {
      "text/plain": [
       "1.4142135623730951"
      ]
     },
     "execution_count": 3,
     "metadata": {},
     "output_type": "execute_result"
    }
   ],
   "source": [
    "def distance2(x1, x2):\n",
    "    return np.sqrt(np.dot(x1-x2, x1-x2))\n",
    "\n",
    "distance2(np.array([2,1]), np.array([1,0]))"
   ]
  },
  {
   "cell_type": "code",
   "execution_count": 4,
   "metadata": {},
   "outputs": [
    {
     "data": {
      "text/plain": [
       "1.4142135623730951"
      ]
     },
     "execution_count": 4,
     "metadata": {},
     "output_type": "execute_result"
    }
   ],
   "source": [
    "def distance3(x1, x2):\n",
    "    return np.sqrt(np.sum( (x1-x2)**2) )\n",
    "\n",
    "distance3(np.array([2,1]), np.array([1,0]))"
   ]
  },
  {
   "cell_type": "markdown",
   "metadata": {},
   "source": [
    "Now we are ready to implement the nearest neighbor classifier:"
   ]
  },
  {
   "cell_type": "code",
   "execution_count": 5,
   "metadata": {},
   "outputs": [],
   "source": [
    "class nearest_neighbor:\n",
    "    def __init__(self):\n",
    "        pass\n",
    "    def fit(self, X, y):\n",
    "        self.X = X\n",
    "        self.y = y\n",
    "    def get_nearest(self, x):\n",
    "        distances = [distance(x, self.X[i]) \n",
    "                     for i in range(len(self.X))]\n",
    "        return np.argmin(distances)\n",
    "    def predict(self, x) :\n",
    "        return self.y[self.get_nearest(x)]"
   ]
  },
  {
   "cell_type": "markdown",
   "metadata": {},
   "source": [
    "## Example with MNIST Digits\n",
    "\n",
    "Let's apply this classifier to the digit classification dataset bundled with scikit-learn.  This dataset is originally from the [UCI machine learning repository](https://archive.ics.uci.edu/ml/datasets/Optical+Recognition+of+Handwritten+Digits), and addresses handritten image recognition."
   ]
  },
  {
   "cell_type": "code",
   "execution_count": 6,
   "metadata": {},
   "outputs": [],
   "source": [
    "from sklearn import datasets\n",
    "digits = datasets.load_digits()"
   ]
  },
  {
   "cell_type": "code",
   "execution_count": 7,
   "metadata": {},
   "outputs": [
    {
     "name": "stdout",
     "output_type": "stream",
     "text": [
      "(1797, 64) (1797,)\n"
     ]
    }
   ],
   "source": [
    "X = digits.data\n",
    "y = digits.target\n",
    "print(X.shape, y.shape)"
   ]
  },
  {
   "cell_type": "markdown",
   "metadata": {},
   "source": [
    "Each pixel in an image corresponds to a feature, so an 8 x 8 images yield a feature matrix which has 64 dimensions.  Each element in the feature matrix represents the grey-level of the pixel measured as an integer on the range 0 and 16:"
   ]
  },
  {
   "cell_type": "code",
   "execution_count": 8,
   "metadata": {},
   "outputs": [
    {
     "data": {
      "text/plain": [
       "(16.0, 0.0)"
      ]
     },
     "execution_count": 8,
     "metadata": {},
     "output_type": "execute_result"
    }
   ],
   "source": [
    "X.max(),X.min()"
   ]
  },
  {
   "cell_type": "markdown",
   "metadata": {},
   "source": [
    "Before displaying images as we think of images, let us take a moment and look at the array of pixels for an image."
   ]
  },
  {
   "cell_type": "code",
   "execution_count": 9,
   "metadata": {},
   "outputs": [
    {
     "name": "stdout",
     "output_type": "stream",
     "text": [
      "The pixel values for image index 0 which is actually the digit 0\n",
      "[[ 0.  0.  5. 13.  9.  1.  0.  0.]\n",
      " [ 0.  0. 13. 15. 10. 15.  5.  0.]\n",
      " [ 0.  3. 15.  2.  0. 11.  8.  0.]\n",
      " [ 0.  4. 12.  0.  0.  8.  8.  0.]\n",
      " [ 0.  5.  8.  0.  0.  9.  8.  0.]\n",
      " [ 0.  4. 11.  0.  1. 12.  7.  0.]\n",
      " [ 0.  2. 14.  5. 10. 12.  0.  0.]\n",
      " [ 0.  0.  6. 13. 10.  0.  0.  0.]]\n"
     ]
    }
   ],
   "source": [
    "index = 0\n",
    "print(f'The pixel values for image index {index} which is actually the digit {y[index]}')\n",
    "print(np.resize(X[index,:],(8,8)))"
   ]
  },
  {
   "cell_type": "markdown",
   "metadata": {},
   "source": [
    "Let's visualize the first 10 examples in the dataset as images:"
   ]
  },
  {
   "cell_type": "code",
   "execution_count": 10,
   "metadata": {},
   "outputs": [
    {
     "data": {
      "image/png": "[encoded data removed]",
      "text/plain": [
       "<Figure size 432x288 with 10 Axes>"
      ]
     },
     "metadata": {
      "needs_background": "light"
     },
     "output_type": "display_data"
    }
   ],
   "source": [
    "num_plots = 10\n",
    "fig, axes = plt.subplots(2, 5);\n",
    "for i in range(num_plots) :\n",
    "    ax = axes[i // 5][i % 5]\n",
    "    ax.set_axis_off()\n",
    "    ax.imshow(np.resize(X[i], (8,8)), \n",
    "              cmap=plt.cm.gray_r, interpolation='nearest')\n",
    "    ax.set_title('label: %i' % y[i])"
   ]
  },
  {
   "cell_type": "markdown",
   "metadata": {},
   "source": [
    "A scatter plot of the data will show us that individual features do carry some information about the labels:"
   ]
  },
  {
   "cell_type": "code",
   "execution_count": 11,
   "metadata": {},
   "outputs": [
    {
     "data": {
      "text/plain": [
       "<matplotlib.collections.PathCollection at 0x7fde38631190>"
      ]
     },
     "execution_count": 11,
     "metadata": {},
     "output_type": "execute_result"
    },
    {
     "data": {
      "image/png": "[encoded data removed]",
      "text/plain": [
       "<Figure size 432x288 with 1 Axes>"
      ]
     },
     "metadata": {
      "needs_background": "light"
     },
     "output_type": "display_data"
    }
   ],
   "source": [
    "plt.scatter(X[:, 10], X[:, 20], c=y, alpha=1.0)"
   ]
  },
  {
   "cell_type": "markdown",
   "metadata": {},
   "source": [
    "Later in the course we will see ways of visualizing high dimensional data in two or three dimensions, which will help us get a better picture of what's going on overall."
   ]
  },
  {
   "cell_type": "markdown",
   "metadata": {},
   "source": [
    "Before using the nearest neighbor classifier we need to split the data into training and test sets:"
   ]
  },
  {
   "cell_type": "code",
   "execution_count": 12,
   "metadata": {},
   "outputs": [
    {
     "name": "stdout",
     "output_type": "stream",
     "text": [
      "(1257, 64) (540, 64)\n"
     ]
    }
   ],
   "source": [
    "from sklearn.model_selection import train_test_split\n",
    "X_train, X_test, y_train, y_test = train_test_split(X, y, \n",
    "    test_size=0.30, shuffle=True, random_state=42)\n",
    "\n",
    "print(X_train.shape, X_test.shape)"
   ]
  },
  {
   "cell_type": "markdown",
   "metadata": {},
   "source": [
    "Now we are ready to classify our data:"
   ]
  },
  {
   "cell_type": "code",
   "execution_count": 13,
   "metadata": {},
   "outputs": [],
   "source": [
    "nn = nearest_neighbor()\n",
    "nn.fit(X_train, y_train)\n",
    "y_pred = np.array([nn.predict(X_test[i]) for i in range(len(X_test))])"
   ]
  },
  {
   "cell_type": "markdown",
   "metadata": {},
   "source": [
    "How accurate is our classifier?"
   ]
  },
  {
   "cell_type": "code",
   "execution_count": 14,
   "metadata": {},
   "outputs": [
    {
     "name": "stdout",
     "output_type": "stream",
     "text": [
      "The accuracy is 0.983\n"
     ]
    }
   ],
   "source": [
    "# np.set_printoptions(precision=4)\n",
    "acc = np.sum(y_pred == y_test)/len(y_test)\n",
    "print(f'The accuracy is {acc:.3f}')\n"
   ]
  },
  {
   "cell_type": "markdown",
   "metadata": {},
   "source": [
    "Next, let's plot training examples and their closest test examples:"
   ]
  },
  {
   "cell_type": "code",
   "execution_count": 15,
   "metadata": {},
   "outputs": [
    {
     "data": {
      "image/png": "[encoded data removed]",
      "text/plain": [
       "<Figure size 432x288 with 10 Axes>"
      ]
     },
     "metadata": {
      "needs_background": "light"
     },
     "output_type": "display_data"
    }
   ],
   "source": [
    "num_plots = 5\n",
    "fig, axes = plt.subplots(5, 2);\n",
    "for i in range(num_plots) :\n",
    "    ax_test = axes[i][0]\n",
    "    ax_nearest = axes[i][1]\n",
    "    ax_test.set_axis_off()\n",
    "    ax_nearest.set_axis_off()\n",
    "    ax_test.imshow(np.resize(X_test[i], (8,8)), \n",
    "              cmap=plt.cm.gray_r, interpolation='nearest')\n",
    "    nearest = X_train[nn.get_nearest(X_test[i])]\n",
    "    ax_nearest.imshow(np.resize(nearest, (8,8)), \n",
    "              cmap=plt.cm.gray_r, interpolation='nearest')\n",
    "    if (i==0):\n",
    "        ax_test.set_title('test example')\n",
    "        ax_nearest.set_title('nearest example')"
   ]
  },
  {
   "cell_type": "markdown",
   "metadata": {},
   "source": [
    "## About Training / Test Splits\n",
    "\n",
    "We have not really talked yet, surprisingly, much about the most important issue in machine learning - **generalization**.\n",
    "\n",
    "To meaningfully discuss generalization to new samples there are a couple of nomenclature hurdles we need to overcome.  With this in mind, let us discussed the following terms:\n",
    "\n",
    "* Data Set (Domain)\n",
    "* Training Set\n",
    "* Test Set\n",
    "* Validation Set\n",
    "* Random Sampling\n",
    "* IID Sampling\n",
    "* Biased Sampling\n",
    "* Overfitting\n",
    "\n",
    "Last but not least, perhaps the most important and hardest issue is simply this - when confronting a real world problem where the goal is to make predictions (use machine learning), what evidence is there for the underlying assumption that the past (training) looks like the future (test)?  \n",
    "\n",
    "Also, and this will take us back to our digit classification task, anyone up-to-speed on the foundation and practice of Machine Learning must take seriously this question:\n",
    "\n",
    ">  How easy is our problem? \n",
    "\n",
    "And please do not be fooled by the apparent simplicity of the above question.  Being a bit personal about research, I find myself repeatedly drawn back to this question. It is a truly important question and there are as many ways to think through the implications of your data as there are clever data scientists. That said, you've just seen one of the more fruitful techniques. When confronting a new data set a great question is:\n",
    "\n",
    "> How well does a nearest neighbor classifier work on my data?\n",
    "\n",
    "Further, how many samples must be memorized before performance acheives a reasonable level. Below we will pursue specifically this question for the digits data set. \n",
    "\n",
    "You may also find the following resource useful:  \n",
    "\n",
    "* [Google Developers Lecture on Generalization](https://developers.google.com/machine-learning/crash-course/generalization/video-lecture)"
   ]
  },
  {
   "cell_type": "markdown",
   "metadata": {},
   "source": [
    "### Experiment with Different Train / Test Splits\n",
    "\n",
    "This is a good time to start talking more about how machine learning approaches splitting data into training and testing sets.  There are of course some ground rules.  The test samples must never be the same - or even overlap - the training samples. Beyond that, matters get more complicated depending upon your goal.  As we progress terms such as `k-fold cross validation` will come into play.  But, I want for the moment to step away from such complexity and start simpler.  \n",
    "\n",
    "So, we begin asking what it means to break our data into disjoint chunks, splits. Further, we would like to get roughly the same number of examples of each class in each slits.  Here is on way to accomplish that task on the digits data set. And as you can tell by the naming, the object `StratifiedKFold` we are using will turn up later in the context of `k-fold` cross validation.\n"
   ]
  },
  {
   "cell_type": "code",
   "execution_count": 16,
   "metadata": {},
   "outputs": [
    {
     "data": {
      "text/plain": [
       "StratifiedKFold(n_splits=5, random_state=43, shuffle=True)"
      ]
     },
     "execution_count": 16,
     "metadata": {},
     "output_type": "execute_result"
    }
   ],
   "source": [
    "splits_k = 5\n",
    "random_seed = 43\n",
    "from sklearn.model_selection import StratifiedKFold\n",
    "skf = StratifiedKFold(n_splits=splits_k,\n",
    "                      random_state=random_seed,shuffle=True)\n",
    "skf.get_n_splits(X, y)\n",
    "skf\n",
    "\n"
   ]
  },
  {
   "cell_type": "code",
   "execution_count": 17,
   "metadata": {},
   "outputs": [
    {
     "data": {
      "text/plain": [
       "<generator object _BaseKFold.split at 0x7fde38670dd0>"
      ]
     },
     "execution_count": 17,
     "metadata": {},
     "output_type": "execute_result"
    }
   ],
   "source": [
    "skf.split(X,y)"
   ]
  },
  {
   "cell_type": "markdown",
   "metadata": {},
   "source": [
    "What can we do with this new object?  Well, the simplest thing we can do is take advantage of the fact it created $k$ disjoint splits of our data `X` balancing the sampling so as to keep - as close as possible - an equal number of each class in each split. "
   ]
  },
  {
   "cell_type": "code",
   "execution_count": 18,
   "metadata": {},
   "outputs": [
    {
     "data": {
      "text/plain": [
       "array([360, 360, 359, 359, 359])"
      ]
     },
     "execution_count": 18,
     "metadata": {},
     "output_type": "execute_result"
    }
   ],
   "source": [
    "splits = []\n",
    "for train_index, test_index in skf.split(X, y):\n",
    "    splits.append(test_index)\n",
    "split_sizes = np.array([splits[i].shape[0] for i in range(splits_k)])\n",
    "split_sizes"
   ]
  },
  {
   "cell_type": "markdown",
   "metadata": {},
   "source": [
    "### Test if Splits are Balanced and Complete\n",
    "\n",
    "There are two things we care about.  Are the class labels as evenly distributed as can be hoped for in each split. We can test this with a histogram of labels. Does the union of the splits contain are compete data set `X`?  Testing this is more interesting (see below)"
   ]
  },
  {
   "cell_type": "code",
   "execution_count": 19,
   "metadata": {},
   "outputs": [
    {
     "data": {
      "image/png": "[encoded data removed]",
      "text/plain": [
       "<Figure size 648x432 with 5 Axes>"
      ]
     },
     "metadata": {
      "needs_background": "light"
     },
     "output_type": "display_data"
    }
   ],
   "source": [
    "fig, axes = plt.subplots(len(splits), 1);\n",
    "fig.set_size_inches(9,6)\n",
    "for i in range(len(splits)) :\n",
    "    ax = axes[i]\n",
    "    ax.hist(y[splits[i]],rwidth=0.75,color='darkgreen')"
   ]
  },
  {
   "cell_type": "markdown",
   "metadata": {},
   "source": [
    "Note how the next four lines of code are used to confirm that all indices in `X` are present in the union of the splits. "
   ]
  },
  {
   "cell_type": "code",
   "execution_count": 20,
   "metadata": {},
   "outputs": [
    {
     "data": {
      "text/plain": [
       "0"
      ]
     },
     "execution_count": 20,
     "metadata": {},
     "output_type": "execute_result"
    }
   ],
   "source": [
    "foo = np.hstack(splits)\n",
    "bar = np.sort(foo)\n",
    "inc = [(bar[i+1] - bar[i]) - 1 for i in range(len(bar)-1)]\n",
    "np.sum(inc)"
   ]
  },
  {
   "cell_type": "markdown",
   "metadata": {},
   "source": [
    "### Split Zero is Training the Rest Testing\n",
    "\n",
    "For our nearest neighbor classifier which does not really seem to need large amounts of training data and easy way to test is to use the first split (split zero) as the training data and the rest as the test data."
   ]
  },
  {
   "cell_type": "code",
   "execution_count": 21,
   "metadata": {},
   "outputs": [
    {
     "data": {
      "text/plain": [
       "((360, 64), (1437, 64))"
      ]
     },
     "execution_count": 21,
     "metadata": {},
     "output_type": "execute_result"
    }
   ],
   "source": [
    "X_train = X[splits[0]]\n",
    "y_train = y[splits[0]]\n",
    "X_test = X[np.hstack(splits[1:])]\n",
    "y_test = y[np.hstack(splits[1:])]\n",
    "(X_train.shape, X_test.shape)"
   ]
  },
  {
   "cell_type": "code",
   "execution_count": 22,
   "metadata": {},
   "outputs": [
    {
     "name": "stdout",
     "output_type": "stream",
     "text": [
      "Accuracy is 0.964\n"
     ]
    }
   ],
   "source": [
    "nn = nearest_neighbor()\n",
    "nn.fit(X_train, y_train)\n",
    "y_pred = np.array([nn.predict(X_test[i]) for i in range(len(X_test))])\n",
    "acc = np.sum(y_pred == y_test)/len(y_test)\n",
    "print(f'Accuracy is {acc:.3f}')"
   ]
  },
  {
   "cell_type": "markdown",
   "metadata": {},
   "source": [
    "## The decision boundary \n",
    "\n",
    "Another way to think about the nearest neighbor classifier is to consider the question of the shape of its decision boundary.  While the decision boundary of classifiers such as the perceptron are linear, the nearest neighbor classifier is more flexible as we see next.\n",
    "\n",
    "First, here's a function for plotting the decision boundary of a classifier:"
   ]
  },
  {
   "cell_type": "code",
   "execution_count": 23,
   "metadata": {},
   "outputs": [],
   "source": [
    "from matplotlib.colors import ListedColormap\n",
    "\n",
    "def plot_boundary(classifier, X, y, axes = None) :\n",
    "    \"\"\"\n",
    "    code based on:\n",
    "    https://scikit-learn.org/stable/auto_examples/neighbors/plot_classification.html\n",
    "    \"\"\"\n",
    "    classifier.fit(X, y)\n",
    "    # color maps\n",
    "    cmap_light = ListedColormap(['#FFAAAA', '#AAFFAA', '#AAAAFF'])\n",
    "    cmap_bold  = ListedColormap(['#FF0000', '#00FF00', '#0000FF'])\n",
    "    # create a two dimensional grid of points\n",
    "    h = .02  # grid size\n",
    "    x_min, x_max = X[:, 0].min() - 0.2, X[:, 0].max() + 0.2\n",
    "    y_min, y_max = X[:, 1].min() - 0.2, X[:, 1].max() + 0.2\n",
    "    xx, yy = np.meshgrid(np.arange(x_min, x_max, h),\n",
    "                         np.arange(y_min, y_max, h))\n",
    "    Z = classifier.predict(np.c_[xx.ravel(), yy.ravel()])\n",
    "\n",
    "    # plot the predictions on the grid\n",
    "    Z = Z.reshape(xx.shape)\n",
    "    plt.pcolormesh(xx, yy, Z, cmap=cmap_light, shading='auto')\n",
    "\n",
    "    # plot the training points\n",
    "    plt.scatter(X[:, 0], X[:, 1], c=y, cmap=cmap_bold, alpha=0.5)\n",
    "    \n",
    "    plt.xlim(x_min, x_max)\n",
    "    plt.ylim(y_min, y_max)\n",
    "    "
   ]
  },
  {
   "cell_type": "code",
   "execution_count": 28,
   "metadata": {},
   "outputs": [
    {
     "data": {
      "image/png": "[encoded data removed]",
      "text/plain": [
       "<Figure size 432x288 with 1 Axes>"
      ]
     },
     "metadata": {
      "needs_background": "light"
     },
     "output_type": "display_data"
    }
   ],
   "source": [
    "from sklearn.datasets import make_classification\n",
    "X,y = make_classification(n_samples=100, n_features=2, n_informative=2, \n",
    "                          n_redundant=0, n_repeated=0, n_classes=2, \n",
    "                          n_clusters_per_class=1, class_sep=0.35, random_state=1)\n",
    "\n",
    "from sklearn.neighbors import KNeighborsClassifier\n",
    "classifier = KNeighborsClassifier(1)\n",
    "\n",
    "plot_boundary(classifier, X, y)"
   ]
  },
  {
   "cell_type": "markdown",
   "metadata": {},
   "source": [
    "### To further highlight the way the nearest neighbor classifier works, here's random data in two dimensions:"
   ]
  },
  {
   "cell_type": "code",
   "execution_count": 31,
   "metadata": {},
   "outputs": [
    {
     "data": {
      "image/png": "[encoded data removed]",
      "text/plain": [
       "<Figure size 432x288 with 1 Axes>"
      ]
     },
     "metadata": {
      "needs_background": "light"
     },
     "output_type": "display_data"
    }
   ],
   "source": [
    "from numpy.random import default_rng\n",
    "rng = default_rng(1)\n",
    "\n",
    "X_random = rng.random(size=(100, 2))\n",
    "y_random = rng.integers(0, 2, len(X_random))\n",
    "classifier = KNeighborsClassifier(1)\n",
    "plot_boundary(classifier, X_random, y_random)"
   ]
  },
  {
   "cell_type": "markdown",
   "metadata": {},
   "source": [
    "### Voronoi diagrams\n",
    "\n",
    "<img style=\"padding: 10px; float:left;\" alt=\"20 points and their Voronoi cells by Balu Ertl CC BY-SA 4.0\" src=\"https://upload.wikimedia.org/wikipedia/commons/5/54/Euclidean_Voronoi_diagram.svg\" width=\"250\">\n",
    "\n",
    "Turns out that the decision boundary of a nearest neighbor classifier is related to the concept of a *Voronoi diagram*.\n",
    "\n",
    "Given a collection of points $\\{\\mathbf{x}_1,\\ldots,\\mathbf{x}_N\\}$,\n",
    "the Voronoi cell associated with point $\\mathbf{x}_i$ is the set of points that are closer to $\\mathbf{x}_i$ than every other point in the collection.\n",
    "\n",
    "For nearest neighbor classification we obtain the decision boundary by merging adjacent Voronoi cells that have the same label associated with them."
   ]
  },
  {
   "cell_type": "code",
   "execution_count": null,
   "metadata": {},
   "outputs": [],
   "source": []
  }
 ],
 "metadata": {
  "kernelspec": {
   "display_name": "Python 3 (ipykernel)",
   "language": "python",
   "name": "python3"
  },
  "language_info": {
   "codemirror_mode": {
    "name": "ipython",
    "version": 3
   },
   "file_extension": ".py",
   "mimetype": "text/x-python",
   "name": "python",
   "nbconvert_exporter": "python",
   "pygments_lexer": "ipython3",
   "version": "3.9.6"
  }
 },
 "nbformat": 4,
 "nbformat_minor": 1
}
