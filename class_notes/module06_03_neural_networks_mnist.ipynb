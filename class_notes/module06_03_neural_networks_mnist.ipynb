{
 "cells": [
  {
   "cell_type": "markdown",
   "metadata": {
    "id": "M8HHCod-Qyjl"
   },
   "source": [
    "# Fully Connected Network and MNIST\n",
    "\n",
    "This notebook is part of  course materials for CS 345: Machine Learning Foundations and Practice at Colorado State University.\n",
    "Original versions were created by Ben Sattelberg and Asa Ben-Hur with updates by Ross Beveridge.\n",
    "\n",
    "Last Update 11/11/20201\n",
    "\n",
    "*The text is released under the [CC BY-SA license](https://creativecommons.org/licenses/by-sa/4.0/), and code is released under the [MIT license](https://opensource.org/licenses/MIT).*\n"
   ]
  },
  {
   "cell_type": "code",
   "execution_count": 1,
   "metadata": {
    "executionInfo": {
     "elapsed": 761,
     "status": "ok",
     "timestamp": 1617898463617,
     "user": {
      "displayName": "Ross Beveridge",
      "photoUrl": "https://lh3.googleusercontent.com/a-/AOh14GhZ9yfcROZXIKThWciv5reom6aDm1Spt-r8JOsVNA=s64",
      "userId": "11748907218223072510"
     },
     "user_tz": 360
    },
    "id": "Q2VtqTqXQyju"
   },
   "outputs": [],
   "source": [
    "%matplotlib inline\n",
    "import numpy as np\n",
    "import matplotlib.pyplot as plt"
   ]
  },
  {
   "cell_type": "markdown",
   "metadata": {
    "id": "-W9FwCCgQyjv"
   },
   "source": [
    "## About Keras\n",
    "\n",
    "This notebook uses [Keras](https://keras.io) and so you may need to add Keras to your available packages.\n",
    "\n",
    "I am using Conda to manage my Python setup and here so use these [Instructions](https://anaconda.org/conda-forge/keras)\n",
    "\n",
    "And a note about suppressing warnings.  Normally I hate to do this, but there modern ML APIs get into knots over different versions and dependences and the issue involves compatibility between different versions of TensorFlow relative to versions of Numpy. For the moment (4/8/2021) all is still working - so I don't want to be told about future problems."
   ]
  },
  {
   "cell_type": "code",
   "execution_count": 2,
   "metadata": {
    "executionInfo": {
     "elapsed": 2445,
     "status": "ok",
     "timestamp": 1617898465315,
     "user": {
      "displayName": "Ross Beveridge",
      "photoUrl": "https://lh3.googleusercontent.com/a-/AOh14GhZ9yfcROZXIKThWciv5reom6aDm1Spt-r8JOsVNA=s64",
      "userId": "11748907218223072510"
     },
     "user_tz": 360
    },
    "id": "ODtLhGnZQyjv"
   },
   "outputs": [
    {
     "name": "stderr",
     "output_type": "stream",
     "text": [
      "Using TensorFlow backend.\n"
     ]
    }
   ],
   "source": [
    "import warnings\n",
    "warnings.simplefilter(action='ignore', category=FutureWarning)\n",
    "import keras"
   ]
  },
  {
   "cell_type": "markdown",
   "metadata": {
    "id": "ovp8Iz8MQyjw"
   },
   "source": [
    "# Neural Networks"
   ]
  },
  {
   "cell_type": "markdown",
   "metadata": {
    "id": "wp3316Q1Qyjw"
   },
   "source": [
    "### Preface:  enabling GPUs on google colab\n",
    "\n",
    "Until now we ran our neural networks on a CPU.  If you are running this notebook on google colab, you are in luck - google colab will allow you to run your code on a GPU.  Enabling a GPU is very simple:  All you need to do is navigate to Edit→Notebook Settings and select GPU from the Hardware Accelerator drop-down.\n",
    "This [colab notebook](https://colab.research.google.com/notebooks/gpu.ipynb) has instructions for verifying that you are using a GPU and see the resulting speedup.\n"
   ]
  },
  {
   "cell_type": "markdown",
   "metadata": {
    "id": "g8FJCsLPQyjw"
   },
   "source": [
    "## The MNIST dataset"
   ]
  },
  {
   "cell_type": "markdown",
   "metadata": {
    "id": "nXLtIKBCQyjx"
   },
   "source": [
    "In this notebook, we'll look at the real (but still relatively easy) problem of handwritten digit recognition.  We will be using the MNIST (modified National Institute of Standards and Technology) database which has images taken from a NIST database of handwritten digits and modified by Yann Lecun, Corinna Cortes, and Christopher J.C. Burges to be more easily used in machine learning.\n",
    "\n",
    "You are encouraged to read up more on this dataset. While no longer useful for demonstrating state-of-the-art advancments in machine learning, as a dataset, it will live on for a long time as both a teaching tools (see this lecture) and also some degree as a testbed for ideas aimed at better explaining the behavior of machine learning algorithms. To get you started:\n",
    "\n",
    "- The basics: [MNIST Database on Wikipedia](https://en.wikipedia.org/wiki/MNIST_database)\n",
    "- A significant read: [A Survey of Handwritten Character Recognition with MNIST and EMNIST](https://www.mdpi.com/2076-3417/9/15/3169)\n",
    "\n",
    "No on to today's excericse. The first thing we need to do is to load the dataset.  Fortunately, Keras does this work for us:"
   ]
  },
  {
   "cell_type": "code",
   "execution_count": 3,
   "metadata": {
    "colab": {
     "base_uri": "https://localhost:8080/"
    },
    "executionInfo": {
     "elapsed": 2867,
     "status": "ok",
     "timestamp": 1617898465738,
     "user": {
      "displayName": "Ross Beveridge",
      "photoUrl": "https://lh3.googleusercontent.com/a-/AOh14GhZ9yfcROZXIKThWciv5reom6aDm1Spt-r8JOsVNA=s64",
      "userId": "11748907218223072510"
     },
     "user_tz": 360
    },
    "id": "piwka3UEQyjx",
    "outputId": "998aeb5f-d794-4447-c45b-67c1d85edb0e"
   },
   "outputs": [],
   "source": [
    "# This will download an 11.5 MB file to ~/.keras/datasets/\n",
    "(X_train, y_train), (X_test, y_test) = keras.datasets.mnist.load_data()"
   ]
  },
  {
   "cell_type": "markdown",
   "metadata": {
    "id": "dfnsqAa2Qyjx"
   },
   "source": [
    "Let's get some information about the dataset:"
   ]
  },
  {
   "cell_type": "code",
   "execution_count": 4,
   "metadata": {
    "colab": {
     "base_uri": "https://localhost:8080/"
    },
    "executionInfo": {
     "elapsed": 2857,
     "status": "ok",
     "timestamp": 1617898465739,
     "user": {
      "displayName": "Ross Beveridge",
      "photoUrl": "https://lh3.googleusercontent.com/a-/AOh14GhZ9yfcROZXIKThWciv5reom6aDm1Spt-r8JOsVNA=s64",
      "userId": "11748907218223072510"
     },
     "user_tz": 360
    },
    "id": "YbEPx5szQyjx",
    "outputId": "79bfd410-87cb-4d79-83fd-5c7449febb1a"
   },
   "outputs": [
    {
     "name": "stdout",
     "output_type": "stream",
     "text": [
      "(60000, 28, 28) (60000,)\n",
      "0 9\n"
     ]
    }
   ],
   "source": [
    "print(X_train.shape, y_train.shape)\n",
    "print(min(y_train), max(y_train))"
   ]
  },
  {
   "cell_type": "markdown",
   "metadata": {
    "id": "F0pzmr3dQyjy"
   },
   "source": [
    "This tells that we have 60,000 input images, each of which is 28x28 pixels.  The labels are, unsuprisingly for a database of digits, the numbers 0 through 9, corresponding to which digit the image represents.  Now let's look at the test set:"
   ]
  },
  {
   "cell_type": "code",
   "execution_count": 5,
   "metadata": {
    "colab": {
     "base_uri": "https://localhost:8080/"
    },
    "executionInfo": {
     "elapsed": 3025,
     "status": "ok",
     "timestamp": 1617898465917,
     "user": {
      "displayName": "Ross Beveridge",
      "photoUrl": "https://lh3.googleusercontent.com/a-/AOh14GhZ9yfcROZXIKThWciv5reom6aDm1Spt-r8JOsVNA=s64",
      "userId": "11748907218223072510"
     },
     "user_tz": 360
    },
    "id": "ARHW0OE-Qyjy",
    "outputId": "2422a3af-b21d-445c-9556-8f8c71caa468"
   },
   "outputs": [
    {
     "name": "stdout",
     "output_type": "stream",
     "text": [
      "(10000, 28, 28)\n",
      "(10000,)\n"
     ]
    }
   ],
   "source": [
    "print(X_test.shape)\n",
    "print(y_test.shape)"
   ]
  },
  {
   "cell_type": "markdown",
   "metadata": {
    "id": "0G_9zToPQyjy"
   },
   "source": [
    "Here we have 10,000 samples with the same format as the training set."
   ]
  },
  {
   "cell_type": "markdown",
   "metadata": {
    "id": "zBgWDzODQyjz"
   },
   "source": [
    "Let's look at one of the images:"
   ]
  },
  {
   "cell_type": "code",
   "execution_count": 6,
   "metadata": {
    "colab": {
     "base_uri": "https://localhost:8080/",
     "height": 367
    },
    "executionInfo": {
     "elapsed": 3268,
     "status": "ok",
     "timestamp": 1617898466169,
     "user": {
      "displayName": "Ross Beveridge",
      "photoUrl": "https://lh3.googleusercontent.com/a-/AOh14GhZ9yfcROZXIKThWciv5reom6aDm1Spt-r8JOsVNA=s64",
      "userId": "11748907218223072510"
     },
     "user_tz": 360
    },
    "id": "3US44WaHQyjz",
    "outputId": "c9ffdfa4-0156-440e-a385-143a624dfce2"
   },
   "outputs": [
    {
     "data": {
      "image/png": "[encoded data removed]",
      "text/plain": [
       "<Figure size 432x432 with 2 Axes>"
      ]
     },
     "metadata": {
      "needs_background": "light"
     },
     "output_type": "display_data"
    }
   ],
   "source": [
    "fig, ax = plt.subplots(1,1,figsize=(6,6))\n",
    "pick = 7\n",
    "im = ax.imshow(X_train[pick, :, :], cmap='Greys')\n",
    "ax.set_title(\"Digit Label: \" + str(y_train[pick]),fontsize=20)\n",
    "cbar = fig.colorbar(im)\n",
    "cbar.set_ticks([0, 128, 255])\n",
    "ax.set_xticks([0, 14, 27])\n",
    "ax.set_yticks([0, 14, 27]);"
   ]
  },
  {
   "cell_type": "markdown",
   "metadata": {
    "id": "ybarZi5NQyjz"
   },
   "source": [
    "Here we can see that the image is a grayscale 28x28 image with pixel values between 0 and 255.  We can also look at a few other images in the dataset:"
   ]
  },
  {
   "cell_type": "code",
   "execution_count": 7,
   "metadata": {
    "colab": {
     "base_uri": "https://localhost:8080/",
     "height": 591
    },
    "executionInfo": {
     "elapsed": 4554,
     "status": "ok",
     "timestamp": 1617898467464,
     "user": {
      "displayName": "Ross Beveridge",
      "photoUrl": "https://lh3.googleusercontent.com/a-/AOh14GhZ9yfcROZXIKThWciv5reom6aDm1Spt-r8JOsVNA=s64",
      "userId": "11748907218223072510"
     },
     "user_tz": 360
    },
    "id": "le7Ut3f2Qyj0",
    "outputId": "62214c3b-34df-4d7c-f0b1-cf1533b708b2"
   },
   "outputs": [
    {
     "data": {
      "image/png": "[encoded data removed]",
      "text/plain": [
       "<Figure size 720x720 with 25 Axes>"
      ]
     },
     "metadata": {
      "needs_background": "light"
     },
     "output_type": "display_data"
    }
   ],
   "source": [
    "fig, axes = plt.subplots(5, 5, figsize=(10,10))\n",
    "\n",
    "for i in range(5):\n",
    "    for j in range(5):\n",
    "        axes[i,j].imshow(X_train[i*5 + j, :, :], cmap='Greys')\n",
    "        axes[i,j].set_title(\"Label: \" + str(y_train[i*5+j]))\n",
    "        axes[i,j].axis('off')"
   ]
  },
  {
   "cell_type": "markdown",
   "metadata": {
    "id": "ut-2uqlRQyj0"
   },
   "source": [
    "There are a few things we want to do to the input data before we use it.  The first is to convert it to 32 bit floats:"
   ]
  },
  {
   "cell_type": "code",
   "execution_count": 8,
   "metadata": {
    "executionInfo": {
     "elapsed": 4554,
     "status": "ok",
     "timestamp": 1617898467465,
     "user": {
      "displayName": "Ross Beveridge",
      "photoUrl": "https://lh3.googleusercontent.com/a-/AOh14GhZ9yfcROZXIKThWciv5reom6aDm1Spt-r8JOsVNA=s64",
      "userId": "11748907218223072510"
     },
     "user_tz": 360
    },
    "id": "Hvfkjp0bQyj0"
   },
   "outputs": [],
   "source": [
    "X_train = X_train.astype('float32')\n",
    "X_test = X_test.astype('float32')"
   ]
  },
  {
   "cell_type": "markdown",
   "metadata": {
    "id": "HEVc-twaQyj0"
   },
   "source": [
    "We also want to change the range of the data from integers between 0 and 255 to numbers between 0 and 1 to help with training:"
   ]
  },
  {
   "cell_type": "code",
   "execution_count": 9,
   "metadata": {
    "executionInfo": {
     "elapsed": 4553,
     "status": "ok",
     "timestamp": 1617898467465,
     "user": {
      "displayName": "Ross Beveridge",
      "photoUrl": "https://lh3.googleusercontent.com/a-/AOh14GhZ9yfcROZXIKThWciv5reom6aDm1Spt-r8JOsVNA=s64",
      "userId": "11748907218223072510"
     },
     "user_tz": 360
    },
    "id": "Mqb6oI53Qyj1"
   },
   "outputs": [],
   "source": [
    "X_train /= 255\n",
    "X_test /= 255"
   ]
  },
  {
   "cell_type": "markdown",
   "metadata": {
    "id": "QEZ3zh1BQyj1"
   },
   "source": [
    "The last step, which is less obvious, is to reshape the actual data to have an extra dimension:"
   ]
  },
  {
   "cell_type": "code",
   "execution_count": 10,
   "metadata": {
    "executionInfo": {
     "elapsed": 4553,
     "status": "ok",
     "timestamp": 1617898467466,
     "user": {
      "displayName": "Ross Beveridge",
      "photoUrl": "https://lh3.googleusercontent.com/a-/AOh14GhZ9yfcROZXIKThWciv5reom6aDm1Spt-r8JOsVNA=s64",
      "userId": "11748907218223072510"
     },
     "user_tz": 360
    },
    "id": "Mne4d5pvQyj1"
   },
   "outputs": [],
   "source": [
    "X_train = X_train.reshape(-1, 28, 28, 1)\n",
    "X_test = X_test.reshape(-1, 28, 28, 1)"
   ]
  },
  {
   "cell_type": "markdown",
   "metadata": {
    "id": "q7silm_7Qyj1"
   },
   "source": [
    "This dimension corresponds to the number of \"channels\" in the image.  This data is grayscale, but color images are typically stored in RGB (red, green, blue) format, where there the three channels describe the amount of red, green, and blue at each pixel.  Keras is designed to handle images as a native data format without needing to \"flatten\" the images into vectors as a preprocessing step.\n",
    "\n",
    "We will also convert the `y_train` and `y_test` to a one-hot encoding:"
   ]
  },
  {
   "cell_type": "code",
   "execution_count": 11,
   "metadata": {
    "executionInfo": {
     "elapsed": 4552,
     "status": "ok",
     "timestamp": 1617898467466,
     "user": {
      "displayName": "Ross Beveridge",
      "photoUrl": "https://lh3.googleusercontent.com/a-/AOh14GhZ9yfcROZXIKThWciv5reom6aDm1Spt-r8JOsVNA=s64",
      "userId": "11748907218223072510"
     },
     "user_tz": 360
    },
    "id": "tgULJOHIQyj1"
   },
   "outputs": [],
   "source": [
    "y_train_one_hot = keras.utils.to_categorical(y_train, 10)\n",
    "y_test_one_hot = keras.utils.to_categorical(y_test, 10)"
   ]
  },
  {
   "cell_type": "markdown",
   "metadata": {},
   "source": [
    "We have reviewed one hot encoding several times, but just to keep in clear in everyone's mind, here we print out the original training signal (y vector) and the one hot encoding equivalent."
   ]
  },
  {
   "cell_type": "code",
   "execution_count": 12,
   "metadata": {},
   "outputs": [
    {
     "name": "stdout",
     "output_type": "stream",
     "text": [
      "sample 0: 7, [0, 0, 0, 0, 0, 0, 0, 1, 0, 0]\n",
      "sample 1: 2, [0, 0, 1, 0, 0, 0, 0, 0, 0, 0]\n",
      "sample 2: 1, [0, 1, 0, 0, 0, 0, 0, 0, 0, 0]\n",
      "sample 3: 0, [1, 0, 0, 0, 0, 0, 0, 0, 0, 0]\n",
      "sample 4: 4, [0, 0, 0, 0, 1, 0, 0, 0, 0, 0]\n",
      "sample 5: 1, [0, 1, 0, 0, 0, 0, 0, 0, 0, 0]\n",
      "sample 6: 4, [0, 0, 0, 0, 1, 0, 0, 0, 0, 0]\n",
      "sample 7: 9, [0, 0, 0, 0, 0, 0, 0, 0, 0, 1]\n",
      "sample 8: 5, [0, 0, 0, 0, 0, 1, 0, 0, 0, 0]\n",
      "sample 9: 9, [0, 0, 0, 0, 0, 0, 0, 0, 0, 1]\n"
     ]
    }
   ],
   "source": [
    "bnd = 10\n",
    "for i in range(bnd) :\n",
    "    foo = [round(x) for x in y_test_one_hot[i]]\n",
    "    print(f'sample {i}: {y_test[i]}, {foo}')\n"
   ]
  },
  {
   "cell_type": "markdown",
   "metadata": {
    "id": "OhhYlZlyQyj2"
   },
   "source": [
    "### Single hidden layer - Linear Models\n",
    "\n",
    "The first experiment we will do with this dataset is to test a simple linear model to get a baseline for how good we can expect our models to be.  We will use Keras for this, and simply not have any hidden layers in our network.\n",
    "\n",
    "In addition to the accuracy on the training set, we want to keep track of the accuracy on the testing set.  One way to do this with Keras is with a callback function that keeps track of the accuracy on the testing set as we progress through it.  It isn't necessary to understand the code here, but it is good to be aware of the goal of this structure."
   ]
  },
  {
   "cell_type": "code",
   "execution_count": 13,
   "metadata": {
    "executionInfo": {
     "elapsed": 4551,
     "status": "ok",
     "timestamp": 1617898467467,
     "user": {
      "displayName": "Ross Beveridge",
      "photoUrl": "https://lh3.googleusercontent.com/a-/AOh14GhZ9yfcROZXIKThWciv5reom6aDm1Spt-r8JOsVNA=s64",
      "userId": "11748907218223072510"
     },
     "user_tz": 360
    },
    "id": "4yoQumW6Qyj2"
   },
   "outputs": [],
   "source": [
    "# Structure based on https://github.com/keras-team/keras/issues/2548\n",
    "class EvaluateCallback(keras.callbacks.Callback):\n",
    "    def __init__(self, test_data):\n",
    "        self.test_data = test_data\n",
    "        \n",
    "    def on_epoch_end(self, epoch, logs):\n",
    "        x, y = self.test_data\n",
    "        loss, acc = self.model.evaluate(x, y, verbose=0)\n",
    "        if 'test loss' not in logs:\n",
    "            logs['test loss'] = []\n",
    "            logs['test acc'] = []\n",
    "        logs['test loss'] += [loss]\n",
    "        logs['test acc'] += [acc]\n",
    "        print(f'Testing loss: {loss:6.4f}, Testing accuracy: {acc:6.4f}')"
   ]
  },
  {
   "cell_type": "markdown",
   "metadata": {
    "id": "W0BoxvUoQyj2"
   },
   "source": [
    "We can now train our model.  One layer to notice is the ```Flatten()``` layer.  This layer converts the data from a 28x28x1 dimensional image to a 784=28\\*28\\*1 dimensional vector.\n",
    "\n",
    "Also notice the activation argument 'softmax'. Recall from our previous notebook that there are two things notable about using softmax.\n",
    "\n",
    "- The sum of the activiations, in our case ten output units, after softmax, will be forced to equal 1.0\n",
    "- Most of the 'mass' will naturally be shifted to the unit withe largest input excitation\n",
    "\n",
    "To get more background start with the [Wikipedia Softmax function](https://en.wikipedia.org/wiki/Softmax_function) page."
   ]
  },
  {
   "cell_type": "code",
   "execution_count": 17,
   "metadata": {
    "colab": {
     "base_uri": "https://localhost:8080/"
    },
    "executionInfo": {
     "elapsed": 30838,
     "status": "ok",
     "timestamp": 1617898493762,
     "user": {
      "displayName": "Ross Beveridge",
      "photoUrl": "https://lh3.googleusercontent.com/a-/AOh14GhZ9yfcROZXIKThWciv5reom6aDm1Spt-r8JOsVNA=s64",
      "userId": "11748907218223072510"
     },
     "user_tz": 360
    },
    "id": "TEFBkGxNQyj2",
    "outputId": "bb67fbf4-8184-4804-bfd2-6ffeaded7116",
    "scrolled": true
   },
   "outputs": [
    {
     "name": "stdout",
     "output_type": "stream",
     "text": [
      "Epoch 1/20\n",
      "60000/60000 [==============================] - 1s 8us/step - loss: 0.6325 - accuracy: 0.8417\n",
      "Testing loss: 0.3644, Testing accuracy: 0.9068\n",
      "Epoch 2/20\n",
      "60000/60000 [==============================] - 0s 8us/step - loss: 0.3470 - accuracy: 0.9057\n",
      "Testing loss: 0.3107, Testing accuracy: 0.9143\n",
      "Epoch 3/20\n",
      "60000/60000 [==============================] - 0s 8us/step - loss: 0.3102 - accuracy: 0.9139\n",
      "Testing loss: 0.2893, Testing accuracy: 0.9195\n",
      "Epoch 4/20\n",
      "60000/60000 [==============================] - 0s 8us/step - loss: 0.2924 - accuracy: 0.9182\n",
      "Testing loss: 0.2845, Testing accuracy: 0.9218\n",
      "Epoch 5/20\n",
      "60000/60000 [==============================] - 0s 8us/step - loss: 0.2821 - accuracy: 0.9215\n",
      "Testing loss: 0.2736, Testing accuracy: 0.9229\n",
      "Epoch 6/20\n",
      "60000/60000 [==============================] - 0s 8us/step - loss: 0.2749 - accuracy: 0.9239\n",
      "Testing loss: 0.2726, Testing accuracy: 0.9235\n",
      "Epoch 7/20\n",
      "60000/60000 [==============================] - 0s 8us/step - loss: 0.2694 - accuracy: 0.9251\n",
      "Testing loss: 0.2711, Testing accuracy: 0.9245\n",
      "Epoch 8/20\n",
      "60000/60000 [==============================] - 0s 8us/step - loss: 0.2654 - accuracy: 0.9258\n",
      "Testing loss: 0.2673, Testing accuracy: 0.9262\n",
      "Epoch 9/20\n",
      "60000/60000 [==============================] - 0s 7us/step - loss: 0.2619 - accuracy: 0.9272\n",
      "Testing loss: 0.2671, Testing accuracy: 0.9258\n",
      "Epoch 10/20\n",
      "60000/60000 [==============================] - 0s 7us/step - loss: 0.2590 - accuracy: 0.9280\n",
      "Testing loss: 0.2655, Testing accuracy: 0.9243\n",
      "Epoch 11/20\n",
      "60000/60000 [==============================] - 0s 8us/step - loss: 0.2568 - accuracy: 0.9287\n",
      "Testing loss: 0.2651, Testing accuracy: 0.9270\n",
      "Epoch 12/20\n",
      "60000/60000 [==============================] - 0s 7us/step - loss: 0.2549 - accuracy: 0.9292\n",
      "Testing loss: 0.2648, Testing accuracy: 0.9261\n",
      "Epoch 13/20\n",
      "60000/60000 [==============================] - 0s 7us/step - loss: 0.2526 - accuracy: 0.9306\n",
      "Testing loss: 0.2626, Testing accuracy: 0.9272\n",
      "Epoch 14/20\n",
      "60000/60000 [==============================] - 0s 8us/step - loss: 0.2512 - accuracy: 0.9307\n",
      "Testing loss: 0.2627, Testing accuracy: 0.9262\n",
      "Epoch 15/20\n",
      "60000/60000 [==============================] - 0s 8us/step - loss: 0.2501 - accuracy: 0.9313\n",
      "Testing loss: 0.2630, Testing accuracy: 0.9252\n",
      "Epoch 16/20\n",
      "60000/60000 [==============================] - 0s 8us/step - loss: 0.2483 - accuracy: 0.9319\n",
      "Testing loss: 0.2634, Testing accuracy: 0.9275\n",
      "Epoch 17/20\n",
      "60000/60000 [==============================] - 0s 8us/step - loss: 0.2471 - accuracy: 0.9316\n",
      "Testing loss: 0.2638, Testing accuracy: 0.9269\n",
      "Epoch 18/20\n",
      "60000/60000 [==============================] - 0s 8us/step - loss: 0.2462 - accuracy: 0.9322\n",
      "Testing loss: 0.2634, Testing accuracy: 0.9260\n",
      "Epoch 19/20\n",
      "60000/60000 [==============================] - 0s 8us/step - loss: 0.2452 - accuracy: 0.9326\n",
      "Testing loss: 0.2633, Testing accuracy: 0.9272\n",
      "Epoch 20/20\n",
      "60000/60000 [==============================] - 0s 8us/step - loss: 0.2443 - accuracy: 0.9326\n",
      "Testing loss: 0.2629, Testing accuracy: 0.9269\n"
     ]
    }
   ],
   "source": [
    "linear_model = keras.Sequential()\n",
    "linear_model.add(keras.layers.Flatten())\n",
    "linear_model.add(keras.layers.Dense(10, activation='softmax'))\n",
    "loss_fn = keras.losses.CategoricalCrossentropy()\n",
    "opt = keras.optimizers.Adam()\n",
    "\n",
    "linear_model.compile(loss=loss_fn, optimizer=opt, metrics=['accuracy'])\n",
    "linear_history = linear_model.fit(X_train, y_train_one_hot, \n",
    "                                  batch_size=100, epochs=20, \n",
    "                                  verbose=1, callbacks=[EvaluateCallback((X_test, y_test_one_hot))])"
   ]
  },
  {
   "cell_type": "code",
   "execution_count": 18,
   "metadata": {},
   "outputs": [
    {
     "name": "stdout",
     "output_type": "stream",
     "text": [
      "Final loss 0.2629, test_accuracy  0.927\n"
     ]
    }
   ],
   "source": [
    "def printFinalLossAccuracy(model) :\n",
    "    loss_acc = model.evaluate(X_test, y_test_one_hot, verbose=0)\n",
    "    print(f'Final loss {loss_acc[0]:6.4f}, test_accuracy {loss_acc[1]:6.3f}')\n",
    "    \n",
    "printFinalLossAccuracy(linear_model)"
   ]
  },
  {
   "cell_type": "markdown",
   "metadata": {
    "id": "LiCmxtmiQyj3"
   },
   "source": [
    "We can look at the summary of this model - the main thing to note here is the number of parameters:"
   ]
  },
  {
   "cell_type": "code",
   "execution_count": 19,
   "metadata": {
    "colab": {
     "base_uri": "https://localhost:8080/"
    },
    "executionInfo": {
     "elapsed": 31225,
     "status": "ok",
     "timestamp": 1617898494165,
     "user": {
      "displayName": "Ross Beveridge",
      "photoUrl": "https://lh3.googleusercontent.com/a-/AOh14GhZ9yfcROZXIKThWciv5reom6aDm1Spt-r8JOsVNA=s64",
      "userId": "11748907218223072510"
     },
     "user_tz": 360
    },
    "id": "2ntYyrc5Qyj3",
    "outputId": "80786f8a-5621-4382-f146-9dcd42565285"
   },
   "outputs": [
    {
     "name": "stdout",
     "output_type": "stream",
     "text": [
      "Model: \"sequential_3\"\n",
      "_________________________________________________________________\n",
      "Layer (type)                 Output Shape              Param #   \n",
      "=================================================================\n",
      "flatten_3 (Flatten)          (None, 784)               0         \n",
      "_________________________________________________________________\n",
      "dense_3 (Dense)              (None, 10)                7850      \n",
      "=================================================================\n",
      "Total params: 7,850\n",
      "Trainable params: 7,850\n",
      "Non-trainable params: 0\n",
      "_________________________________________________________________\n"
     ]
    }
   ],
   "source": [
    "linear_model.summary()"
   ]
  },
  {
   "cell_type": "markdown",
   "metadata": {
    "id": "SPCjBVnzQyj4"
   },
   "source": [
    "We can also look at the accuracy over the epochs of the network:"
   ]
  },
  {
   "cell_type": "code",
   "execution_count": 21,
   "metadata": {
    "colab": {
     "base_uri": "https://localhost:8080/",
     "height": 392
    },
    "executionInfo": {
     "elapsed": 31587,
     "status": "ok",
     "timestamp": 1617898494535,
     "user": {
      "displayName": "Ross Beveridge",
      "photoUrl": "https://lh3.googleusercontent.com/a-/AOh14GhZ9yfcROZXIKThWciv5reom6aDm1Spt-r8JOsVNA=s64",
      "userId": "11748907218223072510"
     },
     "user_tz": 360
    },
    "id": "xgXsm4aLQyj5",
    "outputId": "7d3cffc1-7969-4130-cf2d-95e9faa3d8a0"
   },
   "outputs": [
    {
     "data": {
      "image/png": "[encoded data removed]",
      "text/plain": [
       "<Figure size 720x432 with 1 Axes>"
      ]
     },
     "metadata": {
      "needs_background": "light"
     },
     "output_type": "display_data"
    }
   ],
   "source": [
    "fig, ax = plt.subplots(1,1,figsize=(10,6))\n",
    "ax.plot(linear_history.history['accuracy'], label='Train')\n",
    "ax.plot(linear_history.history['test acc'], label='Test')\n",
    "ax.set_xlabel('Epoch')\n",
    "ax.set_ylabel('Accuracy')\n",
    "ax.legend()\n",
    "ax.set_ylim([0.85, 1]);"
   ]
  },
  {
   "cell_type": "markdown",
   "metadata": {
    "id": "Gt4FOOYFQyj6"
   },
   "source": [
    "We can see that even a simple linear classifier gets about 92% accuracy.  MNIST is commonly used as a tutorial dataset, and one of the reasons for that is that basically anything will be successful on it.  The dataset is also solved - methods exist that do better than human accuracy and will reach around 99.9% accuracy (i.e 10 samples out of the 10,000 misclassified)."
   ]
  },
  {
   "cell_type": "markdown",
   "metadata": {
    "id": "g5JiKw-FQyj6"
   },
   "source": [
    "## A 2 Layer MNIST network\n",
    "\n",
    "Now we introduce a large - 100 node - hidden layer.  "
   ]
  },
  {
   "cell_type": "code",
   "execution_count": 22,
   "metadata": {
    "colab": {
     "base_uri": "https://localhost:8080/"
    },
    "executionInfo": {
     "elapsed": 65357,
     "status": "ok",
     "timestamp": 1617898528313,
     "user": {
      "displayName": "Ross Beveridge",
      "photoUrl": "https://lh3.googleusercontent.com/a-/AOh14GhZ9yfcROZXIKThWciv5reom6aDm1Spt-r8JOsVNA=s64",
      "userId": "11748907218223072510"
     },
     "user_tz": 360
    },
    "id": "b2bLQtPlQyj7",
    "outputId": "0aba3a35-f457-4cce-c39a-1bb1e9447e86",
    "scrolled": true
   },
   "outputs": [
    {
     "name": "stdout",
     "output_type": "stream",
     "text": [
      "Epoch 1/20\n",
      "60000/60000 [==============================] - 1s 13us/step - loss: 0.3572 - accuracy: 0.9003\n",
      "Testing loss: 0.1903, Testing accuracy: 0.9450\n",
      "Epoch 2/20\n",
      "60000/60000 [==============================] - 1s 11us/step - loss: 0.1644 - accuracy: 0.9525 0s - loss: 0.1750 - ac\n",
      "Testing loss: 0.1336, Testing accuracy: 0.9594\n",
      "Epoch 3/20\n",
      "60000/60000 [==============================] - 1s 12us/step - loss: 0.1185 - accuracy: 0.9658\n",
      "Testing loss: 0.1113, Testing accuracy: 0.9666\n",
      "Epoch 4/20\n",
      "60000/60000 [==============================] - 1s 11us/step - loss: 0.0934 - accuracy: 0.9725\n",
      "Testing loss: 0.0983, Testing accuracy: 0.9698\n",
      "Epoch 5/20\n",
      "60000/60000 [==============================] - 1s 11us/step - loss: 0.0758 - accuracy: 0.9778\n",
      "Testing loss: 0.0937, Testing accuracy: 0.9713\n",
      "Epoch 6/20\n",
      "60000/60000 [==============================] - 1s 12us/step - loss: 0.0635 - accuracy: 0.9812\n",
      "Testing loss: 0.0823, Testing accuracy: 0.9743\n",
      "Epoch 7/20\n",
      "60000/60000 [==============================] - 1s 11us/step - loss: 0.0537 - accuracy: 0.9838\n",
      "Testing loss: 0.0820, Testing accuracy: 0.9757\n",
      "Epoch 8/20\n",
      "60000/60000 [==============================] - 1s 12us/step - loss: 0.0454 - accuracy: 0.9869\n",
      "Testing loss: 0.0772, Testing accuracy: 0.9770\n",
      "Epoch 9/20\n",
      "60000/60000 [==============================] - 1s 12us/step - loss: 0.0385 - accuracy: 0.9893\n",
      "Testing loss: 0.0764, Testing accuracy: 0.9762\n",
      "Epoch 10/20\n",
      "60000/60000 [==============================] - 1s 12us/step - loss: 0.0333 - accuracy: 0.9903\n",
      "Testing loss: 0.0738, Testing accuracy: 0.9777\n",
      "Epoch 11/20\n",
      "60000/60000 [==============================] - 1s 13us/step - loss: 0.0281 - accuracy: 0.9922\n",
      "Testing loss: 0.0754, Testing accuracy: 0.9775\n",
      "Epoch 12/20\n",
      "60000/60000 [==============================] - 1s 12us/step - loss: 0.0246 - accuracy: 0.9936\n",
      "Testing loss: 0.0781, Testing accuracy: 0.9753\n",
      "Epoch 13/20\n",
      "60000/60000 [==============================] - 1s 12us/step - loss: 0.0207 - accuracy: 0.9950\n",
      "Testing loss: 0.0741, Testing accuracy: 0.9790\n",
      "Epoch 14/20\n",
      "60000/60000 [==============================] - 1s 12us/step - loss: 0.0179 - accuracy: 0.9958\n",
      "Testing loss: 0.0809, Testing accuracy: 0.9755\n",
      "Epoch 15/20\n",
      "60000/60000 [==============================] - 1s 12us/step - loss: 0.0153 - accuracy: 0.9962\n",
      "Testing loss: 0.0840, Testing accuracy: 0.9772\n",
      "Epoch 16/20\n",
      "60000/60000 [==============================] - 1s 13us/step - loss: 0.0137 - accuracy: 0.9969\n",
      "Testing loss: 0.0766, Testing accuracy: 0.9777\n",
      "Epoch 17/20\n",
      "60000/60000 [==============================] - 1s 12us/step - loss: 0.0127 - accuracy: 0.9968\n",
      "Testing loss: 0.0860, Testing accuracy: 0.9754\n",
      "Epoch 18/20\n",
      "60000/60000 [==============================] - 1s 13us/step - loss: 0.0101 - accuracy: 0.9979\n",
      "Testing loss: 0.0778, Testing accuracy: 0.9783\n",
      "Epoch 19/20\n",
      "60000/60000 [==============================] - 1s 14us/step - loss: 0.0084 - accuracy: 0.9982\n",
      "Testing loss: 0.0870, Testing accuracy: 0.9769\n",
      "Epoch 20/20\n",
      "60000/60000 [==============================] - 1s 13us/step - loss: 0.0073 - accuracy: 0.9988\n",
      "Testing loss: 0.0847, Testing accuracy: 0.9772\n"
     ]
    }
   ],
   "source": [
    "network = keras.Sequential()\n",
    "network.add(keras.layers.Flatten())\n",
    "network.add(keras.layers.Dense(100, activation='relu'))\n",
    "network.add(keras.layers.Dense(10, activation='softmax'))\n",
    "loss_fn = keras.losses.CategoricalCrossentropy()\n",
    "opt = keras.optimizers.Adam()\n",
    "\n",
    "network.compile(loss=loss_fn, optimizer=opt, metrics=['accuracy'])\n",
    "history = network.fit(X_train, y_train_one_hot, batch_size=100, \n",
    "                      epochs=20, verbose=1, \n",
    "                      callbacks=[EvaluateCallback((X_test, keras.utils.to_categorical(y_test, 10)))])"
   ]
  },
  {
   "cell_type": "code",
   "execution_count": 23,
   "metadata": {
    "scrolled": true
   },
   "outputs": [
    {
     "name": "stdout",
     "output_type": "stream",
     "text": [
      "Final loss 0.0847, test_accuracy  0.977\n"
     ]
    }
   ],
   "source": [
    "printFinalLossAccuracy(network)"
   ]
  },
  {
   "cell_type": "markdown",
   "metadata": {
    "id": "U35qdKc7Qyj7"
   },
   "source": [
    "The total number of parameters for this network is more than an order of magnitude higher than the linear model.  However, it does improve on the linear model's accuracy from 92% to about 97.5%."
   ]
  },
  {
   "cell_type": "code",
   "execution_count": 24,
   "metadata": {
    "colab": {
     "base_uri": "https://localhost:8080/"
    },
    "executionInfo": {
     "elapsed": 65950,
     "status": "ok",
     "timestamp": 1617898528922,
     "user": {
      "displayName": "Ross Beveridge",
      "photoUrl": "https://lh3.googleusercontent.com/a-/AOh14GhZ9yfcROZXIKThWciv5reom6aDm1Spt-r8JOsVNA=s64",
      "userId": "11748907218223072510"
     },
     "user_tz": 360
    },
    "id": "0kEAGAOJQyj8",
    "outputId": "080849ec-74a5-48b6-d36e-4b88507273c6"
   },
   "outputs": [
    {
     "name": "stdout",
     "output_type": "stream",
     "text": [
      "Model: \"sequential_4\"\n",
      "_________________________________________________________________\n",
      "Layer (type)                 Output Shape              Param #   \n",
      "=================================================================\n",
      "flatten_4 (Flatten)          (None, 784)               0         \n",
      "_________________________________________________________________\n",
      "dense_4 (Dense)              (None, 100)               78500     \n",
      "_________________________________________________________________\n",
      "dense_5 (Dense)              (None, 10)                1010      \n",
      "=================================================================\n",
      "Total params: 79,510\n",
      "Trainable params: 79,510\n",
      "Non-trainable params: 0\n",
      "_________________________________________________________________\n"
     ]
    }
   ],
   "source": [
    "network.summary()"
   ]
  },
  {
   "cell_type": "markdown",
   "metadata": {
    "id": "egW7CZpyQyj8"
   },
   "source": [
    "The network also reaches nearly 100% accuracy on the training set, and continues improving on the training set after it plateaus in accuracy on the test set.  This is a sign that the network has found a solution to and that further training can potentially *reduce* the accuracy through overfitting."
   ]
  },
  {
   "cell_type": "code",
   "execution_count": 25,
   "metadata": {
    "colab": {
     "base_uri": "https://localhost:8080/",
     "height": 392
    },
    "executionInfo": {
     "elapsed": 65942,
     "status": "ok",
     "timestamp": 1617898528923,
     "user": {
      "displayName": "Ross Beveridge",
      "photoUrl": "https://lh3.googleusercontent.com/a-/AOh14GhZ9yfcROZXIKThWciv5reom6aDm1Spt-r8JOsVNA=s64",
      "userId": "11748907218223072510"
     },
     "user_tz": 360
    },
    "id": "JdPzw6mWQyj8",
    "outputId": "b6099a91-d396-45cb-a0fe-14eef9f99630"
   },
   "outputs": [
    {
     "data": {
      "image/png": "[encoded data removed]",
      "text/plain": [
       "<Figure size 720x432 with 1 Axes>"
      ]
     },
     "metadata": {
      "needs_background": "light"
     },
     "output_type": "display_data"
    }
   ],
   "source": [
    "fig, ax = plt.subplots(1,1,figsize=(10,6))\n",
    "ax.plot(history.history['accuracy'], label='Train')\n",
    "ax.plot(history.history['test acc'], label='Test')\n",
    "ax.set_xlabel('Epoch')\n",
    "ax.set_ylabel('Accuracy')\n",
    "ax.legend()\n",
    "ax.set_ylim([0.85, 1]);"
   ]
  },
  {
   "cell_type": "markdown",
   "metadata": {
    "id": "s7aZBJJ6Qyj9"
   },
   "source": [
    "Since there's the potential to overfit, and a large number of parameters, simply increasing the depth or the width of this network could potentially lead to issues.  Instead of going that route, we will use a different kind of layer in our next notebook that works well for images and introduce convolutional networks, which have become the standard architecture for image data."
   ]
  },
  {
   "cell_type": "markdown",
   "metadata": {},
   "source": [
    "# Two points of Comparison: Nearest Neighbor and Random Forest\n",
    "\n",
    "A bit of truth in advertising, there used to be an 'sklearn' version of k nearest neighbors in this notebook. However, it was so slow to run that it got annoying.  Now there is a supplemental notebook\n",
    "\n",
    "module05_03a_faiss_knn_mnist\n",
    "\n",
    "That is best place to go and see an alternative - and fast - k nearest neighbors solution to MNIST.  Note that for $k = 3$ the accuracy on the test data is $0.9705$. \n",
    "\n",
    "\n",
    "The other method is called a Random Forest and we retain it here in Fall 2021 even though it is a technique that comes later in the semester. "
   ]
  },
  {
   "cell_type": "markdown",
   "metadata": {},
   "source": [
    "### Random Forest on MNIST"
   ]
  },
  {
   "cell_type": "code",
   "execution_count": 26,
   "metadata": {
    "executionInfo": {
     "elapsed": 65941,
     "status": "ok",
     "timestamp": 1617898528923,
     "user": {
      "displayName": "Ross Beveridge",
      "photoUrl": "https://lh3.googleusercontent.com/a-/AOh14GhZ9yfcROZXIKThWciv5reom6aDm1Spt-r8JOsVNA=s64",
      "userId": "11748907218223072510"
     },
     "user_tz": 360
    },
    "id": "M9qIFmXfQyj9"
   },
   "outputs": [],
   "source": [
    "X_train_flat = X_train.reshape(-1, 784)\n",
    "X_test_flat = X_test.reshape(-1, 784)"
   ]
  },
  {
   "cell_type": "code",
   "execution_count": 27,
   "metadata": {
    "executionInfo": {
     "elapsed": 70679,
     "status": "ok",
     "timestamp": 1617898533662,
     "user": {
      "displayName": "Ross Beveridge",
      "photoUrl": "https://lh3.googleusercontent.com/a-/AOh14GhZ9yfcROZXIKThWciv5reom6aDm1Spt-r8JOsVNA=s64",
      "userId": "11748907218223072510"
     },
     "user_tz": 360
    },
    "id": "OhMuUfwtQyj9"
   },
   "outputs": [],
   "source": [
    "from sklearn.ensemble import RandomForestClassifier\n",
    "rf = RandomForestClassifier(n_estimators=8)\n",
    "rf.fit(X_train_flat, y_train);"
   ]
  },
  {
   "cell_type": "code",
   "execution_count": 28,
   "metadata": {
    "colab": {
     "base_uri": "https://localhost:8080/"
    },
    "executionInfo": {
     "elapsed": 70671,
     "status": "ok",
     "timestamp": 1617898533662,
     "user": {
      "displayName": "Ross Beveridge",
      "photoUrl": "https://lh3.googleusercontent.com/a-/AOh14GhZ9yfcROZXIKThWciv5reom6aDm1Spt-r8JOsVNA=s64",
      "userId": "11748907218223072510"
     },
     "user_tz": 360
    },
    "id": "E2zfObewQyj-",
    "outputId": "70339842-8a06-4ddb-842d-a0edd70f3ef4"
   },
   "outputs": [
    {
     "data": {
      "text/plain": [
       "0.9375"
      ]
     },
     "execution_count": 28,
     "metadata": {},
     "output_type": "execute_result"
    }
   ],
   "source": [
    "from sklearn.metrics import accuracy_score\n",
    "y_pred = rf.predict(X_test_flat)\n",
    "accuracy_score(y_pred, y_test)"
   ]
  },
  {
   "cell_type": "markdown",
   "metadata": {
    "id": "cIb2dZxdQyj-"
   },
   "source": [
    "### Comments\n",
    "\n",
    "The resources availble online to help visualize and understand these concepts are vast, and here is just one example directly related MNIST.  You might enjoy:\n",
    "\n",
    "- [Neural Network 3D Simulation](https://youtu.be/3JQ3hYko51Y)\n",
    "\n",
    "There are major issues in using feed-forward neural networks for image classification:\n",
    "\n",
    "* Fully connected networks can have very large numbers of parameters with increasing image sizes.  Consider for example images of size 228x228x3, which is standard in this field.  Using the network architecture we have here would result in 228\\*228\\*3\\*100 parameters from the input to the hidden layer - about 15,000,000.  This network would also not be successful - we would need to significantly increase the width and depth, compounding the issue.  It is likely that billions of parameters would be necessary to achieve good accuracy.\n",
    "* If we take an image that represents the number seven, and shift the seven over a few pixels, we would expect it to still be classified as a seven.  However, fully connected networks are not able to represent this invariance.\n",
    "\n",
    "Some of these concerns apply to other standard machine learning approaches as well.\n",
    "Convolutional networks which are introduced next, address these shortcomings, and have led to major improvements in accuracy in image classification tasks.  Their success has led to a renaissance of the field of neural networks."
   ]
  }
 ],
 "metadata": {
  "colab": {
   "name": "module08_02_neural_networks_mnist.ipynb",
   "provenance": []
  },
  "kernelspec": {
   "display_name": "Python 3 (ipykernel)",
   "language": "python",
   "name": "python3"
  },
  "language_info": {
   "codemirror_mode": {
    "name": "ipython",
    "version": 3
   },
   "file_extension": ".py",
   "mimetype": "text/x-python",
   "name": "python",
   "nbconvert_exporter": "python",
   "pygments_lexer": "ipython3",
   "version": "3.9.6"
  }
 },
 "nbformat": 4,
 "nbformat_minor": 1
}
