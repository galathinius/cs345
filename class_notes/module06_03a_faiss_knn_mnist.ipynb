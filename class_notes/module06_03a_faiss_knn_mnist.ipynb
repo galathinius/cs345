{
 "cells": [
  {
   "cell_type": "markdown",
   "id": "f1dfc5a8",
   "metadata": {},
   "source": [
    "## MNIST Network Point of Comparison\n",
    "\n",
    "\n",
    "In CS345 you will notice an emphasis on always trying \"more obvious\" approaches.  After experimenting with fully connected networks applied to the MNIST dataset it is worthwhile to see how a simpler k nearest neighbors algorithm performs.  \n",
    "\n",
    "However, what you will quicklly discover if you simply take what you've already done with k nearest neighbor support in sklearn is that training then testing can take up to a half hour to run.  That alone is teaching you something very important - a brute force implementation of k nearest neighbors will **NOT** scale up well to large datasets.\n",
    "\n",
    "What you might next wonder is who is interested in making fast k nearest neighbor algorithms, and the answer is many people, including at Facebook. Which leads us to the [faiss](https://engineering.fb.com/2017/03/29/data-infrastructure/faiss-a-library-for-efficient-similarity-search/) library.  Considering the scope of CS 345 we will not review exactly how 'faiss' works - if you choose reading up on it might prove very worthwhile. \n",
    "\n",
    "We can simply take advantage of the hard work done by others and use 'faiss'.  If you are using Conda there here you will find the  [Conda instructions](https://anaconda.org/conda-forge/faiss).\n",
    "\n",
    "The rest of this notebook uses a simple 'FaissKNeighbors' object class written by \n",
    "Jakub Adamczyk and available through [here](https://gist.github.com/j-adamczyk/74ee808ffd53cd8545a49f185a908584#file-knn_with_faiss-py). Also, credit where credit is due, I came across this approach and suggestion in the article [Make kNN 300 times faster than Scikit-learn’s in 20 lines!](https://towardsdatascience.com/make-knn-300-times-faster-than-scikit-learns-in-20-lines-5e29d74e76bb)\n",
    "\n",
    "Ross Beveridge\n",
    "\n",
    "Last Update 11/16/2021"
   ]
  },
  {
   "cell_type": "code",
   "execution_count": 1,
   "id": "d6f54e48",
   "metadata": {},
   "outputs": [
    {
     "name": "stderr",
     "output_type": "stream",
     "text": [
      "Using TensorFlow backend.\n"
     ]
    }
   ],
   "source": [
    "import numpy as np\n",
    "import faiss\n",
    "\n",
    "import warnings\n",
    "warnings.simplefilter(action='ignore', category=FutureWarning)\n",
    "import keras\n",
    "\n",
    "class FaissKNeighbors:\n",
    "    def __init__(self, k=5):\n",
    "        self.index = None\n",
    "        self.y = None\n",
    "        self.k = k\n",
    "\n",
    "    def fit(self, X, y):\n",
    "        self.index = faiss.IndexFlatL2(X.shape[1])\n",
    "        self.index.add(X.astype(np.float32))\n",
    "        self.y = y\n",
    "\n",
    "    def predict(self, X):\n",
    "        distances, indices = self.index.search(X.astype(np.float32), k=self.k)\n",
    "        votes = self.y[indices]\n",
    "        predictions = np.array([np.argmax(np.bincount(x)) for x in votes])\n",
    "        return predictions"
   ]
  },
  {
   "cell_type": "code",
   "execution_count": 2,
   "id": "c1cd9e7e",
   "metadata": {},
   "outputs": [],
   "source": [
    "# This will download an 11.5 MB file to ~/.keras/datasets/\n",
    "(X_train, y_train), (X_test, y_test) = keras.datasets.mnist.load_data()"
   ]
  },
  {
   "cell_type": "code",
   "execution_count": 3,
   "id": "cec6634c",
   "metadata": {},
   "outputs": [
    {
     "data": {
      "text/plain": [
       "0.9705"
      ]
     },
     "execution_count": 3,
     "metadata": {},
     "output_type": "execute_result"
    }
   ],
   "source": [
    "\n",
    "X_train_flat = X_train.reshape(-1, 784)\n",
    "X_test_flat = X_test.reshape(-1, 784)\n",
    "\n",
    "neigh = FaissKNeighbors(k=3)\n",
    "neigh.fit(X_train_flat, y_train)\n",
    "\n",
    "y_pred = neigh.predict(X_test_flat)\n",
    "\n",
    "np.sum(y_test == y_pred)/y_test.shape[0]\n",
    "\n"
   ]
  },
  {
   "cell_type": "code",
   "execution_count": null,
   "id": "5ad186c4",
   "metadata": {},
   "outputs": [],
   "source": []
  }
 ],
 "metadata": {
  "kernelspec": {
   "display_name": "Python 3",
   "language": "python",
   "name": "python3"
  },
  "language_info": {
   "codemirror_mode": {
    "name": "ipython",
    "version": 3
   },
   "file_extension": ".py",
   "mimetype": "text/x-python",
   "name": "python",
   "nbconvert_exporter": "python",
   "pygments_lexer": "ipython3",
   "version": "3.7.10"
  }
 },
 "nbformat": 4,
 "nbformat_minor": 5
}
