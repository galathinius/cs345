{
 "cells": [
  {
   "cell_type": "markdown",
   "metadata": {},
   "source": [
    "# Linear Regression\n",
    "\n",
    "This notebook is part of  course materials for CS 345: Machine Learning Foundations and Practice at Colorado State University.\n",
    "Original versions were created by Asa Ben-Hur and updated by Ross Beveridge\n",
    "\n",
    "Last Update 10/12/2021\n",
    "\n",
    "*The text is released under the [CC BY-SA license](https://creativecommons.org/licenses/by-sa/4.0/), and code is released under the [MIT license](https://opensource.org/licenses/MIT).*"
   ]
  },
  {
   "cell_type": "markdown",
   "metadata": {},
   "source": [
    "## Acknowledgement\n",
    "\n",
    "*Adapted from Chapter 3 of [An Introduction to Statistical Learning](http://faculty.marshall.usc.edu/gareth-james/ISL/)*"
   ]
  },
  {
   "cell_type": "code",
   "execution_count": 2,
   "metadata": {},
   "outputs": [],
   "source": [
    "import pandas as pd\n",
    "import numpy as np\n",
    "import matplotlib.pyplot as plt\n",
    "%matplotlib inline"
   ]
  },
  {
   "cell_type": "markdown",
   "metadata": {},
   "source": [
    "# Multivariate linear regression\n",
    "\n",
    "Univariate linear regression can easily be extended to include multiple features, which is called **multivariate linear regression**.  Instead of using a single variable to make a prediction, we use a vector of variables:\n",
    "\n",
    "$$\n",
    "\\hat{y} = w_1x_1 + \\ldots + w_dx_d + b = \\mathbf{w}^\\top \\mathbf{x} + b\n",
    "$$\n",
    "\n",
    "Each $x_i$ represents a different feature, and each feature has its own parameter.  In our advertising data for example, $\\mathbf{x} = (x_1,x_2, x_3)^\\top$.\n",
    "As in the univariate case, the parameters are chosen to minimize the sum-squared error:\n",
    "$$\n",
    "J( \\mathbf{w},b ) = \\sum_{i=1}^N (y_i - \\hat{y}_i)^2,\n",
    "$$\n",
    "where \n",
    "$$\n",
    "\\hat{y}_i = \\mathbf{w}^\\top \\mathbf{x}_i + b.\n",
    "$$\n",
    "But keep in mind that there are three coefficients included in $\\mathbf{w}$, one for each of our features, such that:\n",
    "$$\n",
    "\\mathbf{w} = \\begin{bmatrix} w_{TV} \\\\ w_{Radio} \\\\ w_{Newspaper} \\end{bmatrix} \n",
    "$$"
   ]
  },
  {
   "cell_type": "code",
   "execution_count": 3,
   "metadata": {},
   "outputs": [
    {
     "data": {
      "text/html": [
       "<div>\n",
       "<style scoped>\n",
       "    .dataframe tbody tr th:only-of-type {\n",
       "        vertical-align: middle;\n",
       "    }\n",
       "\n",
       "    .dataframe tbody tr th {\n",
       "        vertical-align: top;\n",
       "    }\n",
       "\n",
       "    .dataframe thead th {\n",
       "        text-align: right;\n",
       "    }\n",
       "</style>\n",
       "<table border=\"1\" class=\"dataframe\">\n",
       "  <thead>\n",
       "    <tr style=\"text-align: right;\">\n",
       "      <th></th>\n",
       "      <th>TV</th>\n",
       "      <th>Radio</th>\n",
       "      <th>Newspaper</th>\n",
       "      <th>Sales</th>\n",
       "    </tr>\n",
       "  </thead>\n",
       "  <tbody>\n",
       "    <tr>\n",
       "      <th>1</th>\n",
       "      <td>230.1</td>\n",
       "      <td>37.8</td>\n",
       "      <td>69.2</td>\n",
       "      <td>22.1</td>\n",
       "    </tr>\n",
       "    <tr>\n",
       "      <th>2</th>\n",
       "      <td>44.5</td>\n",
       "      <td>39.3</td>\n",
       "      <td>45.1</td>\n",
       "      <td>10.4</td>\n",
       "    </tr>\n",
       "    <tr>\n",
       "      <th>3</th>\n",
       "      <td>17.2</td>\n",
       "      <td>45.9</td>\n",
       "      <td>69.3</td>\n",
       "      <td>9.3</td>\n",
       "    </tr>\n",
       "    <tr>\n",
       "      <th>4</th>\n",
       "      <td>151.5</td>\n",
       "      <td>41.3</td>\n",
       "      <td>58.5</td>\n",
       "      <td>18.5</td>\n",
       "    </tr>\n",
       "    <tr>\n",
       "      <th>5</th>\n",
       "      <td>180.8</td>\n",
       "      <td>10.8</td>\n",
       "      <td>58.4</td>\n",
       "      <td>12.9</td>\n",
       "    </tr>\n",
       "    <tr>\n",
       "      <th>6</th>\n",
       "      <td>8.7</td>\n",
       "      <td>48.9</td>\n",
       "      <td>75.0</td>\n",
       "      <td>7.2</td>\n",
       "    </tr>\n",
       "    <tr>\n",
       "      <th>7</th>\n",
       "      <td>57.5</td>\n",
       "      <td>32.8</td>\n",
       "      <td>23.5</td>\n",
       "      <td>11.8</td>\n",
       "    </tr>\n",
       "    <tr>\n",
       "      <th>8</th>\n",
       "      <td>120.2</td>\n",
       "      <td>19.6</td>\n",
       "      <td>11.6</td>\n",
       "      <td>13.2</td>\n",
       "    </tr>\n",
       "    <tr>\n",
       "      <th>9</th>\n",
       "      <td>8.6</td>\n",
       "      <td>2.1</td>\n",
       "      <td>1.0</td>\n",
       "      <td>4.8</td>\n",
       "    </tr>\n",
       "    <tr>\n",
       "      <th>10</th>\n",
       "      <td>199.8</td>\n",
       "      <td>2.6</td>\n",
       "      <td>21.2</td>\n",
       "      <td>10.6</td>\n",
       "    </tr>\n",
       "  </tbody>\n",
       "</table>\n",
       "</div>"
      ],
      "text/plain": [
       "       TV  Radio  Newspaper  Sales\n",
       "1   230.1   37.8       69.2   22.1\n",
       "2    44.5   39.3       45.1   10.4\n",
       "3    17.2   45.9       69.3    9.3\n",
       "4   151.5   41.3       58.5   18.5\n",
       "5   180.8   10.8       58.4   12.9\n",
       "6     8.7   48.9       75.0    7.2\n",
       "7    57.5   32.8       23.5   11.8\n",
       "8   120.2   19.6       11.6   13.2\n",
       "9     8.6    2.1        1.0    4.8\n",
       "10  199.8    2.6       21.2   10.6"
      ]
     },
     "execution_count": 3,
     "metadata": {},
     "output_type": "execute_result"
    }
   ],
   "source": [
    "# read data into a pandas DataFrame\n",
    "data = pd.read_csv('datasets/Advertising.csv', index_col=0)\n",
    "\n",
    "data.head(10)"
   ]
  },
  {
   "cell_type": "code",
   "execution_count": 4,
   "metadata": {},
   "outputs": [
    {
     "name": "stdout",
     "output_type": "stream",
     "text": [
      "Coefficients [ 0.0458  0.1885 -0.001 ], Intercept  2.94\n"
     ]
    }
   ],
   "source": [
    "from sklearn.linear_model import LinearRegression\n",
    "\n",
    "Xall = data[['TV', 'Radio', 'Newspaper']].values\n",
    "y    = data['Sales'].values\n",
    "\n",
    "linreg = LinearRegression(); linreg.fit(Xall, y)\n",
    "\n",
    "# The following is a handy way to reduce printed precision \n",
    "np.set_printoptions(precision=4)\n",
    "\n",
    "print(f'Coefficients {linreg.coef_}, Intercept {linreg.intercept_:5.2f}' )"
   ]
  },
  {
   "cell_type": "markdown",
   "metadata": {},
   "source": [
    "For a given amount of Radio and Newspaper spending, an increase of $1000 in **TV** spending is associated with an **increase in Sales of 45.8 widgets**.\n",
    "\n",
    "For a given amount of TV and Newspaper spending, an increase of $1000 in **Radio** spending is associated with an **increase in Sales of 188.5 widgets**.\n",
    "\n",
    "For a given amount of TV and Radio spending, an increase of $1000 in **Newspaper** spending is associated with a **decrease in Sales of 1.0 widgets**. How could that be?"
   ]
  },
  {
   "cell_type": "markdown",
   "metadata": {},
   "source": [
    "## Single Versus Multiple \n",
    "\n",
    "About how the `Newspaper` coeficient could be so low.  \n",
    "\n",
    "What happens if we go back and consider just `Newspaper` as a (linear) predictor of `Sales`?"
   ]
  },
  {
   "cell_type": "markdown",
   "metadata": {},
   "source": [
    "### Newspaper Advertising Alone"
   ]
  },
  {
   "cell_type": "code",
   "execution_count": 5,
   "metadata": {},
   "outputs": [
    {
     "name": "stdout",
     "output_type": "stream",
     "text": [
      "Coefficient 0.055, Intercept 12.35\n"
     ]
    },
    {
     "data": {
      "image/png": "[encoded data removed]",
      "text/plain": [
       "<Figure size 648x216 with 1 Axes>"
      ]
     },
     "metadata": {
      "needs_background": "light"
     },
     "output_type": "display_data"
    }
   ],
   "source": [
    "Xnews = data[['Newspaper']].values; y = data['Sales'].values\n",
    "linreg = LinearRegression(); linreg.fit(Xnews, y)\n",
    "y_pred = linreg.predict(Xnews)\n",
    "print(f'Coefficient {linreg.coef_[0]:5.3f}, Intercept {linreg.intercept_:5.2f}')\n",
    "\n",
    "def plotOneVar (X, y, ypred, xlab) :\n",
    "    plt.figure(figsize=(9, 3))\n",
    "    plt.xlim(right=300)\n",
    "    plt.scatter(X, y,  color='blue', alpha=0.5, label = 'data')\n",
    "    plt.plot(X, y_pred, color='black', alpha=0.8,linewidth=2, label = 'model')\n",
    "    plt.xlabel('{sa} Ad Dollars'.format(sa=xlab))\n",
    "    plt.ylabel(\"Widget Sales\")\n",
    "    plt.legend(loc=\"best\");\n",
    "\n",
    "plotOneVar(Xnews, y, y_pred, \"Newpaper\")    "
   ]
  },
  {
   "cell_type": "markdown",
   "metadata": {},
   "source": [
    "What we see is that if all we know about is the paring between Newspaper advertising dollars spent and Widget Sales we will conclude more dollars spent on advertising relates to more widgets sold.  But hold that thought while we do the same thing for Radio and TV."
   ]
  },
  {
   "cell_type": "markdown",
   "metadata": {},
   "source": [
    "### Radio Advertising Alone\n",
    "\n",
    "Now consider `Radio` alone as a predictor"
   ]
  },
  {
   "cell_type": "code",
   "execution_count": 6,
   "metadata": {},
   "outputs": [
    {
     "name": "stdout",
     "output_type": "stream",
     "text": [
      "Coefficient 0.202, Intercept  9.31\n"
     ]
    },
    {
     "data": {
      "image/png": "[encoded data removed]",
      "text/plain": [
       "<Figure size 648x216 with 1 Axes>"
      ]
     },
     "metadata": {
      "needs_background": "light"
     },
     "output_type": "display_data"
    }
   ],
   "source": [
    "Xradio = data[['Radio']].values; y     = data['Sales'].values\n",
    "linreg = LinearRegression(); linreg.fit(Xradio, y)\n",
    "y_pred = linreg.predict(Xradio)\n",
    "\n",
    "print(f'Coefficient {linreg.coef_[0]:5.3f}, Intercept {linreg.intercept_:5.2f}')\n",
    "\n",
    "plotOneVar(Xradio, y, y_pred, \"Radio\")    "
   ]
  },
  {
   "cell_type": "markdown",
   "metadata": {},
   "source": [
    "This is a good time to draw you attention to the odd decision to plot out to 300 (Thousand) dollars in advertising sales. This is done so that our plots can be directly compared when moving to TV (which we do next)"
   ]
  },
  {
   "cell_type": "markdown",
   "metadata": {},
   "source": [
    "### TV Advertising Alone"
   ]
  },
  {
   "cell_type": "code",
   "execution_count": 7,
   "metadata": {},
   "outputs": [
    {
     "name": "stdout",
     "output_type": "stream",
     "text": [
      "Coefficient 0.048, Intercept  7.03\n"
     ]
    },
    {
     "data": {
      "image/png": "[encoded data removed]",
      "text/plain": [
       "<Figure size 648x216 with 1 Axes>"
      ]
     },
     "metadata": {
      "needs_background": "light"
     },
     "output_type": "display_data"
    }
   ],
   "source": [
    "Xtv = data[['TV']].values; y = data['Sales'].values\n",
    "linreg = LinearRegression(); linreg.fit(Xtv, y)\n",
    "y_pred = linreg.predict(Xtv)\n",
    "\n",
    "print(f'Coefficient {linreg.coef_[0]:5.3f}, Intercept {linreg.intercept_:5.2f}')\n",
    "\n",
    "plotOneVar(Xtv, y, y_pred, \"TV\")    "
   ]
  },
  {
   "cell_type": "markdown",
   "metadata": {},
   "source": [
    "### How To Interpret\n",
    "\n",
    "We have jumped into an  important and also non-trivial aspect of data analysis.  \n",
    "\n",
    "Asking how one variable predicts another is sometimes called marginal analysis and it is easy to understand. However, even this simple three variable problem illustrates the risks. Seldom in life do variables come to us cleanly seperated. So, who do we begin to ask about interactions?  You have already glimpsed a part of the answer: look what happened to the perceived important of Newpaper advertising when consider in context with the other two. To be more precise, the coefficient associated with how much sales grow in proportion to Newspaper advertising dollars dropped to essentiall zero when evaluated **in combination with** Radio and TV.\n",
    "\n",
    "While it may be a touch hard to swallow at first, these two outcomes our not in conflict - or at least it is important to understand that each model we apply is doing what it is designed to do.  \n",
    "\n",
    "Marginal analysis is generally considered weaker than mutlivariate analysis precisely because multivariate analysis can - and will - surface interactions between combinations of variables. To put what we are seeing into a arguably too simplistic sentence - \"The apparent widget sale gains ascribed to Newspaper advertising in the single variable model disappears because that increase in widget sales is being (better?) explained by a combination of TV and Radio advertising.\""
   ]
  },
  {
   "cell_type": "markdown",
   "metadata": {},
   "source": [
    "# Evaluation metrics for regression problems\n",
    "\n",
    "Evaluation metrics for classification problems, such as **accuracy**, are not useful for regression problems. We need evaluation metrics designed for comparing **continuous values**.\n",
    "\n",
    "Let's create some example numeric predictions, and calculate three common evaluation metrics for regression problems:"
   ]
  },
  {
   "cell_type": "code",
   "execution_count": 8,
   "metadata": {},
   "outputs": [],
   "source": [
    "# define true and predicted response values\n",
    "y = np.array([100, 50, 30, 20])\n",
    "y_pred = np.array([90, 50, 50, 30])"
   ]
  },
  {
   "cell_type": "markdown",
   "metadata": {},
   "source": [
    "**Mean Absolute Error** (MAE) is the mean of the absolute value of the errors:\n",
    "\n",
    "$$\\frac 1N\\sum_{i=1}^N |y_i-\\hat{y}_i|$$"
   ]
  },
  {
   "cell_type": "code",
   "execution_count": 9,
   "metadata": {},
   "outputs": [
    {
     "data": {
      "text/plain": [
       "10.0"
      ]
     },
     "execution_count": 9,
     "metadata": {},
     "output_type": "execute_result"
    }
   ],
   "source": [
    "from sklearn import metrics\n",
    "\n",
    "metrics.mean_absolute_error(y, y_pred)"
   ]
  },
  {
   "cell_type": "code",
   "execution_count": 9,
   "metadata": {},
   "outputs": [
    {
     "data": {
      "text/plain": [
       "10.0"
      ]
     },
     "execution_count": 9,
     "metadata": {},
     "output_type": "execute_result"
    }
   ],
   "source": [
    "def mean_absolute_error(y, y_pred) :\n",
    "    return np.mean(np.absolute(np.asarray(y) - np.asarray(y_pred)))\n",
    "\n",
    "mean_absolute_error(y, y_pred)"
   ]
  },
  {
   "cell_type": "markdown",
   "metadata": {},
   "source": [
    "**Mean Squared Error** (MSE) is the mean of the squared errors:\n",
    "\n",
    "$$\\frac 1N\\sum_{i=1}^N(y_i-\\hat{y}_i)^2$$"
   ]
  },
  {
   "cell_type": "code",
   "execution_count": 10,
   "metadata": {},
   "outputs": [
    {
     "data": {
      "text/plain": [
       "150.0"
      ]
     },
     "execution_count": 10,
     "metadata": {},
     "output_type": "execute_result"
    }
   ],
   "source": [
    "metrics.mean_squared_error(y, y_pred)"
   ]
  },
  {
   "cell_type": "markdown",
   "metadata": {},
   "source": [
    "**Root Mean Squared Error** (RMSE) is the square root of the mean of the squared errors:\n",
    "\n",
    "$$\\sqrt{\\frac 1N\\sum_{i=1}^N(y_i-\\hat{y}_i)^2}$$"
   ]
  },
  {
   "cell_type": "code",
   "execution_count": 11,
   "metadata": {},
   "outputs": [
    {
     "name": "stdout",
     "output_type": "stream",
     "text": [
      "12.24744871391589\n"
     ]
    }
   ],
   "source": [
    "print (np.sqrt(metrics.mean_squared_error(y, y_pred)))"
   ]
  },
  {
   "cell_type": "markdown",
   "metadata": {},
   "source": [
    "Comparing these metrics:\n",
    "\n",
    "- **MAE** is the easiest to understand, because it's the average error.\n",
    "- **MSE** \"punishes\" larger errors\n",
    "- **RMSE** easier to understand because RMSE is in the \"y\" units.\n",
    "\n",
    "All of these are measures of error or loss, because lower is better.\n",
    "\n",
    "Here's an example, to demonstrate how MSE/RMSE punish larger errors:"
   ]
  },
  {
   "cell_type": "code",
   "execution_count": 11,
   "metadata": {},
   "outputs": [
    {
     "name": "stdout",
     "output_type": "stream",
     "text": [
      "10.0\n",
      "20.0\n"
     ]
    }
   ],
   "source": [
    "# same true values as above\n",
    "y_true = np.array([100, 50, 30, 20])\n",
    "\n",
    "# new set of predicted values\n",
    "y_pred = np.array([60, 50, 30, 20])\n",
    "\n",
    "# the previous values were:  y_pred = [90, 50, 50, 30]\n",
    "\n",
    "# MAE is the same as before\n",
    "print (metrics.mean_absolute_error(y_true, y_pred))\n",
    "\n",
    "# RMSE is larger than before\n",
    "print (np.sqrt(metrics.mean_squared_error(y_true, y_pred)))"
   ]
  },
  {
   "cell_type": "markdown",
   "metadata": {},
   "source": [
    "# Advantages/disadvantages of linear regression\n",
    "\n",
    "Advantages of linear regression:\n",
    "\n",
    "- Simple to explain\n",
    "- Highly interpretable\n",
    "- Model training and prediction are fast\n",
    "- No tuning is required \n",
    "- Can perform well with a small number of observations\n",
    "\n",
    "Disadvantages of linear regression:\n",
    "\n",
    "- Presumes a linear relationship between the features and the labels\n",
    "- Performance is (generally) not competitive with the best regression methods\n",
    "- Can be sensitive to irrelevant features and outliers\n",
    "\n",
    "Linear regression is a **parametric method**, meaning that success depends on the data satisfying our assumption that the data fall on a line/hyperplane."
   ]
  },
  {
   "cell_type": "code",
   "execution_count": null,
   "metadata": {},
   "outputs": [],
   "source": []
  }
 ],
 "metadata": {
  "anaconda-cloud": {},
  "kernelspec": {
   "display_name": "Python 3 (ipykernel)",
   "language": "python",
   "name": "python3"
  },
  "language_info": {
   "codemirror_mode": {
    "name": "ipython",
    "version": 3
   },
   "file_extension": ".py",
   "mimetype": "text/x-python",
   "name": "python",
   "nbconvert_exporter": "python",
   "pygments_lexer": "ipython3",
   "version": "3.9.6"
  }
 },
 "nbformat": 4,
 "nbformat_minor": 1
}
