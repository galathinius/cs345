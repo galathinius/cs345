{
 "cells": [
  {
   "cell_type": "markdown",
   "metadata": {},
   "source": [
    "# Evaluating Classifiers: Cross Validation\n",
    "\n",
    "This notebook is part of  course materials for CS 345: Machine Learning Foundations and Practice at Colorado State University.\n",
    "Original versions were created by Asa Ben-Hur with updates by Ross Beveridge\n",
    "\n",
    "Last Update 10/26/2021\n",
    "\n",
    "*The text is released under the [CC BY-SA license](https://creativecommons.org/licenses/by-sa/4.0/), and code is released under the [MIT license](https://opensource.org/licenses/MIT).*\n"
   ]
  },
  {
   "cell_type": "code",
   "execution_count": 24,
   "metadata": {},
   "outputs": [],
   "source": [
    "import numpy as np\n",
    "import matplotlib.pyplot as plt\n",
    "%matplotlib inline\n",
    "\n",
    "from sklearn.datasets import load_digits\n",
    "from sklearn.model_selection import train_test_split\n",
    "from sklearn.neighbors import KNeighborsClassifier"
   ]
  },
  {
   "cell_type": "markdown",
   "metadata": {},
   "source": [
    "## What does Getting Better Mean? \n",
    "\n",
    "We have already talked about some of these issues before, but let us revisit and be a bit more formal in our approach and definitions.  Ultimately we as machine learing practictioners are about generalization. We will find that generalization comes with a great deal of nuance - but let us start with some basics hinging upon the following question:\n",
    "\n",
    "> Does having more training samples improve performance on unseen (test) data? \n",
    "\n",
    "Intuitively, that answer would appear to be an obvious 'yes'; the more data we have available, the more accurate our classifiers should become.  To demonstrate this, let's read in some data and evaluate a k-nearest neighbor classifier on a fixed test set with increasing number of training examples.  The resulting curve of accuracy as a function of number of examples is called a **learning curve**.\n",
    "\n"
   ]
  },
  {
   "cell_type": "markdown",
   "metadata": {},
   "source": [
    "### Build one Test Set\n",
    "\n",
    "Since our goal is to evaluate accuracy when adding to our training set.  Thes means we first want to use the `train_test_split` functionality of `sklearn` to create a single test set called `X_test`. Also, as we will discuss more below, stratifying our samples by the class labels in `y` is important to avoid a preponderance of one label versus another. \n",
    "\n",
    "Note that for this illustration we are returning to the 1797 image digits dataset. Also, the logic below is a touch unusual and is motivated by our goal of evaluating accuracy over a wide range - from small to large - of different sized training sets. "
   ]
  },
  {
   "cell_type": "code",
   "execution_count": 25,
   "metadata": {},
   "outputs": [
    {
     "name": "stdout",
     "output_type": "stream",
     "text": [
      "We have selected 777 test images from 1797 images total.\n",
      "The remaining 1020 images are available for training.\n"
     ]
    }
   ],
   "source": [
    "X, y = load_digits(return_X_y=True)\n",
    "\n",
    "training_sizes = [10, 20, 40, 100, 200, 400, 600, 800, 1000]\n",
    "test_size_padding = 20\n",
    "target_test_size = len(y) - max(training_sizes) - test_size_padding\n",
    "\n",
    "X_full_train, X_test, y_full_train, y_test = train_test_split(\n",
    "    X, y, test_size = target_test_size, \n",
    "    stratify=y, random_state=1)\n",
    "\n",
    "print(f'We have selected {X_test.shape[0]} test images from {X.shape[0]} images total.')\n",
    "print(f'The remaining {X_full_train.shape[0]} images are available for training.')\n"
   ]
  },
  {
   "cell_type": "markdown",
   "metadata": {},
   "source": [
    "Now for the second part of this illustration we will generate different sized training sets while leaving the test set constant.  In other words, we will create training sets out of the original `X_full_train` set which vary in size according to `training_sizes`."
   ]
  },
  {
   "cell_type": "code",
   "execution_count": 26,
   "metadata": {},
   "outputs": [
    {
     "name": "stdout",
     "output_type": "stream",
     "text": [
      "Training size: 10 \t yields Accuracy: 0.618\n",
      "Training size: 20 \t yields Accuracy: 0.767\n",
      "Training size: 40 \t yields Accuracy: 0.848\n",
      "Training size: 100 \t yields Accuracy: 0.931\n",
      "Training size: 200 \t yields Accuracy: 0.956\n",
      "Training size: 400 \t yields Accuracy: 0.972\n",
      "Training size: 600 \t yields Accuracy: 0.976\n",
      "Training size: 800 \t yields Accuracy: 0.985\n",
      "Training size: 1000 \t yields Accuracy: 0.988\n"
     ]
    }
   ],
   "source": [
    "accuracy = []\n",
    "for train_n in training_sizes :\n",
    "    X_train,_ , y_train,_ = train_test_split(\n",
    "        X_full_train, y_full_train, train_size = train_n, stratify=y_full_train)\n",
    "    knn = KNeighborsClassifier(n_neighbors=1)\n",
    "    knn.fit(X_train, y_train)\n",
    "    y_pred = knn.predict(X_test)\n",
    "    acc = np.sum((y_pred==y_test))/len(y_test)\n",
    "    accuracy.append(acc)\n",
    "    print(f'Training size: {X_train.shape[0]} \\t yields Accuracy: {acc:5.3f}')"
   ]
  },
  {
   "cell_type": "code",
   "execution_count": 27,
   "metadata": {},
   "outputs": [
    {
     "data": {
      "image/png": "[encoded data removed]",
      "text/plain": [
       "<Figure size 432x288 with 1 Axes>"
      ]
     },
     "metadata": {
      "needs_background": "light"
     },
     "output_type": "display_data"
    }
   ],
   "source": [
    "plt.figure(figsize=(6,4))\n",
    "plt.plot(training_sizes, accuracy, 'ob')\n",
    "plt.xlabel('training set size')\n",
    "plt.ylabel('accuracy')\n",
    "plt.ylim((0.5,1));"
   ]
  },
  {
   "cell_type": "markdown",
   "metadata": {},
   "source": [
    "### Exercise\n",
    "\n",
    "* What can you conclude from this plot?  \n",
    "* Why would you want to compute a learning curve on your data?\n"
   ]
  },
  {
   "cell_type": "markdown",
   "metadata": {},
   "source": [
    "## Making better use of our data with cross validation\n",
    "\n",
    "The discussion above demonstrates that it is best to have as large of a training set as possible.  We also need to have a large enough test set, so that the accuracy estimates are accurate.  How do we balance these two contradictory requirements?  Cross-validation provides us a more effective way to make use of our data.  Here it is:\n",
    "\n",
    "**Cross validation**\n",
    "\n",
    "* Randomly partition the data into $k$ subsets (\"folds\").\n",
    "* Set one fold aside for evaluation and train a model on the remaining $k$ folds and evaluate it on the held-out fold.\n",
    "* Repeat until each fold has been used for evaluation\n",
    "* Compute accuracy by averaging over the accuracy estimates generated for each fold.\n",
    "\n",
    "Here is an illustration of 8-fold cross validation:\n",
    "\n",
    "<img style=\"padding: 10px; float:left;\" alt=\"cross-validation by MBanuelos22 CC BY-SA 4.0\" src=\"https://upload.wikimedia.org/wikipedia/commons/c/c7/LOOCV.gif\">\n",
    "\n",
    "     width=\"600\">\n",
    "\n",
    "As you can see, this procedure is more expensive than dividing your data into train and test set.  When dealing with relatively small datasets, which is when you want to use this procedure, this won't be an issue.\n",
    "\n",
    "Typically cross-validation is used with the number of folds being in the range of 5-10.  An extreme case is when the number of folds equals the number of training examples.  This special case is called *leave-one-out cross-validation*."
   ]
  },
  {
   "cell_type": "code",
   "execution_count": 28,
   "metadata": {},
   "outputs": [],
   "source": [
    "from sklearn.linear_model import LogisticRegression\n",
    "from sklearn.model_selection import cross_validate\n",
    "from sklearn.model_selection import cross_val_score\n",
    "\n",
    "from sklearn import metrics"
   ]
  },
  {
   "cell_type": "markdown",
   "metadata": {},
   "source": [
    "Let's use the scikit-learn breast cancer dataset to demonstrate the use of cross-validation."
   ]
  },
  {
   "cell_type": "code",
   "execution_count": 29,
   "metadata": {},
   "outputs": [],
   "source": [
    "from sklearn.datasets import load_breast_cancer\n",
    "data = load_breast_cancer()"
   ]
  },
  {
   "cell_type": "markdown",
   "metadata": {},
   "source": [
    "A scikit-learn data object is container object with whose interesting attributes are: \n",
    "  * ‘data’, the data to learn, \n",
    "  * ‘target’, the classification labels, \n",
    "  * ‘target_names’, the meaning of the labels,\n",
    "  * ‘feature_names’, the meaning of the features, and \n",
    "  * ‘DESCR’, the full description of the dataset.\n",
    "\n"
   ]
  },
  {
   "cell_type": "code",
   "execution_count": 30,
   "metadata": {},
   "outputs": [
    {
     "name": "stdout",
     "output_type": "stream",
     "text": [
      "number of examples  569\n",
      "number of features  30\n",
      "['malignant' 'benign']\n",
      "['mean radius' 'mean texture' 'mean perimeter' 'mean area'\n",
      " 'mean smoothness' 'mean compactness' 'mean concavity'\n",
      " 'mean concave points' 'mean symmetry' 'mean fractal dimension'\n",
      " 'radius error' 'texture error' 'perimeter error' 'area error'\n",
      " 'smoothness error' 'compactness error' 'concavity error'\n",
      " 'concave points error' 'symmetry error' 'fractal dimension error'\n",
      " 'worst radius' 'worst texture' 'worst perimeter' 'worst area'\n",
      " 'worst smoothness' 'worst compactness' 'worst concavity'\n",
      " 'worst concave points' 'worst symmetry' 'worst fractal dimension']\n"
     ]
    }
   ],
   "source": [
    "X = data.data\n",
    "y = data.target\n",
    "print('number of examples ', len(y))\n",
    "print('number of features ', len(X[0]))\n",
    "\n",
    "print(data.target_names)\n",
    "print(data.feature_names)"
   ]
  },
  {
   "cell_type": "code",
   "execution_count": 31,
   "metadata": {},
   "outputs": [],
   "source": [
    "# Random state 23 is fun - means worse performance\n",
    "X_train, X_test, y_train, y_test = train_test_split(X, y, test_size=0.4, random_state=0)\n",
    "classifier = KNeighborsClassifier(n_neighbors=3)\n",
    "#classifier = LogisticRegression()\n",
    "\n",
    "_ = classifier.fit(X_train, y_train)\n",
    "y_pred = classifier.predict(X_test)"
   ]
  },
  {
   "cell_type": "markdown",
   "metadata": {},
   "source": [
    "Let's compute the accuracy of our predictions using a 60 percent 40 percent training to test split:"
   ]
  },
  {
   "cell_type": "code",
   "execution_count": 32,
   "metadata": {},
   "outputs": [
    {
     "name": "stdout",
     "output_type": "stream",
     "text": [
      "The 60 percent 40 percent split accuracty is: 0.939\n"
     ]
    }
   ],
   "source": [
    "print(f'The 60 percent 40 percent split accuracty is: {np.mean(y_pred==y_test):1.3f}')"
   ]
  },
  {
   "cell_type": "markdown",
   "metadata": {},
   "source": [
    "We can do the same using scikit-learn:"
   ]
  },
  {
   "cell_type": "code",
   "execution_count": 33,
   "metadata": {},
   "outputs": [
    {
     "name": "stdout",
     "output_type": "stream",
     "text": [
      "The 60 percent 40 percent split accuracty is: 0.939\n"
     ]
    }
   ],
   "source": [
    "print(f'The 60 percent 40 percent split accuracty is: {metrics.accuracy_score(y_test, y_pred):1.3f}')"
   ]
  },
  {
   "cell_type": "markdown",
   "metadata": {},
   "source": [
    "Now let's compute accuracy using [cross_validate](https://scikit-learn.org/stable/modules/generated/sklearn.model_selection.cross_validate.html) instead:"
   ]
  },
  {
   "cell_type": "code",
   "execution_count": 34,
   "metadata": {},
   "outputs": [
    {
     "name": "stdout",
     "output_type": "stream",
     "text": [
      "[0.877 0.921 0.947 0.939 0.912]\n"
     ]
    },
    {
     "data": {
      "text/plain": [
       "Text(0.5, 1.0, 'K-Fold Results for 3-NN on Breast Cancer Data')"
      ]
     },
     "execution_count": 34,
     "metadata": {},
     "output_type": "execute_result"
    },
    {
     "data": {
      "image/png": "[encoded data removed]",
      "text/plain": [
       "<Figure size 432x288 with 1 Axes>"
      ]
     },
     "metadata": {
      "needs_background": "light"
     },
     "output_type": "display_data"
    }
   ],
   "source": [
    "np.set_printoptions(precision=3)\n",
    "\n",
    "accuracy = cross_val_score(classifier, X, y, cv=5, scoring='accuracy')\n",
    "print(accuracy)\n",
    "objects = ('Fold 1', 'Fold 2', 'Fold 3', 'Fold 4', 'Fold 5')\n",
    "y_pos = np.arange(len(objects))\n",
    "plt.bar(y_pos, accuracy)\n",
    "plt.xticks(y_pos, objects)\n",
    "plt.ylim(0.75,1.0)\n",
    "plt.ylabel('Accuracy')\n",
    "plt.title('K-Fold Results for 3-NN on Breast Cancer Data')"
   ]
  },
  {
   "cell_type": "markdown",
   "metadata": {},
   "source": [
    "This yields an array containing the accuracy values for each fold.\n",
    "When reporting your results, you will typically show the mean:"
   ]
  },
  {
   "cell_type": "code",
   "execution_count": 12,
   "metadata": {},
   "outputs": [
    {
     "name": "stdout",
     "output_type": "stream",
     "text": [
      "The mean accuracty is: 0.919\n"
     ]
    }
   ],
   "source": [
    "print(f'The mean accuracty is: {np.mean(accuracy):1.3f}')"
   ]
  },
  {
   "cell_type": "markdown",
   "metadata": {},
   "source": [
    "The arguments of `cross_val_score`:\n",
    "* A classifier (anything that satisfies the scikit-learn classifier API)\n",
    "* data (features/labels)\n",
    "* `cv` : an integer that specifies the number of folds (can be used in more sophisticated ways as we will see below).\n",
    "* `scoring`: this determines which accuracy measure is evaluated for each fold.  Here's a link to the  [list of available measures](https://scikit-learn.org/stable/modules/model_evaluation.html#scoring-parameter) in scikit-learn.\n",
    "\n",
    "You can obtain accuracy for other metrics.  *Balanced accuracy* for example, is appropriate when the data is unbalanced (e.g. when one class contains a much larger number of examples than other classes in the data)."
   ]
  },
  {
   "cell_type": "code",
   "execution_count": 13,
   "metadata": {},
   "outputs": [
    {
     "name": "stdout",
     "output_type": "stream",
     "text": [
      "The mean balanced accuracty is: 0.908\n"
     ]
    }
   ],
   "source": [
    "accuracy = cross_val_score(classifier, X, y, cv=5, \n",
    "                           scoring='balanced_accuracy')\n",
    "print(f'The mean balanced accuracty is: {np.mean(accuracy):1.3f}')"
   ]
  },
  {
   "cell_type": "markdown",
   "metadata": {},
   "source": [
    "`cross_val_score` is somewhat limited, in that it simply returns a list of accuracy scores.  In practice, we often want to have more information about what happened during training, and also to compute multiple accuracy measures.\n",
    "`cross_validate` will provide you with that information:"
   ]
  },
  {
   "cell_type": "code",
   "execution_count": 14,
   "metadata": {},
   "outputs": [
    {
     "name": "stdout",
     "output_type": "stream",
     "text": [
      "{'fit_time': array([0.001, 0.001, 0.001, 0.001, 0.001]), 'score_time': array([0.004, 0.004, 0.005, 0.005, 0.004]), 'estimator': (KNeighborsClassifier(algorithm='auto', leaf_size=30, metric='minkowski',\n",
      "                     metric_params=None, n_jobs=None, n_neighbors=3, p=2,\n",
      "                     weights='uniform'), KNeighborsClassifier(algorithm='auto', leaf_size=30, metric='minkowski',\n",
      "                     metric_params=None, n_jobs=None, n_neighbors=3, p=2,\n",
      "                     weights='uniform'), KNeighborsClassifier(algorithm='auto', leaf_size=30, metric='minkowski',\n",
      "                     metric_params=None, n_jobs=None, n_neighbors=3, p=2,\n",
      "                     weights='uniform'), KNeighborsClassifier(algorithm='auto', leaf_size=30, metric='minkowski',\n",
      "                     metric_params=None, n_jobs=None, n_neighbors=3, p=2,\n",
      "                     weights='uniform'), KNeighborsClassifier(algorithm='auto', leaf_size=30, metric='minkowski',\n",
      "                     metric_params=None, n_jobs=None, n_neighbors=3, p=2,\n",
      "                     weights='uniform')), 'test_score': array([0.877, 0.921, 0.947, 0.939, 0.912])}\n"
     ]
    }
   ],
   "source": [
    "results = cross_validate(classifier, X, y, cv=5, \n",
    "                         scoring='accuracy', return_estimator=True)\n",
    "print(results)"
   ]
  },
  {
   "cell_type": "markdown",
   "metadata": {},
   "source": [
    "The object returned by `cross_validate` is a Python dictionary as the output suggests.  To extract a specific piece of data from this object, simply access the dictionary with the appropriate key:"
   ]
  },
  {
   "cell_type": "code",
   "execution_count": 15,
   "metadata": {},
   "outputs": [
    {
     "data": {
      "text/plain": [
       "array([0.877, 0.921, 0.947, 0.939, 0.912])"
      ]
     },
     "execution_count": 15,
     "metadata": {},
     "output_type": "execute_result"
    }
   ],
   "source": [
    "results['test_score']"
   ]
  },
  {
   "cell_type": "markdown",
   "metadata": {},
   "source": [
    "If you would like to know the predictions made for each training example during cross-validation use [cross_val_predict](https://scikit-learn.org/stable/modules/generated/sklearn.model_selection.cross_val_predict.html) instead:"
   ]
  },
  {
   "cell_type": "code",
   "execution_count": 16,
   "metadata": {},
   "outputs": [
    {
     "name": "stdout",
     "output_type": "stream",
     "text": [
      "The combined accuracy from 5 folds is: 0.919\n"
     ]
    }
   ],
   "source": [
    "from sklearn.model_selection import cross_val_predict\n",
    "\n",
    "y_pred = cross_val_predict(classifier, X, y, cv=5)\n",
    "print(f'The combined accuracy from 5 folds is: {metrics.accuracy_score(y, y_pred):1.3f}')"
   ]
  },
  {
   "cell_type": "markdown",
   "metadata": {},
   "source": [
    "It is important to step back and look a bit more carefuly at what is being done above.  Ask yourself this deceptively simple question:\n",
    "\n",
    "Are the predictions captured above coming from a single or many different machine learning models?"
   ]
  },
  {
   "cell_type": "markdown",
   "metadata": {},
   "source": [
    "## Stratified Sampling \n",
    "\n",
    "Here is a real world issue - can an machine learning model learn a concept it has never seen? \n",
    "\n",
    "The above way of performing cross-validation doesn't always give us enough control on the process:  we usually want our machine learning experiments to be reproducible, and to be able to use the same cross-validation splits with multiple algorithms.  The scikit-learn `KFold` and `StratifiedKFold` cross-validation generators are the way to achieve that.  \n",
    "\n",
    "`KFold` simply chooses a random subset of examples for each fold.  This strategy can lead to cross-validation folds in which the classes are not well-represented as the following toy example demonstrates:"
   ]
  },
  {
   "cell_type": "code",
   "execution_count": 17,
   "metadata": {},
   "outputs": [
    {
     "name": "stdout",
     "output_type": "stream",
     "text": [
      "Split 1\n",
      "\t Test: [0 1 5] Train: [2 3 4]\n",
      "\t Training labels are: [1 1 1]\n",
      "Split 2\n",
      "\t Test: [2 3 4] Train: [0 1 5]\n",
      "\t Training labels are: [0 0 1]\n"
     ]
    }
   ],
   "source": [
    "from sklearn.model_selection import StratifiedKFold, KFold\n",
    "\n",
    "X_toy = np.array([[1, 2], [3, 4], [5, 6], [7, 8], [9,10], [11, 12]])\n",
    "y_toy = np.array([0, 0, 1, 1, 1, 1])\n",
    "cv = KFold(n_splits=2, random_state=42, shuffle=True)\n",
    "i  = 1\n",
    "for train_idx, test_idx in cv.split(X_toy, y_toy):\n",
    "    print(f'Split {i}')\n",
    "    print(f'\\t Test: {test_idx} Train: {train_idx}')\n",
    "    X_train, X_test = X_toy[train_idx], X_toy[test_idx]\n",
    "    y_train, y_test = y_toy[train_idx], y_toy[test_idx]\n",
    "    print(f'\\t Training labels are: {y_train}')\n",
    "    i = i + 1"
   ]
  },
  {
   "cell_type": "markdown",
   "metadata": {},
   "source": [
    "`StratifiedKFold` addresses this issue by making sure that each class is represented in each fold in proportion to its overall fraction in the data.  This is particularly important when one or more of the classes have few examples.\n",
    "\n",
    "`StratifiedKFold` and `KFold` generate folds that can be used in conjunction with the cross-validation methods we saw above.\n",
    "As an example, we will demonstrate the use of `StratifiedKFold` with `cross_val_score` on the breast cancer datast:"
   ]
  },
  {
   "cell_type": "code",
   "execution_count": 18,
   "metadata": {},
   "outputs": [
    {
     "name": "stdout",
     "output_type": "stream",
     "text": [
      "The stratified 5 folds mean accuracy is: 0.935\n"
     ]
    }
   ],
   "source": [
    "cv = StratifiedKFold(n_splits=5, random_state=1, shuffle=True)\n",
    "accuracy = cross_val_score(classifier, X, y, cv=cv, \n",
    "                           scoring='accuracy')\n",
    "print(f'The stratified 5 folds mean accuracy is: {np.mean(accuracy):1.3f}')"
   ]
  },
  {
   "cell_type": "markdown",
   "metadata": {},
   "source": [
    "For classification problems, `StratifiedKFold` is the preferred strategy.  \n",
    "\n",
    "However, for regression problems `KFold` is the way to go.\n",
    "\n",
    "#### Question\n",
    "\n",
    "Why is `KFold` used in regression probelms rather than `StratifiedKFold`?"
   ]
  },
  {
   "cell_type": "markdown",
   "metadata": {},
   "source": [
    "## A Deeper Dive into Visualizing Folds\n",
    "\n",
    "To clarify the distinction between the different methods of generating cross-validation folds and their different parameters let's look at the following figures:"
   ]
  },
  {
   "cell_type": "code",
   "execution_count": 19,
   "metadata": {},
   "outputs": [],
   "source": [
    "# the code originated with the example in ...\n",
    "# https://scikit-learn.org/stable/auto_examples/model_selection/plot_cv_indices.html\n",
    "from matplotlib.colors import ListedColormap\n",
    "\n",
    "np.random.seed(42)\n",
    "n_folds = 4\n",
    "\n",
    "# Generate the data\n",
    "X = np.random.randn(100, 10)\n",
    "\n",
    "# generate labels - classes 0,1,2 and 10,30,60 examples, respectively\n",
    "y = np.array([0] * 10 + [1] * 30 + [2] * 60)\n",
    "\n",
    "def plot_cv_indices(cv, X, y, ax, n_folds):\n",
    "    \"\"\"plot the indices of a cross-validation object.\"\"\"\n",
    "    line_width = 25\n",
    "    mark_size = 25\n",
    "    # Generate the training/testing visualizations for each CV split\n",
    "    for ii, (tr, tt) in enumerate(cv.split(X=X, y=y)):\n",
    "        # Fill in indices with the training/test groups\n",
    "        indices = np.zeros(len(X))\n",
    "        indices[tt] = 1\n",
    "        # Visualize the results\n",
    "        fold_cmap = ListedColormap(['darkgreen','orangered'])\n",
    "        ax.scatter(range(len(indices)), [ii] * len(indices),\n",
    "                   c=indices, marker=\"_\", lw=line_width, s=mark_size, cmap=fold_cmap)\n",
    "   \n",
    "    # Plot the data classes and groups at the end\n",
    "    labs_cmap = ListedColormap(['plum','purple','fuchsia'])\n",
    "    ax.scatter(range(len(X)), [ii+1] * len(X), c=y, marker='_', s=mark_size, lw=line_width,\n",
    "               cmap=labs_cmap)\n",
    "\n",
    "   # Formatting\n",
    "    ax.set(ylim=[5,-1])\n",
    "    yticklabels = list(range(1,n_folds+1)) + ['class']\n",
    "    ax.set(yticks=np.arange(n_folds + 1), yticklabels=yticklabels)\n",
    "    ax.set(xlabel='index', ylabel=\"CV fold\")\n",
    "    ax.set_title('{}'.format(type(cv).__name__), fontsize=15)\n",
    "    return ax"
   ]
  },
  {
   "cell_type": "markdown",
   "metadata": {},
   "source": [
    "Let's visualize the results of using `KFold` for fold generation:"
   ]
  },
  {
   "cell_type": "code",
   "execution_count": 20,
   "metadata": {},
   "outputs": [
    {
     "data": {
      "text/plain": [
       "array([0, 0, 0, 0, 0, 0, 0, 0, 0, 0, 1, 1, 1, 1, 1, 1, 1, 1, 1, 1, 1, 1,\n",
       "       1, 1, 1, 1, 1, 1, 1, 1, 1, 1, 1, 1, 1, 1, 1, 1, 1, 1, 2, 2, 2, 2,\n",
       "       2, 2, 2, 2, 2, 2, 2, 2, 2, 2, 2, 2, 2, 2, 2, 2, 2, 2, 2, 2, 2, 2,\n",
       "       2, 2, 2, 2, 2, 2, 2, 2, 2, 2, 2, 2, 2, 2, 2, 2, 2, 2, 2, 2, 2, 2,\n",
       "       2, 2, 2, 2, 2, 2, 2, 2, 2, 2, 2, 2])"
      ]
     },
     "execution_count": 20,
     "metadata": {},
     "output_type": "execute_result"
    }
   ],
   "source": [
    "y"
   ]
  },
  {
   "cell_type": "code",
   "execution_count": 21,
   "metadata": {},
   "outputs": [
    {
     "data": {
      "image/png": "[encoded data removed]",
      "text/plain": [
       "<Figure size 1080x288 with 1 Axes>"
      ]
     },
     "metadata": {
      "needs_background": "light"
     },
     "output_type": "display_data"
    }
   ],
   "source": [
    "fig, ax = plt.subplots(figsize=(15,4))\n",
    "cv = KFold(n_folds)\n",
    "plot_cv_indices(cv, X, y, ax, n_folds);"
   ]
  },
  {
   "cell_type": "markdown",
   "metadata": {},
   "source": [
    "As you can see, this naive way of using `KFold` can lead to highly undesirable splits into cross-validation folds.\n",
    "\n",
    "Note the bottom row shows the class labels.  Class zero appears only in Fold 1. If an ML model is trained on Folds 2, 3 and 4 it will **never** see an instance of class zero. \n",
    "\n",
    "Using `StratifiedKFold` addresses this to some extent:"
   ]
  },
  {
   "cell_type": "code",
   "execution_count": 22,
   "metadata": {},
   "outputs": [
    {
     "data": {
      "image/png": "[encoded data removed]",
      "text/plain": [
       "<Figure size 1080x288 with 1 Axes>"
      ]
     },
     "metadata": {
      "needs_background": "light"
     },
     "output_type": "display_data"
    }
   ],
   "source": [
    "fig, ax = plt.subplots(figsize=(15,4))\n",
    "cv = StratifiedKFold(n_folds)\n",
    "plot_cv_indices(cv, X, y, ax, n_folds);"
   ]
  },
  {
   "cell_type": "markdown",
   "metadata": {},
   "source": [
    "Using `StratifiedKFold` with shuffling of the examples is the preferred way of splitting the data into folds:"
   ]
  },
  {
   "cell_type": "code",
   "execution_count": 23,
   "metadata": {},
   "outputs": [
    {
     "data": {
      "image/png": "[encoded data removed]",
      "text/plain": [
       "<Figure size 1080x288 with 1 Axes>"
      ]
     },
     "metadata": {
      "needs_background": "light"
     },
     "output_type": "display_data"
    }
   ],
   "source": [
    "fig, ax = plt.subplots(figsize=(15,4))\n",
    "cv = StratifiedKFold(n_folds, shuffle=True)\n",
    "plot_cv_indices(cv, X, y, ax, n_folds);"
   ]
  },
  {
   "cell_type": "markdown",
   "metadata": {},
   "source": [
    "### Question\n",
    "\n",
    "Consider the task of digitizing handwritten text (aka optical character recognition, or OCR).  For each letter in the alphabet you have multiple labeled examples generated by the same writer.  How would this setup affect the way you divide your examples into training and test sets, or when performing cross-validation?\n"
   ]
  },
  {
   "cell_type": "markdown",
   "metadata": {},
   "source": [
    "### About Leave One Out \n",
    "\n",
    "A limiting case for k-fold cross validation is to have as many folds are there are available data samples.  This results in what is called a leave-one-out strategy. To be clear, how this works that given $k$ total samples one builds $k$ different models trained on a set from which **only one** sample is removed from training and used for testing. \n",
    "\n",
    "My personal opinion is there is simply no excuse for using performing a leave-one-out evaluation if you possess a reasonably large (hundreds of samples) dataset. As you might expect - the extreme imbalance between training and test set sizes for leave-one-out creates a warped (often overly-optimistic) picture of how a machine learning algorithm generalizes. \n",
    "\n",
    "But let me hasten to add one important caveat. There are disciplines where sample data is very difficult and costly to acquire. For example, anything involving [FMRI](https://en.wikipedia.org/wiki/Functional_magnetic_resonance_imaging) data for people. In such a circumstance, leave-one-out may be the best option available, if trying to measure generalization given no more than perhaps $10$ to $30$ samples. "
   ]
  },
  {
   "cell_type": "markdown",
   "metadata": {},
   "source": [
    "### The Vapnik–Chervonenkis Dimension\n",
    "\n",
    "The above commens about leave-one-out as an evaluation strategy leads to a related question.  If the sample data available for training a machine learning model is very limited, what does this imply about the choice of machine learning model. \n",
    "\n",
    "More particularly, how many degrees of freedom might be reasonable in a model being trained on perhaps $30$ samples? Broadly, the answer is choose a model with relatively few degrees of freedom when your training set sample size is small. Lacking a better rule of thumb, generaly there should be more samples than DOFs in your model. However, a quick caveat. This seems less true for very high DOF neural networks than - for example - polynomial basis regression.  \n",
    "\n",
    "And, while beyone the scope of this course in detail, please look at the [Vapnik–Chervonenkis dimension](https://en.wikipedia.org/wiki/Vapnik–Chervonenkis_dimension). While the details of this theory our beyond our scope - the existence of this theory is highly significant and anyone doing machine learning should be aware of its existence. Again, the VC Dimension work provides a basis for making rigorous what for most of us are heuristic guidelines regarding the complexity of a model (number of DOF) relative to the available training data. "
   ]
  },
  {
   "cell_type": "markdown",
   "metadata": {},
   "source": [
    "### Summary and Discussion\n",
    "\n",
    "In this notebook we discussed cross-validation as a more effective way to make use of limited amounts of data compared to the strategy of splitting data into train and test sets.  For very large datasets where training is  time consuming you might still opt for evaluation on a single test set.\n"
   ]
  }
 ],
 "metadata": {
  "kernelspec": {
   "display_name": "Python 3 (ipykernel)",
   "language": "python",
   "name": "python3"
  },
  "language_info": {
   "codemirror_mode": {
    "name": "ipython",
    "version": 3
   },
   "file_extension": ".py",
   "mimetype": "text/x-python",
   "name": "python",
   "nbconvert_exporter": "python",
   "pygments_lexer": "ipython3",
   "version": "3.9.6"
  }
 },
 "nbformat": 4,
 "nbformat_minor": 1
}
