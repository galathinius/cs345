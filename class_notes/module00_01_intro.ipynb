{
 "cells": [
  {
   "cell_type": "markdown",
   "metadata": {
    "id": "-MWTUClTQFCe"
   },
   "source": [
    "# CS345 Course Introduction\n",
    "\n",
    "This notebook is part of  course materials for CS 345: Machine Learning Foundations and Practice at Colorado State University.\n",
    "Original versions were created by Asa Ben-Hur with updates by Ross Beveridge.\n",
    "\n",
    "Last updated 8/23/2021\n",
    "\n",
    "*The text is released under the [CC BY-SA license](https://creativecommons.org/licenses/by-sa/4.0/), and code is released under the [MIT license](https://opensource.org/licenses/MIT).*\n",
    "\n"
   ]
  },
  {
   "cell_type": "markdown",
   "metadata": {
    "id": "Rkrho6zGRk9B"
   },
   "source": [
    "### Course Basics\n",
    "\n",
    "Instuctor: Ross Beveridge\n",
    "\n",
    "GTA: Yongxin Liu\n",
    "\n",
    "Lecture: Tuesday / Thursday 3:30 to 4:45 Engineering 120 and on Zoom\n",
    "\n",
    "In doubt, start at the [Public Website](https://www.cs.colostate.edu/~cs345/yr2021fa/)\n",
    "\n",
    "*We will now review briefly the course Syllabus and semester topics and then return here*"
   ]
  },
  {
   "cell_type": "markdown",
   "metadata": {
    "id": "GCnX8Wz3QFCh"
   },
   "source": [
    "### What is machine learning\n",
    "\n",
    "**Machine learning:**  the construction and study of systems that learn from data.\n"
   ]
  },
  {
   "cell_type": "markdown",
   "metadata": {
    "id": "r4K01SsdQFCh"
   },
   "source": [
    "Machine learning is an interdisciplinary field that requires background in multiple areas:\n",
    "\n",
    "* Linear algebra for working with vectors and matrices\n",
    "* Statistics and probability for reasoning about uncertainty\n",
    "* Calculus for optimization\n",
    "* Programming for efficient implementation of the algorithms\n"
   ]
  },
  {
   "cell_type": "markdown",
   "metadata": {
    "id": "1XdntQpR4FQ0"
   },
   "source": [
    "### Eric Grimson's Excellent Introduction\n",
    "\n",
    "We will not take a lot of time hear selling you on the significance of Machine Learning, it not overstating the case to claim that the material you will start to learn in this course has come to play a role in almost all significant scientific and engineering endeavors. \n",
    "\n",
    "It should not come as any surprise that MIT has a excellent introduction to this material and I draw your attention to [Lecture 11 by Eric Grimson](https://www.youtube.com/watch?v=h0e2HAPTGF4). Put simply, I don't really think I can improve upon this lecture by [Eric Grimon](https://www.csail.mit.edu/person/eric-grimson) - I encourage you all to watch it.  "
   ]
  },
  {
   "cell_type": "markdown",
   "metadata": {
    "id": "nf3d1P0ZQFCh"
   },
   "source": [
    "### A Classic Supervised Learning Example\n",
    "\n",
    "Example problem:  handwritten digit recognition.\n",
    "\n",
    "Some examples from the [MNIST dataset](https://en.wikipedia.org/wiki/MNIST_database):\n",
    "\n",
    "<img style=\"padding: 10px; float:center;\" alt=\"MNIST dataset by Josef Steppan CC BY-SA 4.0\" src=\"https://upload.wikimedia.org/wikipedia/commons/2/27/MnistExamples.png\" width=\"350\">"
   ]
  },
  {
   "cell_type": "markdown",
   "metadata": {
    "id": "u_AEb4LrQFCi"
   },
   "source": [
    "### Course objectives\n",
    "\n",
    "The machine learning toolbox:\n",
    "\n",
    "* Formulating a problem as an ML problem\n",
    "* Understanding a variety of ML algorithms\n",
    "* Running and interpreting ML experiments\n",
    "* Understanding what makes ML work – theory and practice\n"
   ]
  },
  {
   "cell_type": "markdown",
   "metadata": {
    "id": "SqLp7bVEQFCl"
   },
   "source": [
    "### Python\n",
    "\n",
    "Why Python?\n",
    "\n",
    "<img style=\"float: right;\" src=\"https://www.python.org/static/community_logos/python-logo.png\" width=\"200\">\n",
    "\n",
    "* A concise and intuitive language\n",
    "* Simple, easy to learn syntax\n",
    "* Highly readable, compact code\n",
    "* Supports object oriented and functional programming\n",
    "* Strong support for integration with other languages (C,C++,Java)\n",
    "* Cross-platform compatibility\n",
    "* Free\n",
    "* Makes programming fun!\n",
    "\n",
    "**We assume you already know the basics of Python**. That said, most of us can benefit from a little review, so expect us shortly to do a quick guided walkthrough of some Python basics in [module00_01_python_intro.ipynb](https://drive.google.com/file/d/1jIIntlf2RWcfnRr1kHuIBqfDZbuaBKww/view?usp=sharing). You may also want to take advantage of :\n",
    "[A Whirlwind Tour of the Python Language](https://github.com/jakevdp/WhirlwindTourOfPython).\n",
    "\n",
    "### Why Python for machine learning?\n",
    "\n",
    "Different researchers, and age may matter, may answer this question differently. One answer takes us back to the earliest days of computer science the first two high-level programming langagues: [Fortran](https://en.wikipedia.org/wiki/Fortran) and [Lisp](https://en.wikipedia.org/wiki/Lisp_(programming_language)). This history is important because it highlights that the needs of AI programmers have historically differed significantly from other areas of CS and Lisp accomdated these differences. The two important features are: an interpreted language easily extended and elegant handling of collections, e.g. lists. \n",
    "\n",
    "From the perspect of a researcher who has done significant AI development work in Lisp, Python is the closest we have come to a language with the same flexibility and ease of use.  Indeed, for those not found of many nested parentheses, Python may be argued to be an improvement. Without question what has happened over the past decade is that Python has emerged as one of the primary data science / machine learning languages.  In addition to the points mentioned above, here are a few additional aspects of Python that make it great for data science:\n",
    "\n",
    "* An interpreted language – allows for interactive data analysis\n",
    "* Libraries for plotting and vector/matrix computation\n",
    "* Many machine learning packages available:  scikit-learn, TensorFlow, PyTorch\n",
    "* Language of choice for many ML practitioners (other options: R)\n",
    "\n",
    "![image](https://scikit-learn.org/stable/_images/sphx_glr_plot_classifier_comparison_001.png)\n",
    "\n",
    "\n",
    "### The tools we will cover in this course:\n",
    "\n",
    "* ``Numpy``:  highly efficient manipulation of vectors and matrices\n",
    "* ``Matplotlib``: data visualization"
   ]
  },
  {
   "cell_type": "markdown",
   "metadata": {
    "id": "B5pu5lKWQFCl"
   },
   "source": [
    "### Python version and Anaconda\n",
    "\n",
    "<img style=\"float: right;\" src=\"https://upload.wikimedia.org/wikipedia/en/c/cd/Anaconda_Logo.png\" alt=\"drawing\" width=\"150\"/>\n",
    "\n",
    "Use version 3.X of Python.\n",
    "\n",
    "If setting up Python on your personal machine, we recommend the [anaconda](https://www.anaconda.com/distribution/) Python distribution which is a data-science oriented distribution that includes all the tools we will use in this course.\n",
    "\n",
    "A discussion thread for help installing Anaconda on your machine of choice is now up on MS Teams.\n"
   ]
  },
  {
   "cell_type": "markdown",
   "metadata": {
    "id": "3X3oGxnRQFCl"
   },
   "source": [
    "### IPython and the Jupyter Notebook"
   ]
  },
  {
   "cell_type": "markdown",
   "metadata": {
    "id": "kJRp08u2QFCm"
   },
   "source": [
    "The Jupyter notebook is a browser-based interface to the ``IPython`` Python shell.\n",
    "In addition to executing Python/IPython statements, the notebook allows the user to include formatted text, static and dynamic visualizations, mathematical equations, and much more. \n",
    "**It is the standard way of sharing data science analyses.**\n",
    "\n",
    "<img style=\"float: right;\" src=\"https://jupyter.org/assets/main-logo.svg\" width=\"100\">\n",
    "\n",
    "\n",
    "To invoke the jupyter notebook use the command:\n",
    "\n",
    "```bash\n",
    "jupyter notebook\n",
    "```\n",
    "\n",
    "which brings up the Jupyter notebook browser.  To open a specific notebook:\n",
    "\n",
    "```bash \n",
    "jupyter notebook notebook_name.ipynb\n",
    "```"
   ]
  },
  {
   "cell_type": "markdown",
   "metadata": {
    "id": "OvDeZukB4FQ3"
   },
   "source": [
    "### Google Colab\n",
    "\n",
    "<img style=\"float: right;\" src=\"https://miro.medium.com/max/502/1*sXs3TvhjvXcVCTldKnwMpA.png\" alt=\"drawing\" width=\"250\"/>\n",
    "\n",
    "\n",
    "Please also consider setting yourself up to use [Google Colab](https://colab.research.google.com/notebooks/intro.ipynb). As I am demonstrating during this lecture, if you store your notebooks on your Google Drive (acessible from you personal machines file system) then the two are entirely compatible with each other - although I don't recommend openning the same notebook at the same time using both tools.  "
   ]
  },
  {
   "cell_type": "markdown",
   "metadata": {
    "id": "j789Chyr4FQ3"
   },
   "source": [
    "### A Taste of Jupyter"
   ]
  },
  {
   "cell_type": "markdown",
   "metadata": {
    "id": "Rguaz6P6QFCm"
   },
   "source": [
    "There are two primary types of cells, good ones and bad ones,  in Jupyter:"
   ]
  },
  {
   "cell_type": "code",
   "execution_count": 1,
   "metadata": {
    "executionInfo": {
     "elapsed": 403,
     "status": "ok",
     "timestamp": 1611252289381,
     "user": {
      "displayName": "Ross Beveridge",
      "photoUrl": "https://lh3.googleusercontent.com/a-/AOh14GhZ9yfcROZXIKThWciv5reom6aDm1Spt-r8JOsVNA=s64",
      "userId": "11748907218223072510"
     },
     "user_tz": 420
    },
    "id": "YRdVAcKUQFCm"
   },
   "outputs": [],
   "source": [
    "# this is a code cell"
   ]
  },
  {
   "cell_type": "markdown",
   "metadata": {
    "id": "f0m2YfLOQFCn"
   },
   "source": [
    "This is a **markdown** cell.  You can type *text* and good looking equations \n",
    "\n",
    "$$f(x) = \\frac{1}{2\\pi} e^{-2 x^2 / \\sigma^2}$$\n"
   ]
  },
  {
   "cell_type": "code",
   "execution_count": 3,
   "metadata": {
    "colab": {
     "base_uri": "https://localhost:8080/"
    },
    "executionInfo": {
     "elapsed": 486,
     "status": "ok",
     "timestamp": 1611252504504,
     "user": {
      "displayName": "Ross Beveridge",
      "photoUrl": "https://lh3.googleusercontent.com/a-/AOh14GhZ9yfcROZXIKThWciv5reom6aDm1Spt-r8JOsVNA=s64",
      "userId": "11748907218223072510"
     },
     "user_tz": 420
    },
    "id": "G9UufDa7QFCn",
    "outputId": "7817a06f-4307-44fe-ecf4-0d184c568a72",
    "podoc": {
     "output_text": "Screenshot of a Jupyter notebook"
    }
   },
   "outputs": [
    {
     "name": "stdout",
     "output_type": "stream",
     "text": [
      "Hello Daniela!\n",
      "Hello Daniela!\n",
      "Hello Daniela!\n",
      "Hello Daniela!\n"
     ]
    }
   ],
   "source": [
    "print(\"Hello Daniela!\")\n",
    "print(\"Hello Daniela!\")\n",
    "print(\"Hello Daniela!\")\n",
    "print(\"Hello Daniela!\")"
   ]
  },
  {
   "cell_type": "code",
   "execution_count": 3,
   "metadata": {
    "colab": {
     "base_uri": "https://localhost:8080/"
    },
    "executionInfo": {
     "elapsed": 284,
     "status": "ok",
     "timestamp": 1611252748139,
     "user": {
      "displayName": "Ross Beveridge",
      "photoUrl": "https://lh3.googleusercontent.com/a-/AOh14GhZ9yfcROZXIKThWciv5reom6aDm1Spt-r8JOsVNA=s64",
      "userId": "11748907218223072510"
     },
     "user_tz": 420
    },
    "id": "lbUh2PMUQFCn",
    "outputId": "47f2b492-dcdb-4346-f3fd-ec44bb4045b7"
   },
   "outputs": [
    {
     "data": {
      "text/plain": [
       "5"
      ]
     },
     "execution_count": 3,
     "metadata": {},
     "output_type": "execute_result"
    }
   ],
   "source": [
    "2 + 3"
   ]
  },
  {
   "cell_type": "markdown",
   "metadata": {
    "id": "gwwigFFNQFCn"
   },
   "source": [
    "You can run shell commands:"
   ]
  },
  {
   "cell_type": "code",
   "execution_count": 4,
   "metadata": {
    "id": "xLEMnQt2QFCo"
   },
   "outputs": [
    {
     "name": "stdout",
     "output_type": "stream",
     "text": [
      "total 20128\r\n",
      "drwxr-xr-x@ 40 ross  staff     1280 Aug 24 16:44 \u001b[34m.\u001b[m\u001b[m\r\n",
      "drwxr-xr-x@ 12 ross  staff      384 Aug 24 09:28 \u001b[34m..\u001b[m\u001b[m\r\n",
      "-rw-r--r--@  1 ross  staff     6148 Aug 23 11:47 .DS_Store\r\n",
      "drwxr-xr-x@ 45 ross  staff     1440 Aug 24 09:48 \u001b[34m.ipynb_checkpoints\u001b[m\u001b[m\r\n",
      "-rw-r--r--@  1 ross  staff        0 Aug 24 09:28 Icon?\r\n",
      "drwxr-xr-x@  7 ross  staff      224 Aug 24 09:28 \u001b[34mdatasets\u001b[m\u001b[m\r\n",
      "drwxr-xr-x@ 14 ross  staff      448 Aug 24 09:28 \u001b[34mfigures\u001b[m\u001b[m\r\n",
      "-rwxr-xr-x   1 ross  staff    26338 Aug 24 16:44 \u001b[31mmodule00_01_intro.ipynb\u001b[m\u001b[m\r\n",
      "-rwxr-xr-x   1 ross  staff    46485 Aug 23 10:52 \u001b[31mmodule00_02_python_intro.ipynb\u001b[m\u001b[m\r\n",
      "-rwxr-xr-x   1 ross  staff   264684 May  5 13:53 \u001b[31mmodule01_01_labeled_data.ipynb\u001b[m\u001b[m\r\n",
      "-rwxr-xr-x@  1 ross  staff    78199 May  5 13:46 \u001b[31mmodule01_02_numpy.ipynb\u001b[m\u001b[m\r\n",
      "-rwxr-xr-x   1 ross  staff   293876 May  5 15:08 \u001b[31mmodule01_03_vectors_dot_products.ipynb\u001b[m\u001b[m\r\n",
      "-rwxr-xr-x   1 ross  staff   366708 May  5 16:20 \u001b[31mmodule01_04_matplotlib.ipynb\u001b[m\u001b[m\r\n",
      "-rwxr-xr-x   1 ross  staff  1509992 May  6 07:08 \u001b[31mmodule02_01_hyperplanes.ipynb\u001b[m\u001b[m\r\n",
      "-rwxr-xr-x@  1 ross  staff     9897 May  6 07:11 \u001b[31mmodule02_02_matrices.ipynb\u001b[m\u001b[m\r\n",
      "-rwxr-xr-x@  1 ross  staff   730842 May  9 08:33 \u001b[31mmodule02_03_perceptron.ipynb\u001b[m\u001b[m\r\n",
      "-rwxr-xr-x@  1 ross  staff   143527 Apr 26 09:56 \u001b[31mmodule02_04_nearest_neighbors.ipynb\u001b[m\u001b[m\r\n",
      "-rwxr-xr-x@  1 ross  staff   116075 Apr 26 09:56 \u001b[31mmodule02_05_more_nearest_neighbors.ipynb\u001b[m\u001b[m\r\n",
      "-rwxr-xr-x   1 ross  staff   126625 Apr 25 13:22 \u001b[31mmodule03_01_linear_regression.ipynb\u001b[m\u001b[m\r\n",
      "-rwxr-xr-x   1 ross  staff   263771 May  9 12:10 \u001b[31mmodule03_02_derivatives_regression_outliers-Copy1.ipynb\u001b[m\u001b[m\r\n",
      "-rwxr-xr-x@  1 ross  staff   265100 Apr 25 13:23 \u001b[31mmodule03_02_derivatives_regression_outliers.ipynb\u001b[m\u001b[m\r\n",
      "-rwxr-xr-x@  1 ross  staff    82484 Apr 25 13:24 \u001b[31mmodule03_03_multivariate_linear_regression.ipynb\u001b[m\u001b[m\r\n",
      "-rwxr-xr-x@  1 ross  staff   167840 Apr 25 13:25 \u001b[31mmodule03_04_linear_regression_gradient_descent.ipynb\u001b[m\u001b[m\r\n",
      "-rwxr-xr-x@  1 ross  staff   478400 Apr 25 13:25 \u001b[31mmodule04_01_polynomial_basis_regression.ipynb\u001b[m\u001b[m\r\n",
      "-rwxr-xr-x@  1 ross  staff   251482 Apr 25 13:26 \u001b[31mmodule04_02_regularization.ipynb\u001b[m\u001b[m\r\n",
      "-rwxr-xr-x@  1 ross  staff    59796 Apr 25 13:28 \u001b[31mmodule05_01_cross_validation.ipynb\u001b[m\u001b[m\r\n",
      "-rwxr-xr-x@  1 ross  staff    63932 Apr 25 13:28 \u001b[31mmodule05_02_classifier_accuracy.ipynb\u001b[m\u001b[m\r\n",
      "-rwxr-xr-x   1 ross  staff   151567 Apr 26 09:38 \u001b[31mmodule06_01_decision_trees.ipynb\u001b[m\u001b[m\r\n",
      "-rwxr-xr-x   1 ross  staff    78972 May  9 18:16 \u001b[31mmodule06_02_ensemble_methods-Copy1.ipynb\u001b[m\u001b[m\r\n",
      "-rwxr-xr-x@  1 ross  staff    79518 Apr 26 09:39 \u001b[31mmodule06_02_ensemble_methods.ipynb\u001b[m\u001b[m\r\n",
      "-rwxr-xr-x@  1 ross  staff    40346 Apr 11 08:29 \u001b[31mmodule07_01_probability.ipynb\u001b[m\u001b[m\r\n",
      "-rwxr-xr-x@  1 ross  staff   435860 Apr 26 09:40 \u001b[31mmodule07_03_regularization_revisited.ipynb\u001b[m\u001b[m\r\n",
      "-rwxr-xr-x@  1 ross  staff   250664 Apr 26 09:41 \u001b[31mmodule08_01_neural_networks_mlp.ipynb\u001b[m\u001b[m\r\n",
      "-rwxr-xr-x   1 ross  staff   971404 Apr 26 09:50 \u001b[31mmodule08_02_neural_networks_keras.ipynb\u001b[m\u001b[m\r\n",
      "-rwxr-xr-x   1 ross  staff   125935 May  9 19:12 \u001b[31mmodule09_01_neural_networks_mnist.ipynb\u001b[m\u001b[m\r\n",
      "-rwxr-xr-x   1 ross  staff   862993 May  4 14:40 \u001b[31mmodule09_02_cnns_cifar10.ipynb\u001b[m\u001b[m\r\n",
      "-rwxr-xr-x@  1 ross  staff     8383 Jan 18  2021 \u001b[31mmodule10_01_conclusions.ipynb\u001b[m\u001b[m\r\n",
      "-rwxr-xr-x@  1 ross  staff    21002 May  9 07:54 \u001b[31mmy_figure.png\u001b[m\u001b[m\r\n",
      "-rwxr-xr-x@  1 ross  staff   482572 Apr 26 09:40 \u001b[31mzhold_module07_02_logistic_regression.ipynb\u001b[m\u001b[m\r\n",
      "-rwxr-xr-x@  1 ross  staff    43446 Jan 18  2021 \u001b[31mzhoold_module09_01_naive_bayes.ipynb\u001b[m\u001b[m\r\n"
     ]
    }
   ],
   "source": [
    "!ls"
   ]
  },
  {
   "cell_type": "markdown",
   "metadata": {
    "id": "7CnqID1eQFCo"
   },
   "source": [
    "The `%` sign is used for *magic commands*, which are iPython shell commands.  For example, to find what other magic commands there are"
   ]
  },
  {
   "cell_type": "code",
   "execution_count": 5,
   "metadata": {
    "colab": {
     "base_uri": "https://localhost:8080/",
     "height": 159
    },
    "executionInfo": {
     "elapsed": 279,
     "status": "ok",
     "timestamp": 1611252804940,
     "user": {
      "displayName": "Ross Beveridge",
      "photoUrl": "https://lh3.googleusercontent.com/a-/AOh14GhZ9yfcROZXIKThWciv5reom6aDm1Spt-r8JOsVNA=s64",
      "userId": "11748907218223072510"
     },
     "user_tz": 420
    },
    "id": "R6gpjEIcQFCo",
    "outputId": "1603ad21-6598-489e-c8e6-0404c425d64a"
   },
   "outputs": [
    {
     "data": {
      "application/json": {
       "cell": {
        "!": "OSMagics",
        "HTML": "Other",
        "SVG": "Other",
        "bash": "Other",
        "capture": "ExecutionMagics",
        "debug": "ExecutionMagics",
        "file": "Other",
        "html": "DisplayMagics",
        "javascript": "DisplayMagics",
        "js": "DisplayMagics",
        "latex": "DisplayMagics",
        "markdown": "DisplayMagics",
        "perl": "Other",
        "prun": "ExecutionMagics",
        "pypy": "Other",
        "python": "Other",
        "python2": "Other",
        "python3": "Other",
        "ruby": "Other",
        "script": "ScriptMagics",
        "sh": "Other",
        "svg": "DisplayMagics",
        "sx": "OSMagics",
        "system": "OSMagics",
        "time": "ExecutionMagics",
        "timeit": "ExecutionMagics",
        "writefile": "OSMagics"
       },
       "line": {
        "alias": "OSMagics",
        "alias_magic": "BasicMagics",
        "autoawait": "AsyncMagics",
        "autocall": "AutoMagics",
        "automagic": "AutoMagics",
        "autosave": "KernelMagics",
        "bookmark": "OSMagics",
        "cat": "Other",
        "cd": "OSMagics",
        "clear": "KernelMagics",
        "colors": "BasicMagics",
        "conda": "PackagingMagics",
        "config": "ConfigMagics",
        "connect_info": "KernelMagics",
        "cp": "Other",
        "debug": "ExecutionMagics",
        "dhist": "OSMagics",
        "dirs": "OSMagics",
        "doctest_mode": "BasicMagics",
        "ed": "Other",
        "edit": "KernelMagics",
        "env": "OSMagics",
        "gui": "BasicMagics",
        "hist": "Other",
        "history": "HistoryMagics",
        "killbgscripts": "ScriptMagics",
        "ldir": "Other",
        "less": "KernelMagics",
        "lf": "Other",
        "lk": "Other",
        "ll": "Other",
        "load": "CodeMagics",
        "load_ext": "ExtensionMagics",
        "loadpy": "CodeMagics",
        "logoff": "LoggingMagics",
        "logon": "LoggingMagics",
        "logstart": "LoggingMagics",
        "logstate": "LoggingMagics",
        "logstop": "LoggingMagics",
        "ls": "Other",
        "lsmagic": "BasicMagics",
        "lx": "Other",
        "macro": "ExecutionMagics",
        "magic": "BasicMagics",
        "man": "KernelMagics",
        "matplotlib": "PylabMagics",
        "mkdir": "Other",
        "more": "KernelMagics",
        "mv": "Other",
        "notebook": "BasicMagics",
        "page": "BasicMagics",
        "pastebin": "CodeMagics",
        "pdb": "ExecutionMagics",
        "pdef": "NamespaceMagics",
        "pdoc": "NamespaceMagics",
        "pfile": "NamespaceMagics",
        "pinfo": "NamespaceMagics",
        "pinfo2": "NamespaceMagics",
        "pip": "PackagingMagics",
        "popd": "OSMagics",
        "pprint": "BasicMagics",
        "precision": "BasicMagics",
        "prun": "ExecutionMagics",
        "psearch": "NamespaceMagics",
        "psource": "NamespaceMagics",
        "pushd": "OSMagics",
        "pwd": "OSMagics",
        "pycat": "OSMagics",
        "pylab": "PylabMagics",
        "qtconsole": "KernelMagics",
        "quickref": "BasicMagics",
        "recall": "HistoryMagics",
        "rehashx": "OSMagics",
        "reload_ext": "ExtensionMagics",
        "rep": "Other",
        "rerun": "HistoryMagics",
        "reset": "NamespaceMagics",
        "reset_selective": "NamespaceMagics",
        "rm": "Other",
        "rmdir": "Other",
        "run": "ExecutionMagics",
        "save": "CodeMagics",
        "sc": "OSMagics",
        "set_env": "OSMagics",
        "store": "StoreMagics",
        "sx": "OSMagics",
        "system": "OSMagics",
        "tb": "ExecutionMagics",
        "time": "ExecutionMagics",
        "timeit": "ExecutionMagics",
        "unalias": "OSMagics",
        "unload_ext": "ExtensionMagics",
        "who": "NamespaceMagics",
        "who_ls": "NamespaceMagics",
        "whos": "NamespaceMagics",
        "xdel": "NamespaceMagics",
        "xmode": "BasicMagics"
       }
      },
      "text/plain": [
       "Available line magics:\n",
       "%alias  %alias_magic  %autoawait  %autocall  %automagic  %autosave  %bookmark  %cat  %cd  %clear  %colors  %conda  %config  %connect_info  %cp  %debug  %dhist  %dirs  %doctest_mode  %ed  %edit  %env  %gui  %hist  %history  %killbgscripts  %ldir  %less  %lf  %lk  %ll  %load  %load_ext  %loadpy  %logoff  %logon  %logstart  %logstate  %logstop  %ls  %lsmagic  %lx  %macro  %magic  %man  %matplotlib  %mkdir  %more  %mv  %notebook  %page  %pastebin  %pdb  %pdef  %pdoc  %pfile  %pinfo  %pinfo2  %pip  %popd  %pprint  %precision  %prun  %psearch  %psource  %pushd  %pwd  %pycat  %pylab  %qtconsole  %quickref  %recall  %rehashx  %reload_ext  %rep  %rerun  %reset  %reset_selective  %rm  %rmdir  %run  %save  %sc  %set_env  %store  %sx  %system  %tb  %time  %timeit  %unalias  %unload_ext  %who  %who_ls  %whos  %xdel  %xmode\n",
       "\n",
       "Available cell magics:\n",
       "%%!  %%HTML  %%SVG  %%bash  %%capture  %%debug  %%file  %%html  %%javascript  %%js  %%latex  %%markdown  %%perl  %%prun  %%pypy  %%python  %%python2  %%python3  %%ruby  %%script  %%sh  %%svg  %%sx  %%system  %%time  %%timeit  %%writefile\n",
       "\n",
       "Automagic is ON, % prefix IS NOT needed for line magics."
      ]
     },
     "execution_count": 5,
     "metadata": {},
     "output_type": "execute_result"
    }
   ],
   "source": [
    "%lsmagic"
   ]
  },
  {
   "cell_type": "markdown",
   "metadata": {
    "id": "UJwlvMCIQFCo"
   },
   "source": [
    "The `%timeit` magic is one that we will use quite regularly.  Let's learn what it's for:"
   ]
  },
  {
   "cell_type": "code",
   "execution_count": 6,
   "metadata": {
    "executionInfo": {
     "elapsed": 302,
     "status": "ok",
     "timestamp": 1611252814941,
     "user": {
      "displayName": "Ross Beveridge",
      "photoUrl": "https://lh3.googleusercontent.com/a-/AOh14GhZ9yfcROZXIKThWciv5reom6aDm1Spt-r8JOsVNA=s64",
      "userId": "11748907218223072510"
     },
     "user_tz": 420
    },
    "id": "TGNz2ogZQFCp",
    "podoc": {
     "output_text": "Screenshot of the pager"
    }
   },
   "outputs": [],
   "source": [
    "%timeit?"
   ]
  },
  {
   "cell_type": "markdown",
   "metadata": {
    "id": "25vUFoExQFCp"
   },
   "source": [
    "Now try this:"
   ]
  },
  {
   "cell_type": "code",
   "execution_count": 4,
   "metadata": {
    "executionInfo": {
     "elapsed": 263,
     "status": "ok",
     "timestamp": 1611252881857,
     "user": {
      "displayName": "Ross Beveridge",
      "photoUrl": "https://lh3.googleusercontent.com/a-/AOh14GhZ9yfcROZXIKThWciv5reom6aDm1Spt-r8JOsVNA=s64",
      "userId": "11748907218223072510"
     },
     "user_tz": 420
    },
    "id": "zzSDnPFqQFCp"
   },
   "outputs": [],
   "source": [
    "import antigravity\n",
    "# TODO: jiojcoid"
   ]
  },
  {
   "cell_type": "markdown",
   "metadata": {
    "id": "2j5EwUOyQFCp"
   },
   "source": [
    "### Mastering the Jupyter notebook\n",
    "\n",
    "To be more productive in using notebooks, I highly recommend exploring the notebook keyboard shortcuts.\n",
    "Here is a useful [blog post](https://www.dataquest.io/blog/jupyter-notebook-tips-tricks-shortcuts/) that provides a detailed overview.\n",
    "You will also need to know the basics of Markdown syntax.\n",
    "\n",
    "One of the nice features of the Jupyter notebook is that it supports writing mathematical equation using LaTex.  Here are a couple of examples of what you can do with LaTex:\n",
    "\n",
    "$$\n",
    "\\sum_{i=1}^N x_i^2 + \\alpha \n",
    "$$\n",
    "\n",
    "\n",
    "And here is the markup that generated this formula\n",
    "```latex\n",
    "$$\n",
    "\\sum_{i=1}^N x_i^2 + \\alpha\n",
    "$$\n",
    "```\n",
    "All LaTex commands are preceded by a `\\`, and as you can see, it is quite intuitive!"
   ]
  },
  {
   "cell_type": "code",
   "execution_count": null,
   "metadata": {
    "id": "Lwhb2jeJQFCq"
   },
   "outputs": [],
   "source": []
  }
 ],
 "metadata": {
  "colab": {
   "collapsed_sections": [],
   "name": "module01_01_intro.ipynb",
   "provenance": []
  },
  "kernelspec": {
   "display_name": "Python 3",
   "language": "python",
   "name": "python3"
  },
  "language_info": {
   "codemirror_mode": {
    "name": "ipython",
    "version": 3
   },
   "file_extension": ".py",
   "mimetype": "text/x-python",
   "name": "python",
   "nbconvert_exporter": "python",
   "pygments_lexer": "ipython3",
   "version": "3.9.6"
  }
 },
 "nbformat": 4,
 "nbformat_minor": 1
}
