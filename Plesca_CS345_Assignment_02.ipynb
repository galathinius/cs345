{
 "cells": [
  {
   "cell_type": "markdown",
   "id": "2cbd02b9",
   "metadata": {
    "id": "2cbd02b9"
   },
   "source": [
    "# Assignment 02\n",
    "\n",
    "## CS345 Fall 2021\n",
    "\n",
    "### Assigned on October 7, 2021\n",
    "\n",
    "### Done by \\<Anisoara Plesca\\>\n",
    "\n",
    "In this assignment you will be combining several concepts from previous lectures.  Keep in mind this is more about exploring as opposed to implementing any one canonical algorithm.  The data domain will be the 1797 hand written digits already presented in the lectures on nearest neighbor classifers. Briefly, you will be asked to do the following:\n",
    "\n",
    "- Split the dataset into two almost equal training and test sets. Bring over the nearest neighbor classifier presented in lecture and evaluate how well it solves this problem and how long it takes to run.\n",
    "- Run the nearest neighbor classifier using only a single example from each class. In one case use the class mean (average image) and in the other the class exemplar (image closest to all others)\n",
    "- Experiment with PCA as a way to reduce the dimensionality of the digits dataset.  Report how much reduction is possible and how much, if any, the accuracy of digit labeling deteriorates with smaller subspaces.\n",
    "- Implement a $k$ nearest neighbors algorithm and see how much it does - or does not - improve accuracy on the digits dataset.\n",
    "- Since the nearest neighbors algorithm generally does well - with few errors - you are to examine more closely these mistakes.  What do the images associated with these mistakes look like?\n",
    "- Last but not least, get to friends or family members to help you, and record how well people do at properly labeling these problematic images.\n",
    "\n",
    "A couple of requests. Please, once you have downloaded this notebook, create a copy with your last name added to the file name. This will ultimately be the notebook you turn in for this assignment. Second, keep a clean copy of what you have downloaded. This is important. Note that outputs for code that has been removed is present in what you first download. This represents a huge hint as to what you code should generate. As soon as you \"Run All\" on the notebook these hints will go away.\n"
   ]
  },
  {
   "cell_type": "markdown",
   "id": "acc54f83",
   "metadata": {
    "id": "acc54f83"
   },
   "source": [
    "## Part 0: Loading Stuff\n",
    "\n",
    "To get started we need certain libraries and also a dataset."
   ]
  },
  {
   "cell_type": "code",
   "execution_count": 1,
   "id": "c60cec20",
   "metadata": {
    "id": "c60cec20"
   },
   "outputs": [],
   "source": [
    "import numpy as np\n",
    "from matplotlib import pylab as plt\n",
    "%matplotlib inline\n",
    "\n",
    "from sklearn.model_selection import train_test_split\n",
    "\n",
    "from sklearn import datasets\n",
    "digits = datasets.load_digits()\n",
    "X = digits.data\n",
    "y = digits.target\n",
    "\n",
    "import timeit\n",
    "import random\n",
    "\n",
    "from scipy import stats"
   ]
  },
  {
   "cell_type": "markdown",
   "id": "cdb94cc1",
   "metadata": {
    "id": "cdb94cc1"
   },
   "source": [
    "## Part 1: Split and Baseline Nearest Neighbor\n",
    "\n",
    "To get started we will simply divide our dataset in half.  "
   ]
  },
  {
   "cell_type": "code",
   "execution_count": 2,
   "id": "8ca450be",
   "metadata": {
    "id": "8ca450be"
   },
   "outputs": [],
   "source": [
    "# Write Code\n",
    "\n",
    "def create_898_899_split(X, y, rseed=42) :\n",
    "    return train_test_split(X, y, \n",
    "            test_size=0.50, shuffle=True, random_state=rseed)\n"
   ]
  },
  {
   "cell_type": "code",
   "execution_count": 3,
   "id": "ff95b21a",
   "metadata": {
    "id": "ff95b21a",
    "outputId": "add42f0d-0234-4314-f8a1-2e280888315e"
   },
   "outputs": [
    {
     "name": "stdout",
     "output_type": "stream",
     "text": [
      "(898, 64) (899, 64)\n"
     ]
    }
   ],
   "source": [
    "# Run Code\n",
    "\n",
    "X_train, X_test, y_train, y_test = create_898_899_split(X, y)\n",
    "print(X_train.shape, X_test.shape)"
   ]
  },
  {
   "cell_type": "markdown",
   "id": "6240c91b",
   "metadata": {
    "id": "6240c91b"
   },
   "source": [
    "For this assignment you will use the nearest neighbors class as defined in the ```module02_03_nearest_neighbors.ipynb``` notebook"
   ]
  },
  {
   "cell_type": "code",
   "execution_count": 4,
   "id": "2f946d86",
   "metadata": {
    "id": "2f946d86"
   },
   "outputs": [],
   "source": [
    "# Write Code (actually go and get the code)\n",
    "\n",
    "def distance(x1, x2):\n",
    "    return np.linalg.norm(x1-x2)\n",
    "\n",
    "# distance(np.array([2,1]), np.array([1,0]))\n",
    "\n",
    "class nearest_neighbor:\n",
    "    def __init__(self):\n",
    "        pass\n",
    "    def fit(self, X, y):\n",
    "        self.X = X\n",
    "        self.y = y\n",
    "    def get_nearest(self, x):\n",
    "        distances = [distance(x, self.X[i]) \n",
    "                     for i in range(len(self.X))]\n",
    "        return np.argmin(distances)\n",
    "    def predict(self, x) :\n",
    "        return self.y[self.get_nearest(x)]\n",
    "\n"
   ]
  },
  {
   "cell_type": "markdown",
   "id": "6794201b",
   "metadata": {
    "id": "6794201b"
   },
   "source": [
    "Let us establish both the run-time and the test data accuracy for the nearest neigbhor classifier applied to 50-50  split created. That means specifically that you need to write the code for the function below which creates an instance of a nearest neighbor classifier, sets up the classifier (fits the data) and then applies the classifier to the test data and reports the accuracy.  \n",
    "\n"
   ]
  },
  {
   "cell_type": "code",
   "execution_count": 5,
   "id": "96c10d10",
   "metadata": {
    "id": "96c10d10"
   },
   "outputs": [],
   "source": [
    "# Write Code\n",
    "\n",
    "def run_nearest_neighbors(X_train, y_train, X_test, y_test) :\n",
    "    nn = nearest_neighbor()\n",
    "    nn.fit(X_train, y_train)\n",
    "    y_pred = np.array([nn.predict(X_test[i]) for i in range(len(X_test))])\n",
    "    acc = np.sum(y_pred == y_test)/len(y_test)\n",
    "    print(f'The accuracy is {acc:.3f}')\n",
    "    return acc\n",
    "  "
   ]
  },
  {
   "cell_type": "markdown",
   "id": "b993d5b4",
   "metadata": {
    "id": "b993d5b4"
   },
   "source": [
    "The following code uses the Jupyter Notebook interface version of the timeit function to compute how long it takes the nearest neighbor algorithm to predict labels for the test image.  Your timeing may vary, running on a MacBook Pro the time was roughly 4 to 5 seconds."
   ]
  },
  {
   "cell_type": "code",
   "execution_count": 6,
   "id": "9138e883",
   "metadata": {
    "id": "9138e883",
    "outputId": "327eb92b-a5c6-42a2-b89b-9d67fdffdf1b"
   },
   "outputs": [
    {
     "name": "stdout",
     "output_type": "stream",
     "text": [
      "The accuracy is 0.983\n",
      "4.24 s ± 0 ns per loop (mean ± std. dev. of 1 run, 1 loop each)\n"
     ]
    }
   ],
   "source": [
    "# Run Code\n",
    "\n",
    "%timeit -r 1 -n 1 run_nearest_neighbors(X_train, y_train, X_test, y_test)\n",
    "\n",
    "# The accuracy is 0.983\n",
    "# 4.51 s ± 0 ns per loop (mean ± std. dev. of 1 run, 1 loop each)\n"
   ]
  },
  {
   "cell_type": "markdown",
   "id": "e76bb69e",
   "metadata": {
    "id": "e76bb69e"
   },
   "source": [
    "## Part 2: Class Means and Exemplars\n",
    "\n",
    "One problem with nearest neighbor classifiers is the computational burden as more training samples are used. To be precise, without some extra work to speed up the search for the nearest neighbor, the algorithm examine every single training sample each and every time the algorithm is asked to predict a label. As a part of this assignment we will examine several possible ways to reduce this burden. To start, what if there were a single sample or synthetic sample that could stand in for the entire class?  We will explore this idea with two distinct ways to construct such a single sample; the average image for the class and the exemplar image for the class. "
   ]
  },
  {
   "cell_type": "markdown",
   "id": "8bc54cea",
   "metadata": {
    "id": "8bc54cea"
   },
   "source": [
    "### Class Mean\n",
    "\n",
    "In the cells below you need to write the code to find the mean image for each class, and after that, also the exemplar image for each class. "
   ]
  },
  {
   "cell_type": "code",
   "execution_count": 7,
   "id": "4e470630",
   "metadata": {
    "id": "4e470630"
   },
   "outputs": [],
   "source": [
    "# Write Code\n",
    "\n",
    "def class_means(X_train, y_train) :\n",
    "    the_means = []\n",
    "#     range(10)\n",
    "    for classs in set(y_train):\n",
    "        x_of_class = X_train[y_train==classs ]\n",
    "        the_means.append(x_of_class.mean(axis=0))\n",
    "        \n",
    "    return the_means\n",
    "    "
   ]
  },
  {
   "cell_type": "code",
   "execution_count": 8,
   "id": "135a7439",
   "metadata": {
    "id": "135a7439",
    "outputId": "54ca8a5e-8a61-4cea-83f9-6f49ca3b0f78"
   },
   "outputs": [
    {
     "name": "stdout",
     "output_type": "stream",
     "text": [
      "The accuracy is 0.890\n",
      "74.3 ms ± 0 ns per loop (mean ± std. dev. of 1 run, 1 loop each)\n"
     ]
    }
   ],
   "source": [
    "# Run Code\n",
    "\n",
    "X_means = class_means(X_train, y_train)\n",
    "y_means = [i for i in range(10)]\n",
    "\n",
    "%timeit -r 1 -n 1 run_nearest_neighbors(X_means, y_means, X_test, y_test)\n",
    "\n",
    "# The accuracy is 0.890\n",
    "# 64.9 ms ± 0 ns per loop (mean ± std. dev. of 1 run, 1 loop each)"
   ]
  },
  {
   "cell_type": "markdown",
   "id": "6f0c0181",
   "metadata": {
    "id": "6f0c0181"
   },
   "source": [
    "Notice the significant drop in run time!   \n",
    "\n",
    "Also notice the associated drop in accuracy. \n",
    "\n",
    "Finally, keep in mind that a random choice algorithm is expected to get the correct answer only 10 percent of the time. In that sense, an accuracy of above 90 percent doing nothing more than comparing to the class means is suggestive of how difficult - or not difficult depending upon one's perpective - this labeling problem is to solve.\n"
   ]
  },
  {
   "cell_type": "markdown",
   "id": "383a69ea",
   "metadata": {
    "id": "383a69ea"
   },
   "source": [
    "### Class Exemplar\n",
    "\n",
    "As mentioned in lecture, the average image \"lies between\" many images and matches none perfectly.  Therefore, it is worthwhile to consider if a class exemplar used in place of the mean might improve recognition accuracy.  \n",
    "\n",
    "Recall from lecture that the exemplar for a class is the image who sum of distances to all other images in the class is less than for any other image in the class. Write the code below to find the exemplars for each class. "
   ]
  },
  {
   "cell_type": "code",
   "execution_count": 9,
   "id": "8c373246",
   "metadata": {
    "id": "8c373246"
   },
   "outputs": [],
   "source": [
    "# Write Code\n",
    "\n",
    "def class_examplars(X_train, y_train) :\n",
    "    the_exemplars = []\n",
    "#     range(10)\n",
    "    for classs in set(y_train):\n",
    "        x_of_class = X_train[y_train==classs]\n",
    "        ptdsts = []\n",
    "        \n",
    "        for i in range(len(x_of_class)) :\n",
    "            alldst = [np.sqrt(np.sum((x_of_class[j]-x_of_class[i])*(x_of_class[j]-x_of_class[i]))) for j in range(len(x_of_class))]\n",
    "            ptdsts.append(sum(alldst))\n",
    "            \n",
    "        the_exemplars.append(x_of_class[np.argmin(ptdsts)])\n",
    "        \n",
    "        \n",
    "    return the_exemplars\n",
    "   \n",
    "                "
   ]
  },
  {
   "cell_type": "markdown",
   "id": "89d9fbca",
   "metadata": {
    "id": "89d9fbca"
   },
   "source": [
    "The following code when run will reveal just how much better - or worse - the nearest neighbor algorithm does when using the class exemplars in place of the class means."
   ]
  },
  {
   "cell_type": "code",
   "execution_count": 10,
   "id": "bbfc78e5",
   "metadata": {
    "id": "bbfc78e5",
    "outputId": "a4f47e56-2006-47c8-e7f4-e2924661710d"
   },
   "outputs": [
    {
     "name": "stdout",
     "output_type": "stream",
     "text": [
      "The accuracy is 0.820\n",
      "48.2 ms ± 0 ns per loop (mean ± std. dev. of 1 run, 1 loop each)\n"
     ]
    }
   ],
   "source": [
    "# Run Code\n",
    "\n",
    "X_exemplars = class_examplars(X_train, y_train)\n",
    "y_exemplars = [i for i in range(10)]\n",
    "\n",
    "%timeit -r 1 -n 1 run_nearest_neighbors(X_exemplars, y_exemplars, X_test, y_test)\n",
    "# The accuracy is 0.820\n",
    "# 58.4 ms ± 0 ns per loop (mean ± std. dev. of 1 run, 1 loop each)"
   ]
  },
  {
   "cell_type": "markdown",
   "id": "54405889",
   "metadata": {
    "id": "54405889"
   },
   "source": [
    "### Look at Means and Exemplars\n",
    "\n",
    "It is worthwhile taking a look visually at the difference between the class averages and the exemplars. What can you see as noticable differences?\n"
   ]
  },
  {
   "cell_type": "code",
   "execution_count": 11,
   "id": "a3cb1bda",
   "metadata": {
    "id": "a3cb1bda",
    "outputId": "9d8b58fa-0e9b-4d55-e310-f34e6659d9d3"
   },
   "outputs": [
    {
     "data": {
      "image/png": "[encoded data removed]",
      "text/plain": [
       "<Figure size 216x864 with 20 Axes>"
      ]
     },
     "metadata": {
      "needs_background": "light"
     },
     "output_type": "display_data"
    }
   ],
   "source": [
    "# Run Code\n",
    "\n",
    "def plot_means_and_exemplars(X_means, X_exemplars) :\n",
    "    axes = plt.figure(figsize=[3,12], constrained_layout=True).subplots(10,2)\n",
    "    for ax, ci in zip(axes, [i for i in range(10)]) :\n",
    "        ax[0].set_title('Class %i Mean' % ci)\n",
    "        ax[1].set_title('Class %i Exemplar' % ci)\n",
    "        ax[0].set_axis_off()\n",
    "        ax[0].imshow(np.resize(X_means[ci], (8,8)), cmap=plt.cm.gray_r, interpolation='nearest')\n",
    "        ax[1].set_axis_off()\n",
    "        ax[1].imshow(np.resize(X_exemplars[ci], (8,8)), cmap=plt.cm.gray_r, interpolation='nearest')\n",
    "\n",
    "plot_means_and_exemplars(X_means, X_exemplars)     "
   ]
  },
  {
   "cell_type": "markdown",
   "id": "96752cb2",
   "metadata": {
    "id": "96752cb2"
   },
   "source": [
    "### Puzzle: Pick Which is Which\n",
    "\n",
    "Based upon what you see above here is a puzzle to solve.  The following function is given a class exemplar and a class mean for the same class. However, they may be given in either order.  What your function must do is determint which is which.  To solve this here are some strong hints.  Think for a moment about how averaging many images together may change pixel values.  You might want to look carefully at histograms of the pixel values in pairs of mean and exemplar images for a given class.  Hopefully going down that path of investigation will show you that what you are being asked to accomplish here involes a bit of coding - but it is NOT excessively complex. Further, you are being asked to write code that implements a simple rule. If are are starting to think you need to use machine learning in general to solve this problem you have started down a needlessly complex path."
   ]
  },
  {
   "cell_type": "code",
   "execution_count": 12,
   "id": "449db60b",
   "metadata": {
    "id": "449db60b"
   },
   "outputs": [],
   "source": [
    "# Write Code\n",
    "\n",
    "def means_exemplars_choose(A, B) :\n",
    "    '''The digit images must be from a single class and the \n",
    "       function reports, prints, which is the exemplar and which the mean. '''\n",
    "#     A_mode = stats.mode(A[A != 0])      # also works\n",
    "\n",
    "    A_mode = stats.mode(A)\n",
    "    B_mode = stats.mode(B)\n",
    "    \n",
    "#     print(A_mode)\n",
    "#     print(B_mode)\n",
    "    \n",
    "    if A_mode>B_mode:\n",
    "        print(f'Ground Truth: \\tB is the mean image and A is the exemplar image')\n",
    "    else:\n",
    "        print(f'Ground Truth: \\tA is the mean image and B is the exemplar image')\n",
    "    \n",
    "    \n",
    "   \n",
    " "
   ]
  },
  {
   "cell_type": "markdown",
   "id": "6ad0c760",
   "metadata": {
    "id": "6ad0c760"
   },
   "source": [
    "As you can readily see, if you discovered a reliable rule and implemented that rule in the above function, then the code below will generate one test case per class and you can immediately see if your rule gets the correct answer. "
   ]
  },
  {
   "cell_type": "code",
   "execution_count": 13,
   "id": "c0d6bdda",
   "metadata": {
    "id": "c0d6bdda",
    "outputId": "dbd301ca-6ecf-4242-c7ec-aa8684dd070f"
   },
   "outputs": [
    {
     "name": "stdout",
     "output_type": "stream",
     "text": [
      "Class 0\n",
      "Ground Truth: \tB is the mean image and A is the exemplar image\n",
      "Ground Truth: \tB is the mean image and A is the exemplar image\n",
      "Class 1\n",
      "Ground Truth: \tB is the mean image and A is the exemplar image\n",
      "Ground Truth: \tB is the mean image and A is the exemplar image\n",
      "Class 2\n",
      "Ground Truth: \tA is the mean image and B is the exemplar image\n",
      "Ground Truth: \tA is the mean image and B is the exemplar image\n",
      "Class 3\n",
      "Ground Truth: \tB is the mean image and A is the exemplar image\n",
      "Ground Truth: \tB is the mean image and A is the exemplar image\n",
      "Class 4\n",
      "Ground Truth: \tA is the mean image and B is the exemplar image\n",
      "Ground Truth: \tA is the mean image and B is the exemplar image\n",
      "Class 5\n",
      "Ground Truth: \tB is the mean image and A is the exemplar image\n",
      "Ground Truth: \tB is the mean image and A is the exemplar image\n",
      "Class 6\n",
      "Ground Truth: \tA is the mean image and B is the exemplar image\n",
      "Ground Truth: \tA is the mean image and B is the exemplar image\n",
      "Class 7\n",
      "Ground Truth: \tA is the mean image and B is the exemplar image\n",
      "Ground Truth: \tA is the mean image and B is the exemplar image\n",
      "Class 8\n",
      "Ground Truth: \tA is the mean image and B is the exemplar image\n",
      "Ground Truth: \tA is the mean image and B is the exemplar image\n",
      "Class 9\n",
      "Ground Truth: \tA is the mean image and B is the exemplar image\n",
      "Ground Truth: \tA is the mean image and B is the exemplar image\n"
     ]
    }
   ],
   "source": [
    "# Run Code\n",
    "\n",
    "for i in range(10) :\n",
    "    print(f'Class {i}')\n",
    "    if (np.random.uniform(0.0, 1.0) < 0.5) :\n",
    "        A = X_means[i]\n",
    "        B = X_exemplars[i]\n",
    "        print(f'Ground Truth: \\tA is the mean image and B is the exemplar image')\n",
    "        means_exemplars_choose(A, B)\n",
    "    else :\n",
    "        B = X_means[i]\n",
    "        A = X_exemplars[i]\n",
    "        print(f'Ground Truth: \\tB is the mean image and A is the exemplar image')\n",
    "        means_exemplars_choose(A, B)        "
   ]
  },
  {
   "cell_type": "markdown",
   "id": "f282ac4b",
   "metadata": {
    "id": "f282ac4b"
   },
   "source": [
    "## Part 3: Use Fewer Features - PCA\n",
    "\n",
    "In Assignment 1 you became familiar with creating a new feature which was a linear combination of the original features. In this hand written digit recognition problem we have $64$ features per image, i.e. each pixel represents a feature.  As you look at the image you already likely suspect not all pixels are equally useful for predicting the digit label.\n",
    "\n",
    "What if we could find one or two linear combinations of pixels that together made predicting the labels relatively easy?  \n",
    "\n",
    "No surprise the answer is we can do exactly as proposed by this question, and one of the most common ways to find these combinations is using [Principal Components Analysis](https://en.wikipedia.org/wiki/Principal_component_analysis) (PCA).  This has been covered in lecture, but for the sake of clarity, here is a bit of the mathematical setup. \n",
    "\n",
    "Let us be clear here, when we say a linear combination what we mean is a weighted sum of the individual pixel values in and image. Going a bit more into detail, let $w$ be a vector of weights (the length of $w$ is $64$).  Then for an image $x$ (again a vector of length $64$) a new feature $f_1$ is just the weighted sum of pixel values:\n",
    "\n",
    "$$\n",
    "   f_1 = w^T  x\n",
    "$$\n",
    "\n",
    "Now you may start to see one of the underlying reasons that Assignment 1 emphasized projecting a data sample onto a basis vector - the equation above is exactly the same used in Assignment 1 with the caveat that now our original sample $x$ has $64$ elements and therefore $w$ contains $64$ numbers - the weight for each pixel dimension.  Finally, note again that for convenience it is best to normalize $w$ to be of unit length ($w^T w \\: = \\: 1$)"
   ]
  },
  {
   "cell_type": "markdown",
   "id": "617242bb",
   "metadata": {
    "id": "617242bb"
   },
   "source": [
    "### Find the Principal Components\n",
    "\n",
    "You already have an exmaple of code to find the principal components given a set of data samples $X$. Use that knowledge here to applie PCA to the training set of digit images."
   ]
  },
  {
   "cell_type": "code",
   "execution_count": 14,
   "id": "d69041be",
   "metadata": {
    "id": "d69041be"
   },
   "outputs": [],
   "source": [
    "# Write Code\n",
    "\n",
    "from sklearn.decomposition import PCA\n",
    "\n",
    "def find_subspace (X_train, X_test, subspace_dims) :\n",
    "    pca = PCA(n_components=subspace_dims)\n",
    "    pca.fit(X_train)\n",
    "    Xs_train = pca.transform(X_train)\n",
    "    Xs_test = pca.transform(X_test)\n",
    "    return Xs_train, Xs_test, pca\n",
    "   "
   ]
  },
  {
   "cell_type": "markdown",
   "id": "a7e70584",
   "metadata": {
    "id": "a7e70584"
   },
   "source": [
    "### Explore Only 2 Features\n",
    "\n",
    "To take this new ability out for a spin, consider the extreme case posed as a question above.  What about using only the first two principal components."
   ]
  },
  {
   "cell_type": "code",
   "execution_count": 15,
   "id": "28ef8c92",
   "metadata": {
    "id": "28ef8c92",
    "outputId": "671cc414-f5de-4358-f3f9-426928433b37"
   },
   "outputs": [
    {
     "name": "stdout",
     "output_type": "stream",
     "text": [
      "The accuracy is 0.573\n",
      "4.27 s ± 0 ns per loop (mean ± std. dev. of 1 run, 1 loop each)\n"
     ]
    }
   ],
   "source": [
    "# Run Code\n",
    "\n",
    "Xs_train, Xs_test, Pvs = find_subspace(X_train, X_test, 2)\n",
    "\n",
    "%timeit -r 1 -n 1 run_nearest_neighbors(Xs_train, y_train, Xs_test, y_test)\n",
    "# The accuracy is 0.573\n",
    "# 4.87 s ± 0 ns per loop (mean ± std. dev. of 1 run, 1 loop each)\n"
   ]
  },
  {
   "cell_type": "markdown",
   "id": "e9de6a52",
   "metadata": {
    "id": "e9de6a52"
   },
   "source": [
    "As already pointed out in lecture, a two dimensional features space lends itself well to visual inspection.  Run the following code and you should see laid out before the the relative distribution of image as projected onto the first and second principal components.  \n",
    "\n",
    "Please note that while mastering matplotlib is important, creating visually satisfying graphics is a time consuming, intricate, and even at times tedious process. Therefore, please take the time to look carfully at the code below - and perhaps issue a sigh of relief that in this case you were not asked to create it from scratch so as to match the resulting pair of stacked plots. "
   ]
  },
  {
   "cell_type": "code",
   "execution_count": 16,
   "id": "e7e73e84",
   "metadata": {
    "id": "e7e73e84",
    "outputId": "4be801d5-186f-4dac-8850-ea69626ba9ea"
   },
   "outputs": [
    {
     "data": {
      "image/png": "[encoded data removed]",
      "text/plain": [
       "<Figure size 648x1296 with 2 Axes>"
      ]
     },
     "metadata": {
      "needs_background": "light"
     },
     "output_type": "display_data"
    }
   ],
   "source": [
    "# Run Code\n",
    "\n",
    "def plot_train_test_in_subspaces(Xs_train, y_train, Xs_test, y_test) :\n",
    "    my_colors = ['red', 'green', 'blue', 'darkred', 'black', 'darkblue','orange','purple','cyan','magenta']\n",
    "    dig_labels = ['C' + str(i) for i in range(10)]   \n",
    "    fig, axes = plt.subplots(2, 1)\n",
    "    fig.set_size_inches(9, 18)\n",
    "    ax = axes[0]; ax.set_aspect('equal')\n",
    "    for ci in range(10) :\n",
    "        Xs = Xs_train[y_train == ci]\n",
    "        ax.set_xlim((-35,45)); ax.set_ylim((-35,35))\n",
    "        ax.scatter(Xs[:,0], Xs[:,1], c=my_colors[ci], s=12, label=dig_labels[ci], alpha=0.75)\n",
    "        ax.set_xlabel('First PC'); ax.set_ylabel('Second PC')\n",
    "        ax.set_title('Training Images'); ax.legend()\n",
    "    ax = axes[1]; ax.set_aspect('equal')\n",
    "    for ci in range(10) :\n",
    "        Xs = Xs_test[y_test == ci]\n",
    "        ax.set_xlim((-35,45)); ax.set_ylim((-35,35))\n",
    "        ax.scatter(Xs[:,0], Xs[:,1], c=my_colors[ci],s= 12, label=dig_labels[ci], alpha=0.75)\n",
    "        ax.set_xlabel('First PC'); ax.set_ylabel('Second PC')\n",
    "        ax.set_title('Test Images'); ax.legend()\n",
    "    pass\n",
    "\n",
    "plot_train_test_in_subspaces(Xs_train, y_train, Xs_test, y_test)"
   ]
  },
  {
   "cell_type": "markdown",
   "id": "0cc9e41e",
   "metadata": {
    "id": "0cc9e41e"
   },
   "source": [
    "### What about 9 Features\n",
    "\n",
    "You can equally well ask what about going from a $64$ dimensional problem to a $9$ dimensional problem.  \n",
    "\n",
    "How well does a nearest neighbor algorithm perform in this case?"
   ]
  },
  {
   "cell_type": "code",
   "execution_count": 17,
   "id": "10bf1ccb",
   "metadata": {
    "id": "10bf1ccb",
    "outputId": "a29daacf-95fd-466c-d6fc-b273815c970e"
   },
   "outputs": [
    {
     "name": "stdout",
     "output_type": "stream",
     "text": [
      "The accuracy is 0.964\n",
      "3.96 s ± 0 ns per loop (mean ± std. dev. of 1 run, 1 loop each)\n"
     ]
    }
   ],
   "source": [
    "# Run Code\n",
    "\n",
    "Xs_train, Xs_test, Pvs = find_subspace(X_train, X_test, 9)\n",
    "\n",
    "%timeit -r 1 -n 1 run_nearest_neighbors(Xs_train, y_train, Xs_test, y_test)\n",
    "# The accuracy is 0.964\n",
    "# 4.98 s ± 0 ns per loop (mean ± std. dev. of 1 run, 1 loop each)"
   ]
  },
  {
   "cell_type": "code",
   "execution_count": 18,
   "id": "db20932a",
   "metadata": {
    "id": "db20932a"
   },
   "outputs": [],
   "source": [
    "# Write Code\n",
    "\n",
    "def generate_accuracy_for_sizes(X_train, y_train, X_test, y_test, dims_min = 2, dims_max = 16) :\n",
    "    acc_for_size = []\n",
    "    for i in range(dims_min, dims_max):\n",
    "        \n",
    "        Xs_train, Xs_test, Pvs = find_subspace(X_train, X_test, i)\n",
    "        acc = run_nearest_neighbors(Xs_train, y_train, Xs_test, y_test)\n",
    "        \n",
    "        acc_for_size.append([i, acc])\n",
    "        \n",
    "    return np.array(acc_for_size)\n",
    "    \n",
    "  "
   ]
  },
  {
   "cell_type": "markdown",
   "id": "3bc68be6",
   "metadata": {
    "id": "3bc68be6"
   },
   "source": [
    "Now run the following code to plot the accuracy versus subspace size.\n",
    "\n",
    "Keep in mind this may take a bit of time to accomplish so feel free to comment out the function call when testing other portions of this notebook."
   ]
  },
  {
   "cell_type": "code",
   "execution_count": 19,
   "id": "f5bdddb4",
   "metadata": {
    "id": "f5bdddb4",
    "outputId": "13c95180-909b-42db-f00a-de7a2825e3ee"
   },
   "outputs": [
    {
     "name": "stdout",
     "output_type": "stream",
     "text": [
      "The accuracy is 0.573\n",
      "The accuracy is 0.726\n",
      "The accuracy is 0.822\n",
      "The accuracy is 0.913\n",
      "The accuracy is 0.921\n",
      "The accuracy is 0.951\n",
      "The accuracy is 0.953\n",
      "The accuracy is 0.964\n",
      "The accuracy is 0.972\n",
      "The accuracy is 0.969\n",
      "The accuracy is 0.969\n",
      "The accuracy is 0.972\n",
      "The accuracy is 0.980\n",
      "The accuracy is 0.977\n"
     ]
    },
    {
     "data": {
      "image/png": "[encoded data removed]",
      "text/plain": [
       "<Figure size 432x288 with 1 Axes>"
      ]
     },
     "metadata": {
      "needs_background": "light"
     },
     "output_type": "display_data"
    }
   ],
   "source": [
    "# Run Code\n",
    "\n",
    "def plot_subspace_size_vs_accuracy (X_train, y_train, X_test, y_test) :\n",
    "    accs = generate_accuracy_for_sizes(X_train, y_train, X_test, y_test)\n",
    "    plt.plot(accs[:,0], accs[:,1])\n",
    "    plt.xlabel('Subspace Size')\n",
    "    plt.ylabel('Test Set Accuracy')\n",
    "#     pass\n",
    "\n",
    "plot_subspace_size_vs_accuracy (X_train, y_train, X_test, y_test) "
   ]
  },
  {
   "cell_type": "markdown",
   "id": "1b343c51",
   "metadata": {
    "id": "1b343c51"
   },
   "source": [
    "## Part 4: K Nearest Neighbors\n",
    "\n",
    "So far it appears the nearest neighbors algorithm on the digits data set is performing very well with test set accuracy exceeding $98$ percent.  One way to attempt to squeeze a bit more performance out of the algorithm is to use the $k$ nearest neighbors extension of the original nearest neighbors algorithm. In other word, find the $k$ nearest neighbors to an unlabeled sample and then let these labled samples vote for the most likely label. \n",
    "\n",
    "Here please implement a new class of labeling algorithms which is a $k$ nearest neighbor algorithm rather than the previous which amounts to a $k=1$ algorithm"
   ]
  },
  {
   "cell_type": "code",
   "execution_count": 20,
   "id": "f04d10ed",
   "metadata": {
    "id": "f04d10ed"
   },
   "outputs": [],
   "source": [
    "# Write Code\n",
    "\n",
    "class k_nearest_neighbor:\n",
    "    def __init__(self):\n",
    "        pass\n",
    "    def fit(self, X, y):\n",
    "        self.X = X\n",
    "        self.y = y\n",
    "    def get_nearest(self, x, n):\n",
    "        distances = [distance(x, self.X[i]) \n",
    "                     for i in range(len(self.X))]\n",
    "        return np.array(distances).argsort()[:n]\n",
    "    def predict(self, x, n) :\n",
    "        votes = self.y[self.get_nearest(x, n)]\n",
    "        democracy = stats.mode(votes)\n",
    "        return democracy.mode[0]\n",
    "   \n",
    "   "
   ]
  },
  {
   "cell_type": "code",
   "execution_count": 21,
   "id": "7386413e",
   "metadata": {
    "id": "7386413e"
   },
   "outputs": [],
   "source": [
    "# Run Code\n",
    "\n",
    "def run_k_nearest_neighbors(k, X_train, y_train, X_test, y_test) :\n",
    "    knn = k_nearest_neighbor()\n",
    "    knn.fit(X_train, y_train)\n",
    "    y_pred = np.array([knn.predict(X_test[i],k) for i in range(len(X_test))])\n",
    "    acc = np.sum(y_pred == y_test)/len(y_test)\n",
    "    # print(f'The accuracy is {acc:.3f}')\n",
    "    return acc"
   ]
  },
  {
   "cell_type": "markdown",
   "id": "265e1a7f",
   "metadata": {
    "id": "265e1a7f"
   },
   "source": [
    "Now let us use the $k$ nearest neighbor algorithm and are nearly 50-50 training test split to look at how accuracy changes as a function of $k$ in the range of $1$ to $7$."
   ]
  },
  {
   "cell_type": "code",
   "execution_count": 22,
   "id": "7d75eb89",
   "metadata": {
    "id": "7d75eb89",
    "outputId": "64e91deb-e942-493f-eda2-abb486a552c3"
   },
   "outputs": [
    {
     "name": "stdout",
     "output_type": "stream",
     "text": [
      "For k equals 1 the accuracy is 0.9833\n",
      "For k equals 2 the accuracy is 0.9822\n",
      "For k equals 3 the accuracy is 0.9867\n",
      "For k equals 4 the accuracy is 0.9822\n",
      "For k equals 5 the accuracy is 0.9755\n",
      "For k equals 6 the accuracy is 0.9733\n",
      "For k equals 7 the accuracy is 0.9711\n"
     ]
    }
   ],
   "source": [
    "# Run Code\n",
    "\n",
    "for i in range(1,8) :\n",
    "    acc = run_k_nearest_neighbors(i, X_train, y_train, X_test, y_test)\n",
    "    print(f'For k equals {i} the accuracy is {acc:.4f}')\n",
    "\n",
    "\n",
    "# For k equals 1 the accuracy is 0.9833\n",
    "# For k equals 2 the accuracy is 0.9822\n",
    "# For k equals 3 the accuracy is 0.9867\n",
    "# For k equals 4 the accuracy is 0.9822\n",
    "# For k equals 5 the accuracy is 0.9755\n",
    "# For k equals 6 the accuracy is 0.9733\n",
    "# For k equals 7 the accuracy is 0.9711"
   ]
  },
  {
   "cell_type": "markdown",
   "id": "5454a765",
   "metadata": {
    "id": "5454a765"
   },
   "source": [
    "Note that the role of training and test can be reversed, so repeated the above switching the training for the test and vice-versa"
   ]
  },
  {
   "cell_type": "code",
   "execution_count": 23,
   "id": "f3dffa37",
   "metadata": {
    "id": "f3dffa37",
    "outputId": "fd825243-9d2c-4cb6-c099-8a0933cb3d99"
   },
   "outputs": [
    {
     "name": "stdout",
     "output_type": "stream",
     "text": [
      "For k equals 1 the accuracy is 0.9822\n",
      "For k equals 2 the accuracy is 0.9755\n",
      "For k equals 3 the accuracy is 0.9833\n",
      "For k equals 4 the accuracy is 0.9755\n",
      "For k equals 5 the accuracy is 0.9788\n",
      "For k equals 6 the accuracy is 0.9733\n",
      "For k equals 7 the accuracy is 0.9766\n"
     ]
    }
   ],
   "source": [
    "# Run Code\n",
    "\n",
    "for i in range(1,8) :\n",
    "    acc = run_k_nearest_neighbors(i,X_test, y_test, X_train, y_train )\n",
    "    print(f'For k equals {i} the accuracy is {acc:.4f}')\n",
    "    \n",
    "# For k equals 1 the accuracy is 0.9822\n",
    "# For k equals 2 the accuracy is 0.9755\n",
    "# For k equals 3 the accuracy is 0.9833\n",
    "# For k equals 4 the accuracy is 0.9755\n",
    "# For k equals 5 the accuracy is 0.9788\n",
    "# For k equals 6 the accuracy is 0.9733\n",
    "# For k equals 7 the accuracy is 0.9766"
   ]
  },
  {
   "cell_type": "markdown",
   "id": "391b1ba8",
   "metadata": {
    "id": "391b1ba8"
   },
   "source": [
    "## Part 5: Mistakes Were Made\n",
    "\n",
    "It should be standing out to you now that it seems that even when trying several different tricks to either improve speed and/or improve accuracy there remains a ceiling on the level of performance for the digit dataset.\n",
    "\n",
    "Why might that be?\n",
    "\n",
    "Moreover, this is not unusual for a machine learning problem.  At this point working with a dataset it is time to stop treating accuracy as a black box and start pocking around in an effort to make sense of the mistakes being made by the labeling algorithm. \n"
   ]
  },
  {
   "cell_type": "markdown",
   "id": "b25cf4f5",
   "metadata": {
    "id": "b25cf4f5"
   },
   "source": [
    "### Return Failed Matches (tests)\n",
    "\n",
    "The approach you are to follow here is to extend the functionality of the nearest neighbor classifier with a single new method ```mistakes```.\n",
    "\n",
    "This method is to be run after the data is fit to the model - which for this algorithm means after the traning samples and labels are store (memorized). The method takes an entire test set of images and corresponding labels.\n",
    "\n",
    "The ```mistakes``` method returns a list of dictionaries. To be more precise, it returns a list of individual mistakes wehre a mistake is itself a dictionary with four named elements. These are in order: \n",
    "\n",
    "- ```test``` a test image mislabeled\n",
    "- ```match``` the training image closest to the test image\n",
    "- ```true``` the true label of the test image\n",
    "- ```pred``` the predicted label of the test image"
   ]
  },
  {
   "cell_type": "code",
   "execution_count": 24,
   "id": "1ef8d7c0",
   "metadata": {
    "id": "1ef8d7c0"
   },
   "outputs": [],
   "source": [
    "# Write Code\n",
    "\n",
    "class nearest_neighbor_extended:\n",
    "    def __init__(self):\n",
    "        pass\n",
    "    def fit(self, X, y):\n",
    "        self.X = X\n",
    "        self.y = y\n",
    "    def get_nearest(self, x):\n",
    "        distances = [distance(x, self.X[i]) \n",
    "                     for i in range(len(self.X))]\n",
    "        return np.argmin(distances)\n",
    "    def predict(self, x) :\n",
    "        nearest = self.get_nearest(x)\n",
    "        return self.y[nearest], nearest\n",
    "    def mistakes(self, X_test, y_test):\n",
    "        misses = []\n",
    "        y_pred = np.array([self.predict(X_test[i]) for i in range(len(X_test))])\n",
    "\n",
    "        for i in range(len(y_test)):\n",
    "            if y_test[i] != y_pred[i][0]:\n",
    "                miss = {}\n",
    "                miss['test'] = X_test[i]\n",
    "                miss['match'] = self.X[y_pred[i][1]]\n",
    "                miss['true'] = y_test[i]\n",
    "                miss['pred'] = y_pred[i][0]\n",
    "                misses.append(miss)\n",
    "        return misses\n",
    "                "
   ]
  },
  {
   "cell_type": "code",
   "execution_count": 25,
   "id": "9021ac8f",
   "metadata": {
    "id": "9021ac8f"
   },
   "outputs": [],
   "source": [
    "# Run Code\n",
    "\n",
    "nne = nearest_neighbor_extended()\n",
    "nne.fit(X_train, y_train)\n",
    "failed_matches = nne.mistakes(X_test, y_test)"
   ]
  },
  {
   "cell_type": "code",
   "execution_count": 26,
   "id": "26203cee",
   "metadata": {
    "id": "26203cee"
   },
   "outputs": [],
   "source": [
    "# Run Code\n",
    "\n",
    "def plot_false_matches(fms) :\n",
    "    num_fm    = len(fms)\n",
    "    num_plots = num_fm * 2\n",
    "    pairs_per_line = 3\n",
    "    cols = 2 * pairs_per_line\n",
    "    rowis = [i // cols for i in range(num_plots)]\n",
    "    colis = [i % cols for i in range(num_plots)]\n",
    "    rows = max(rowis) + 1\n",
    "    fig, axes = plt.subplots(rows, cols)\n",
    "    fig.set_size_inches(8, 11)\n",
    "    for i in range(num_plots) :\n",
    "        fm = fms[i // 2]\n",
    "        ax = axes[rowis[i]][colis[i]]\n",
    "        ax.set_axis_off()\n",
    "        if (i % 2 == 0) :\n",
    "            img = np.resize(fm['test'], (8,8))\n",
    "            ax.imshow(img, cmap=plt.cm.gray_r, interpolation='nearest')\n",
    "            ax.set_title('True: %i' % fm['true'])\n",
    "        else :\n",
    "            img = np.resize(fm['match'], (8,8))\n",
    "            ax.imshow(img, cmap=plt.cm.gray_r, interpolation='nearest')\n",
    "            ax.set_title('Match: %i' % fm['pred'])\n",
    "    pass"
   ]
  },
  {
   "cell_type": "code",
   "execution_count": 27,
   "id": "0f2cf208",
   "metadata": {
    "id": "0f2cf208",
    "outputId": "8a8a86d7-4de9-429b-fa28-99b4f8a32d80"
   },
   "outputs": [
    {
     "data": {
      "image/png": "[encoded data removed]",
      "text/plain": [
       "<Figure size 576x792 with 30 Axes>"
      ]
     },
     "metadata": {
      "needs_background": "light"
     },
     "output_type": "display_data"
    }
   ],
   "source": [
    "# Run Code\n",
    "\n",
    "plot_false_matches(failed_matches)"
   ]
  },
  {
   "cell_type": "markdown",
   "id": "2f346e6c",
   "metadata": {
    "id": "2f346e6c"
   },
   "source": [
    "## Part 6: What do People Think?\n",
    "\n",
    "Now that you have a list of dictionaries summarizing the mistakes made by the nearest neighbor classifier it is worth taking a moment to ask how well people do classifying these images.  \n",
    "\n",
    "Indeed, you must to complete this section do two things. First, generate pdf images of the images that participated in the false matches shown above.  Two, present printed versions of these to at least two friends and have them in pen have them write the label they think best fits each images.  Yes, they may be doing a lot if intelligent guessing."
   ]
  },
  {
   "cell_type": "code",
   "execution_count": 28,
   "id": "7412fc3d",
   "metadata": {
    "id": "7412fc3d"
   },
   "outputs": [],
   "source": [
    "# Write Code\n",
    "\n",
    "def shuffle_failed_matches (fms, rseed) :\n",
    "\n",
    "    not_shuffled = []\n",
    "    \n",
    "    for image in fms:\n",
    "        not_shuffled.append({'im': image['test'], 'label': image['true']})\n",
    "        not_shuffled.append({'im': image['match'], 'label': image['pred']})\n",
    "        \n",
    "    rng = np.random.default_rng(rseed)\n",
    "    shuffled = rng.permutation(not_shuffled)\n",
    "    return shuffled\n"
   ]
  },
  {
   "cell_type": "markdown",
   "id": "8b316ba4",
   "metadata": {
    "id": "8b316ba4"
   },
   "source": [
    "The ```shuffle_failed_matches``` will create an array of dictionaries.  Each dictionary element is a pair.  The first is named ```im``` and the associated value is an image. The image is either a test image or a nearest neighbor match to a test image from the ```failed_matches``` created above. When you have implemented ```shuffle_failed_matches``` correctly you should get output matching the following when you run the next code cell."
   ]
  },
  {
   "cell_type": "code",
   "execution_count": 29,
   "id": "19ef35ba",
   "metadata": {
    "id": "19ef35ba",
    "outputId": "12b26a13-2180-414c-f219-ec636d89385c"
   },
   "outputs": [
    {
     "name": "stdout",
     "output_type": "stream",
     "text": [
      "Image [ 0.  0.  6. 15. 12.  5.  0.  0.] ... Label 1\n",
      "Image [ 0.  0.  5. 16. 14.  2.  0.  0.] ... Label 2\n",
      "Image [ 0.  0.  7. 16. 13.  4.  0.  0.] ... Label 1\n",
      "Image [ 0.  0.  6. 13. 10.  4.  0.  0.] ... Label 9\n",
      "Image [ 0.  0. 12. 10.  0.  0.  0.  0.] ... Label 5\n",
      "Image [ 0.  0.  9. 16. 16. 10.  0.  0.] ... Label 3\n",
      "Image [ 0.  0.  5. 13.  0.  0.  0.  0.] ... Label 4\n",
      "Image [ 0.  0.  2.  9. 14. 16. 15.  0.] ... Label 7\n",
      "Image [ 0.  0.  2. 10. 16. 11.  1.  0.] ... Label 9\n",
      "Image [ 0.  0.  6. 11. 16. 13.  5.  0.] ... Label 3\n",
      "Image [ 0.  0.  1. 12. 11.  1.  0.  0.] ... Label 1\n",
      "Image [ 0.  0.  3. 11. 14. 12.  3.  0.] ... Label 3\n",
      "Image [ 0.  0.  0.  0. 11. 12.  0.  0.] ... Label 1\n",
      "Image [ 0.  0.  5. 12.  8.  0.  1.  0.] ... Label 8\n",
      "Image [ 0.  0.  7. 13. 15.  5.  0.  0.] ... Label 8\n",
      "Image [ 0.  0.  0.  9. 15. 12.  1.  0.] ... Label 9\n",
      "Image [ 0.  0.  3.  4. 10.  0.  0.  0.] ... Label 9\n",
      "Image [ 0.  0.  8. 16. 16. 12.  0.  0.] ... Label 3\n",
      "Image [ 0.  0.  2. 13. 15.  1.  0.  0.] ... Label 8\n",
      "Image [ 0.  0.  2. 13. 16. 14.  1.  0.] ... Label 7\n",
      "Image [ 0.  0.  7. 15. 16. 16.  1.  0.] ... Label 5\n",
      "Image [ 0.  0.  4.  9. 13.  5.  0.  0.] ... Label 8\n",
      "Image [ 0.  0.  7. 16. 16.  8.  0.  0.] ... Label 9\n",
      "Image [ 0.  0.  8. 16.  3.  0.  1.  0.] ... Label 8\n",
      "Image [ 0.  0.  4.  6. 11. 14.  6.  0.] ... Label 7\n",
      "Image [ 0.  0.  6. 12. 13.  6.  0.  0.] ... Label 9\n",
      "Image [ 0.  0.  6. 10.  9.  4.  0.  0.] ... Label 8\n",
      "Image [ 0.  0.  1.  9. 15.  5.  0.  0.] ... Label 3\n",
      "Image [ 0.  0.  7. 15. 16. 12.  0.  0.] ... Label 9\n",
      "Image [ 0.  0.  0.  0. 13. 11.  0.  0.] ... Label 4\n"
     ]
    }
   ],
   "source": [
    "# Run Code\n",
    "\n",
    "images_to_review = shuffle_failed_matches(failed_matches, 42)\n",
    "for img_label in images_to_review :\n",
    "    x = img_label['im']\n",
    "    l = img_label['label']\n",
    "    print(f'Image {x[0:8]} ... Label {l}')"
   ]
  },
  {
   "cell_type": "markdown",
   "id": "e677c44d",
   "metadata": {
    "id": "e677c44d"
   },
   "source": [
    "As was done above, the following is a relatively complex plotting function and it is being given to you."
   ]
  },
  {
   "cell_type": "code",
   "execution_count": 30,
   "id": "b077566c",
   "metadata": {
    "id": "b077566c"
   },
   "outputs": [],
   "source": [
    "# Run Code \n",
    "\n",
    "def plot_permuted_failed_match_images(fms, rseed, show_labels=True, file_name='') :\n",
    "    num_plots = len(fms)\n",
    "    pairs_per_line = 3\n",
    "    cols = 2 * pairs_per_line\n",
    "    rowis = [i // cols for i in range(num_plots)]\n",
    "    colis = [i % cols for i in range(num_plots)]\n",
    "    rows = max(rowis) + 1\n",
    "    fig, axes = plt.subplots(rows, cols)\n",
    "    fig.set_size_inches(8, 11)\n",
    "    fig.suptitle('Images in randomized order with seed %i' % rseed)\n",
    "    for i in range(num_plots) :\n",
    "        fm = fms[i]\n",
    "        ax = axes[rowis[i]][colis[i]]\n",
    "        ax.set_axis_off()\n",
    "        img = np.resize(fm['im'], (8,8))\n",
    "        ax.imshow(img, cmap=plt.cm.gray_r, interpolation='nearest')\n",
    "        if show_labels : \n",
    "            ax.set_title('Label: %i' % fm['label'])\n",
    "    if (file_name != '') :\n",
    "        plt.savefig(file_name)\n",
    "    pass"
   ]
  },
  {
   "cell_type": "markdown",
   "id": "dd5e0cd9",
   "metadata": {
    "id": "dd5e0cd9"
   },
   "source": [
    "### How do people perform?\n",
    "\n",
    "You last task is to take the code below, change the random seed, and run the code.  It will generate two PDF files. Print out one copy of the figure with labels.  Print out 2 copies without labels and give one each to a different friend or family member and have them write in pen what digit they think each represents.  "
   ]
  },
  {
   "cell_type": "code",
   "execution_count": 31,
   "id": "c2a393de",
   "metadata": {
    "id": "c2a393de",
    "outputId": "e8c80032-83d8-40bd-e460-56a753e5e10b"
   },
   "outputs": [
    {
     "data": {
      "image/png": "[encoded data removed]",
      "text/plain": [
       "<Figure size 576x792 with 30 Axes>"
      ]
     },
     "metadata": {
      "needs_background": "light"
     },
     "output_type": "display_data"
    },
    {
     "data": {
      "image/png": "[encoded data removed]",
      "text/plain": [
       "<Figure size 576x792 with 30 Axes>"
      ]
     },
     "metadata": {
      "needs_background": "light"
     },
     "output_type": "display_data"
    }
   ],
   "source": [
    "# Pick a seed that is not 42 and unlikely to be used by other students\n",
    "rseed = 17\n",
    "\n",
    "# Run Code\n",
    "images_to_review = shuffle_failed_matches(failed_matches, rseed)\n",
    "plot_permuted_failed_match_images(images_to_review, rseed, show_labels=True, \n",
    "                                  file_name='hard_digits_labeled.pdf')\n",
    "plot_permuted_failed_match_images(images_to_review, rseed, show_labels=False, \n",
    "                                  file_name='hard_digits_no_labels.pdf')"
   ]
  },
  {
   "cell_type": "markdown",
   "id": "5fc70091",
   "metadata": {
    "id": "5fc70091"
   },
   "source": [
    "### Wrap Up \n",
    "\n",
    "Now please add to this markdown cell the results for you two person experiment.  Namely, how many did the first person label correctly? How many did the second person label correctly?  Comment briefly about what you think this tells us about expecting perfect performance on the digits dataset. "
   ]
  },
  {
   "cell_type": "markdown",
   "id": "306cc45d",
   "metadata": {
    "id": "f1a92475"
   },
   "source": [
    "The first person got 20 out of 30 correctly\n",
    "The second person got 24 out of 30\n",
    "\n",
    "It's unrealistic to expect 100% accuracy from a machine learning model when even people are not able to get everything a 100% correct. I think it depend very much on the dataset, if the values are too similar, or so confusing that it's impossible to tell, we should"
   ]
  }
 ],
 "metadata": {
  "colab": {
   "name": "CS345_Assignment_02_answers.ipynb",
   "provenance": []
  },
  "kernelspec": {
   "display_name": "Python 3 (ipykernel)",
   "language": "python",
   "name": "python3"
  },
  "language_info": {
   "codemirror_mode": {
    "name": "ipython",
    "version": 3
   },
   "file_extension": ".py",
   "mimetype": "text/x-python",
   "name": "python",
   "nbconvert_exporter": "python",
   "pygments_lexer": "ipython3",
   "version": "3.9.6"
  }
 },
 "nbformat": 4,
 "nbformat_minor": 5
}
